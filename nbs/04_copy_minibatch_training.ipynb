{
 "cells": [
  {
   "cell_type": "code",
   "execution_count": 1,
   "id": "e4efac3d-bdc8-4fb1-90b2-e582af705f5e",
   "metadata": {},
   "outputs": [],
   "source": [
    "#| default_exp training"
   ]
  },
  {
   "cell_type": "code",
   "execution_count": 2,
   "id": "380489cc-4bcc-4ece-94ef-bf0540944f53",
   "metadata": {},
   "outputs": [],
   "source": [
    "#|export \n",
    "import pickle,gzip,math,os,time,shutil,torch,matplotlib as mpl,numpy as np,matplotlib.pyplot as plt\n",
    "from pathlib import Path\n",
    "from torch import tensor,nn\n",
    "import torch.nn.functional as F"
   ]
  },
  {
   "cell_type": "code",
   "execution_count": 3,
   "id": "e87115a7-8236-429b-ac0c-0246fab6f360",
   "metadata": {},
   "outputs": [],
   "source": [
    "from fastcore.test import test_close\n",
    "\n",
    "torch.set_printoptions(precision=2, linewidth=140, sci_mode=False)\n",
    "torch.manual_seed(1)\n",
    "mpl.rcParams['image.cmap'] = 'gray'\n",
    "\n",
    "path_data = Path('data')\n",
    "path_gz = path_data/'mnist.pkl.gz'\n",
    "with gzip.open(path_gz, 'rb') as f: ((x_train, y_train), (x_valid, y_valid), _) = pickle.load(f, encoding='latin-1')\n",
    "x_train, y_train, x_valid, y_valid = map(tensor, [x_train, y_train, x_valid, y_valid])"
   ]
  },
  {
   "cell_type": "code",
   "execution_count": 4,
   "id": "bab6bb52-49ab-406d-882c-a485c762c93e",
   "metadata": {},
   "outputs": [],
   "source": [
    "n,m = x_train.shape\n",
    "c = y_train.max()+1\n",
    "nh = 50"
   ]
  },
  {
   "cell_type": "code",
   "execution_count": 5,
   "id": "2f426c00-3cdf-46bc-bb1e-e1184afd7641",
   "metadata": {},
   "outputs": [],
   "source": [
    "class Model(nn.Module):\n",
    "    def __init__(self, n_in, nh, n_out):\n",
    "        super().__init__()\n",
    "        self.layers = [nn.Linear(n_in,nh), nn.ReLU(), nn.Linear(nh, nh), nn.Linear(nh, nh), nn.ReLU(), nn.Linear(nh, nh), nn.ReLU(), nn.Linear(nh, nh), nn.ReLU(), nn.ReLU(), nn.Linear(nh, nh), nn.ReLU(), nn.Linear(nh, nh), nn.ReLU(), nn.Linear(nh, nh), nn.ReLU(), nn.Linear(nh,n_out)]\n",
    "        self.layers = [l.to('cuda') for l in self.layers] \n",
    "        \n",
    "    def __call__(self, x):\n",
    "        for l in self.layers: x = l(x)\n",
    "        return x"
   ]
  },
  {
   "cell_type": "code",
   "execution_count": 6,
   "id": "062bc56d-d875-4d0b-9509-0f82af3255a2",
   "metadata": {},
   "outputs": [],
   "source": [
    "x_train,y_train,x_valid,y_valid = tuple(map(lambda x: x.to('cuda'), (x_train,y_train,x_valid,y_valid)))"
   ]
  },
  {
   "cell_type": "code",
   "execution_count": 7,
   "id": "c241f3d1-4038-4336-b650-0a4dfca22fb1",
   "metadata": {},
   "outputs": [
    {
     "data": {
      "text/plain": [
       "torch.Size([50000, 10])"
      ]
     },
     "execution_count": 7,
     "metadata": {},
     "output_type": "execute_result"
    }
   ],
   "source": [
    "model = Model(m, nh, 10)\n",
    "pred = model(x_train)\n",
    "pred.shape"
   ]
  },
  {
   "cell_type": "code",
   "execution_count": 8,
   "id": "92f1d991-ea3b-423b-9d3a-78abc96c1e0e",
   "metadata": {},
   "outputs": [],
   "source": [
    "v=torch.randn((2,5))"
   ]
  },
  {
   "cell_type": "code",
   "execution_count": 9,
   "id": "93130629-c8da-4623-ba71-8ca4b7548151",
   "metadata": {},
   "outputs": [
    {
     "data": {
      "text/plain": [
       "(tensor([[-0.49, -0.35,  1.81, -0.78, -0.88],\n",
       "         [-1.12, -0.28, -0.18,  1.13,  0.65]]),\n",
       " tensor([[0.61, 0.70, 6.12, 0.46, 0.41],\n",
       "         [0.33, 0.76, 0.83, 3.09, 1.91]]))"
      ]
     },
     "execution_count": 9,
     "metadata": {},
     "output_type": "execute_result"
    }
   ],
   "source": [
    "v,v.exp()"
   ]
  },
  {
   "cell_type": "code",
   "execution_count": 10,
   "id": "5e93741e-bae0-4f7d-b2d4-dcedd2acd46c",
   "metadata": {},
   "outputs": [],
   "source": [
    "def softmax(x):\n",
    "    num = x.exp()\n",
    "    '''\n",
    "    assuming rank-2 input: each row is a 1-rank vector of predictions for a single example. sum(1) adds across columns.\n",
    "    [:, None] is equivalent to keepdim=True, makes sure the result is a column vector so that each row of numerator is all elementwise divided by the corresponding sum of that row\n",
    "    '''\n",
    "    denom = x.exp().sum(1)[:,None]\n",
    "    return (num / denom)"
   ]
  },
  {
   "cell_type": "code",
   "execution_count": 11,
   "id": "1dbbb52d-8c23-4af8-b89d-b375efb811bc",
   "metadata": {},
   "outputs": [
    {
     "data": {
      "text/plain": [
       "(tensor([1., 1.]),\n",
       " tensor([[1.],\n",
       "         [1.]]))"
      ]
     },
     "execution_count": 11,
     "metadata": {},
     "output_type": "execute_result"
    }
   ],
   "source": [
    "s = softmax(v)\n",
    "s.sum(1),s.sum(1,keepdim=True)\n"
   ]
  },
  {
   "cell_type": "code",
   "execution_count": 12,
   "id": "2357ccc7-edab-4a7b-8f0d-09e48bae9a0e",
   "metadata": {},
   "outputs": [],
   "source": [
    "import math"
   ]
  },
  {
   "cell_type": "code",
   "execution_count": 13,
   "id": "81b88a5f-9a1b-403e-bd81-b76e3ad7ec7d",
   "metadata": {},
   "outputs": [
    {
     "name": "stdout",
     "output_type": "stream",
     "text": [
      "1\t\t2.718281828459045\t\t0.36787944117144233\n",
      "10\t\t22026.465794806718\t\t4.5399929762484854e-05\n",
      "100\t\t2.6881171418161356e+43\t\t3.720075976020836e-44\n"
     ]
    }
   ],
   "source": [
    "l=[1,10,100]\n",
    "for k in l:\n",
    "    print(k, math.exp(k), math.exp(-k), sep='\\t\\t')"
   ]
  },
  {
   "cell_type": "code",
   "execution_count": 14,
   "id": "8e55f8f6-3fa4-4864-a299-1f2b7d054147",
   "metadata": {},
   "outputs": [],
   "source": [
    "def logsumexp(x):\n",
    "    maxv = x.max(1)[0][:,None]\n",
    "    return maxv + (x - maxv).exp().sum(1, keepdim=True).log()"
   ]
  },
  {
   "cell_type": "code",
   "execution_count": 15,
   "id": "2e9fc57c-37c3-4fe3-b536-c6b2e2241cba",
   "metadata": {},
   "outputs": [],
   "source": [
    "def log_softmax(x):\n",
    "    return x-logsumexp(x)"
   ]
  },
  {
   "cell_type": "code",
   "execution_count": 16,
   "id": "8c701f33-ade5-41c9-950d-68d8fd5a55d3",
   "metadata": {},
   "outputs": [
    {
     "data": {
      "text/plain": [
       "(tensor([[   11.10],\n",
       "         [-9999.31],\n",
       "         [  101.10]]),\n",
       " tensor([[    -1.10,     -1.10,     -1.10],\n",
       "         [    -0.69,     -0.69, -90000.70],\n",
       "         [    -1.10,     -1.10,     -1.10]]),\n",
       " tensor([[0.33, 0.33, 0.33],\n",
       "         [0.50, 0.50, 0.00],\n",
       "         [0.33, 0.33, 0.33]]))"
      ]
     },
     "execution_count": 16,
     "metadata": {},
     "output_type": "execute_result"
    }
   ],
   "source": [
    "x=tensor([[10,10,10],\n",
    "        [-10000,-10000,-100000],\n",
    "        [100,100,100]])\n",
    "logsumexp(x),log_softmax(x),log_softmax(x).exp()#,softmax(x),softmax(x).log()"
   ]
  },
  {
   "cell_type": "code",
   "execution_count": 17,
   "id": "ef17e5b3-96bd-4697-ace0-bac2ee33ef1e",
   "metadata": {},
   "outputs": [],
   "source": [
    "def nll_loss(logpreds, targ):\n",
    "    return -logpreds[range(targ.shape[0]), targ].mean()"
   ]
  },
  {
   "cell_type": "code",
   "execution_count": 18,
   "id": "40bea322-dca4-4f26-bea1-aefd87a43ef0",
   "metadata": {},
   "outputs": [
    {
     "data": {
      "text/plain": [
       "(tensor([[    -1.10,     -1.10,     -1.10],\n",
       "         [    -0.69,     -0.69, -90000.70],\n",
       "         [    -1.10,     -1.10,     -1.10]]),\n",
       " tensor([    -1.10, -90000.70,     -1.10]),\n",
       " tensor([[    -1.10,     -1.10,     -1.10],\n",
       "         [    -0.69, -90000.70, -90000.70],\n",
       "         [    -1.10,     -1.10,     -1.10]]))"
      ]
     },
     "execution_count": 18,
     "metadata": {},
     "output_type": "execute_result"
    }
   ],
   "source": [
    "logp = log_softmax(x)\n",
    "targ=tensor([0,2,2])\n",
    "logp,logp.exp(),targ\n",
    "logp,logp[torch.arange(0,targ.shape[0]),targ],logp[:,targ]"
   ]
  },
  {
   "cell_type": "code",
   "execution_count": 19,
   "id": "c962c3ff-5155-4383-94ac-3edf2c0f82c9",
   "metadata": {},
   "outputs": [
    {
     "data": {
      "text/plain": [
       "tensor(30000.97)"
      ]
     },
     "execution_count": 19,
     "metadata": {},
     "output_type": "execute_result"
    }
   ],
   "source": [
    "nll_loss(logp, targ)"
   ]
  },
  {
   "cell_type": "code",
   "execution_count": 20,
   "id": "010dd48f-aa99-445e-9c30-c5eb939ba135",
   "metadata": {},
   "outputs": [
    {
     "data": {
      "text/plain": [
       "(torch.Size([3, 3]),\n",
       " tensor([[0.33, 0.33, 0.33],\n",
       "         [0.50, 0.50, 0.00],\n",
       "         [0.33, 0.33, 0.33]]))"
      ]
     },
     "execution_count": 20,
     "metadata": {},
     "output_type": "execute_result"
    }
   ],
   "source": [
    "logsmpred=log_softmax(logp)\n",
    "logsmpred.shape,logsmpred[:5].exp()"
   ]
  },
  {
   "cell_type": "code",
   "execution_count": 21,
   "id": "fc27067b-e2ab-40f5-8928-c0089bb28071",
   "metadata": {},
   "outputs": [
    {
     "data": {
      "text/plain": [
       "tensor([5, 0, 4], device='cuda:0')"
      ]
     },
     "execution_count": 21,
     "metadata": {},
     "output_type": "execute_result"
    }
   ],
   "source": [
    "y_train[:3]"
   ]
  },
  {
   "cell_type": "code",
   "execution_count": 22,
   "id": "314068f7-655c-4524-9e73-65a12483ce0e",
   "metadata": {},
   "outputs": [
    {
     "data": {
      "text/plain": [
       "tensor(2.31, device='cuda:0', grad_fn=<NllLossBackward0>)"
      ]
     },
     "execution_count": 22,
     "metadata": {},
     "output_type": "execute_result"
    }
   ],
   "source": [
    "'''\n",
    "F.cross_entropy(x,y) = F.nll_loss(F.log_softmax(pred), y)\n",
    "'''\n",
    "F.cross_entropy(pred, y_train)"
   ]
  },
  {
   "cell_type": "code",
   "execution_count": 23,
   "id": "4ca005bb-dbb1-4dd8-b8c9-7e79b37df676",
   "metadata": {},
   "outputs": [],
   "source": [
    "loss_func = F.cross_entropy\n",
    "bs = 50\n",
    "#x_train,y_train,x_valid,y_valid = tuple(map(lambda x: x.to('cpu'), (x_train,y_train,x_valid,y_valid)))"
   ]
  },
  {
   "cell_type": "code",
   "execution_count": 24,
   "id": "18ad5dae-97f0-4043-aa71-4f6410aafd76",
   "metadata": {},
   "outputs": [],
   "source": [
    "#|export\n",
    "def accuracy(preds, yb):\n",
    "    return (preds.argmax(dim=1) == yb).float().mean()"
   ]
  },
  {
   "cell_type": "code",
   "execution_count": 25,
   "id": "1601f2db-aab5-4c2d-afc1-cf614cdd2471",
   "metadata": {},
   "outputs": [],
   "source": [
    "#|export\n",
    "def report(loss, acts, yb): print(f'{loss:.2f}, {accuracy(acts, yb):.2f}')"
   ]
  },
  {
   "cell_type": "code",
   "execution_count": 26,
   "id": "941653dc-c222-48ec-b37a-2000b45efae3",
   "metadata": {},
   "outputs": [],
   "source": [
    "lr=0.5\n",
    "epochs = 3"
   ]
  },
  {
   "cell_type": "code",
   "execution_count": 27,
   "id": "4e46719e-6bb9-452c-a5e3-1958c9a3e379",
   "metadata": {},
   "outputs": [],
   "source": [
    "model = Model(m, 500, 10)\n"
   ]
  },
  {
   "cell_type": "code",
   "execution_count": 28,
   "id": "4e657afd-3c94-4486-b065-f25366a8aeeb",
   "metadata": {},
   "outputs": [
    {
     "name": "stdout",
     "output_type": "stream",
     "text": [
      "1.05, 0.52\n",
      "0.30, 0.92\n",
      "0.20, 0.90\n"
     ]
    }
   ],
   "source": [
    "for epoch in range(epochs):\n",
    "    for i in range(0, n, bs):\n",
    "        idxs=torch.randint(0,x_train.shape[0], (bs,)).to('cuda')\n",
    "        xb,yb = x_train[idxs],y_train[idxs]\n",
    "        acts = model(xb)\n",
    "        loss = loss_func(acts, yb)\n",
    "        loss.backward()\n",
    "        for l in model.layers:\n",
    "            if hasattr(l, 'weight'):\n",
    "                l.weight.data -= l.weight.grad * lr\n",
    "                l.bias.data -= l.bias.grad * lr\n",
    "                l.weight.grad.zero_()\n",
    "                l.bias.grad.zero_()\n",
    "    with torch.no_grad():\n",
    "        report(loss, acts, yb)"
   ]
  },
  {
   "cell_type": "code",
   "execution_count": 29,
   "id": "a067449b-41e4-4f4b-b220-f65d0c300046",
   "metadata": {},
   "outputs": [
    {
     "data": {
      "text/plain": [
       "tensor(0.20, device='cuda:0', grad_fn=<NllLossBackward0>)"
      ]
     },
     "execution_count": 29,
     "metadata": {},
     "output_type": "execute_result"
    }
   ],
   "source": [
    "loss"
   ]
  },
  {
   "cell_type": "code",
   "execution_count": 30,
   "id": "2cf5516e-f10d-46ca-8e7b-1c3f09099cea",
   "metadata": {},
   "outputs": [
    {
     "data": {
      "text/plain": [
       "Module(\n",
       "  (foo): Linear(in_features=3, out_features=4, bias=True)\n",
       ")"
      ]
     },
     "execution_count": 30,
     "metadata": {},
     "output_type": "execute_result"
    }
   ],
   "source": [
    "m1=nn.Module()\n",
    "m1.foo = nn.Linear(3,4)\n",
    "m1"
   ]
  },
  {
   "cell_type": "code",
   "execution_count": 31,
   "id": "c9701451-fb9d-46c2-be08-7874cb6efe78",
   "metadata": {},
   "outputs": [
    {
     "data": {
      "text/plain": [
       "[('foo', Linear(in_features=3, out_features=4, bias=True))]"
      ]
     },
     "execution_count": 31,
     "metadata": {},
     "output_type": "execute_result"
    }
   ],
   "source": [
    "list(m1.named_children())"
   ]
  },
  {
   "cell_type": "code",
   "execution_count": 32,
   "id": "8e609f63-e318-4de9-a9bd-8d4293952ea3",
   "metadata": {},
   "outputs": [
    {
     "data": {
      "text/plain": [
       "<generator object Module.named_children at 0x7ff2e1693cf0>"
      ]
     },
     "execution_count": 32,
     "metadata": {},
     "output_type": "execute_result"
    }
   ],
   "source": [
    "m1.named_children()"
   ]
  },
  {
   "cell_type": "code",
   "execution_count": 33,
   "id": "aa752075-01fa-495c-ac67-d61a8c7a748c",
   "metadata": {},
   "outputs": [
    {
     "data": {
      "text/plain": [
       "[Parameter containing:\n",
       " tensor([[-0.06,  0.50, -0.55],\n",
       "         [ 0.45,  0.33,  0.23],\n",
       "         [-0.28,  0.09,  0.02],\n",
       "         [ 0.20,  0.45, -0.30]], requires_grad=True),\n",
       " Parameter containing:\n",
       " tensor([-0.24,  0.27,  0.05,  0.27], requires_grad=True)]"
      ]
     },
     "execution_count": 33,
     "metadata": {},
     "output_type": "execute_result"
    }
   ],
   "source": [
    "list(m1.parameters())"
   ]
  },
  {
   "cell_type": "code",
   "execution_count": 34,
   "id": "940677da-3e7b-45e9-b0b1-7cae7fa507d7",
   "metadata": {},
   "outputs": [],
   "source": [
    "class MLP(nn.Module):\n",
    "    def __init__(self, n_in, nh, n_out):\n",
    "        super().__init__()\n",
    "        self.l1 = nn.Linear(n_in, nh)\n",
    "        self.l2 = nn.Linear(nh, n_out)\n",
    "        self.relu = nn.ReLU()\n",
    "    \n",
    "    def forward(self, x):\n",
    "        return self.l2(self.relu(self.l1(x)))"
   ]
  },
  {
   "cell_type": "code",
   "execution_count": 35,
   "id": "f4ad7988-edb2-448c-972b-9b21c6cf8d88",
   "metadata": {},
   "outputs": [],
   "source": [
    "features_in=m"
   ]
  },
  {
   "cell_type": "code",
   "execution_count": 36,
   "id": "93d2f84c-96a4-4053-bfba-52c3136778a5",
   "metadata": {},
   "outputs": [],
   "source": [
    "hidden_layers=nh\n",
    "features_out=10"
   ]
  },
  {
   "cell_type": "code",
   "execution_count": 37,
   "id": "bc12c3ef-fa6a-4b95-b790-5de43ffb4e0f",
   "metadata": {},
   "outputs": [
    {
     "data": {
      "text/plain": [
       "Linear(in_features=784, out_features=50, bias=True)"
      ]
     },
     "execution_count": 37,
     "metadata": {},
     "output_type": "execute_result"
    }
   ],
   "source": [
    "model=MLP(features_in, hidden_layers, features_out)\n",
    "model.l1"
   ]
  },
  {
   "cell_type": "code",
   "execution_count": 38,
   "id": "30d7b512-dbbd-4141-865d-dd20552666b7",
   "metadata": {},
   "outputs": [
    {
     "data": {
      "text/plain": [
       "MLP(\n",
       "  (l1): Linear(in_features=784, out_features=50, bias=True)\n",
       "  (l2): Linear(in_features=50, out_features=10, bias=True)\n",
       "  (relu): ReLU()\n",
       ")"
      ]
     },
     "execution_count": 38,
     "metadata": {},
     "output_type": "execute_result"
    }
   ],
   "source": [
    "model"
   ]
  },
  {
   "cell_type": "markdown",
   "id": "7f2f9e46-dd0b-4185-8472-5449dbabb1b2",
   "metadata": {},
   "source": [
    "pytorch overrides setattr func so submodules etc get registered to be returned later"
   ]
  },
  {
   "cell_type": "code",
   "execution_count": 39,
   "id": "3f36d30d-4782-4826-b36e-ce0be93e9800",
   "metadata": {},
   "outputs": [
    {
     "name": "stdout",
     "output_type": "stream",
     "text": [
      "l1: Linear(in_features=784, out_features=50, bias=True)\n",
      "l2: Linear(in_features=50, out_features=10, bias=True)\n",
      "relu: ReLU()\n"
     ]
    }
   ],
   "source": [
    "for name, l in model.named_children():\n",
    "    print(f'{name}: {l}')"
   ]
  },
  {
   "cell_type": "code",
   "execution_count": 40,
   "id": "eeffc91d-a7b8-4604-9919-332bc96a554d",
   "metadata": {},
   "outputs": [
    {
     "name": "stdout",
     "output_type": "stream",
     "text": [
      "torch.Size([50, 784])\n",
      "torch.Size([50])\n",
      "torch.Size([10, 50])\n",
      "torch.Size([10])\n"
     ]
    }
   ],
   "source": [
    "for p in model.parameters():\n",
    "    print(p.shape)"
   ]
  },
  {
   "cell_type": "code",
   "execution_count": 41,
   "id": "54b8b0b4-1940-4d4d-bdd5-556dd398956e",
   "metadata": {},
   "outputs": [],
   "source": [
    "epochs=5\n",
    "lr=.1\n",
    "bs=50"
   ]
  },
  {
   "cell_type": "code",
   "execution_count": 42,
   "id": "12e66884-870f-45f4-a878-198670eb101d",
   "metadata": {},
   "outputs": [],
   "source": [
    "def fit():\n",
    "    for epoch in range(epochs):\n",
    "        for i in range(0, n, bs):\n",
    "            s = slice(i, i+bs)\n",
    "            xb, yb = x_train[s], y_train[s]\n",
    "            acts = model(xb)\n",
    "            loss = loss_func(acts, yb)\n",
    "            loss.backward()\n",
    "            for p in model.parameters():\n",
    "                p.data -= p.grad.data * lr\n",
    "                model.zero_grad()\n",
    "        print(loss)"
   ]
  },
  {
   "cell_type": "code",
   "execution_count": 43,
   "id": "9f942a2d-e85b-4234-9068-c3686aad94c5",
   "metadata": {},
   "outputs": [
    {
     "name": "stdout",
     "output_type": "stream",
     "text": [
      "tensor(0.63, device='cuda:0', grad_fn=<NllLossBackward0>)\n",
      "tensor(0.53, device='cuda:0', grad_fn=<NllLossBackward0>)\n",
      "tensor(0.47, device='cuda:0', grad_fn=<NllLossBackward0>)\n",
      "tensor(0.43, device='cuda:0', grad_fn=<NllLossBackward0>)\n",
      "tensor(0.40, device='cuda:0', grad_fn=<NllLossBackward0>)\n"
     ]
    }
   ],
   "source": [
    "model=model.to('cuda')\n",
    "fit()"
   ]
  },
  {
   "cell_type": "code",
   "execution_count": 44,
   "id": "028315a3-0cc2-455f-a14a-2b2a8051818f",
   "metadata": {},
   "outputs": [],
   "source": [
    "class MyModule:\n",
    "    def __init__(self, nin, nhidden, nout):\n",
    "        self._modules = {}\n",
    "        self.l1 = nn.Linear(nin, nhidden)\n",
    "        self.l2 = nn.Linear(nhidden, nout)\n",
    "    def __setattr__(self, k, v):\n",
    "        if not k.startswith('_'):\n",
    "            self._modules[k] = v\n",
    "        super().__setattr__(k, v)\n",
    "    def __repr__(self):\n",
    "        return f'{self._modules}'\n",
    "    \n",
    "    def parameters(self):\n",
    "        for l in self._modules.values():\n",
    "            yield from l.parameters()\n"
   ]
  },
  {
   "cell_type": "code",
   "execution_count": 45,
   "id": "b0297da3-9072-446b-90a4-355ea4cd6a13",
   "metadata": {},
   "outputs": [
    {
     "data": {
      "text/plain": [
       "{'l1': Linear(in_features=784, out_features=50, bias=True), 'l2': Linear(in_features=50, out_features=10, bias=True)}"
      ]
     },
     "execution_count": 45,
     "metadata": {},
     "output_type": "execute_result"
    }
   ],
   "source": [
    "module = MyModule(features_in, hidden_layers, features_out)\n",
    "module"
   ]
  },
  {
   "cell_type": "code",
   "execution_count": 46,
   "id": "a1d8d5ea-f716-403a-aa1d-48230f58197d",
   "metadata": {},
   "outputs": [
    {
     "data": {
      "text/plain": [
       "[torch.Size([50, 784]),\n",
       " torch.Size([50]),\n",
       " torch.Size([10, 50]),\n",
       " torch.Size([10])]"
      ]
     },
     "execution_count": 46,
     "metadata": {},
     "output_type": "execute_result"
    }
   ],
   "source": [
    "[p.shape for p in module.parameters()]"
   ]
  },
  {
   "cell_type": "markdown",
   "id": "80c4a55e-912e-4e78-9f88-8ff99f69de96",
   "metadata": {},
   "source": [
    "## registering modules"
   ]
  },
  {
   "cell_type": "code",
   "execution_count": 47,
   "id": "84c2da09-b10b-420a-ab71-792ce47dae48",
   "metadata": {},
   "outputs": [],
   "source": [
    "from functools import reduce"
   ]
  },
  {
   "cell_type": "code",
   "execution_count": 48,
   "id": "1d30efe4-8587-4b8e-8a01-3e4ce425a1af",
   "metadata": {},
   "outputs": [],
   "source": [
    "layers = [nn.Linear(m,nh), nn.ReLU(), nn.Linear(nh,10)]"
   ]
  },
  {
   "cell_type": "code",
   "execution_count": 49,
   "id": "ef56eb1d-d1ff-459f-b1bb-0cbf7357fbd4",
   "metadata": {},
   "outputs": [],
   "source": [
    "class Model(nn.Module):\n",
    "    def __init__(self, layers):\n",
    "        super().__init__()\n",
    "        self.layers = layers\n",
    "        for i, layer in enumerate(self.layers):\n",
    "            self.add_module(f'layer_{i}', layer)\n",
    "    \n",
    "    def forward(self, x):\n",
    "        return reduce(lambda val, layer: layer(val), self.layers, x)\n",
    "    "
   ]
  },
  {
   "cell_type": "code",
   "execution_count": 50,
   "id": "d0ab991e-2b6d-4b19-a77d-92769d124239",
   "metadata": {},
   "outputs": [
    {
     "data": {
      "text/plain": [
       "[Linear(in_features=784, out_features=50, bias=True),\n",
       " ReLU(),\n",
       " Linear(in_features=50, out_features=10, bias=True)]"
      ]
     },
     "execution_count": 50,
     "metadata": {},
     "output_type": "execute_result"
    }
   ],
   "source": [
    "layers"
   ]
  },
  {
   "cell_type": "code",
   "execution_count": 51,
   "id": "30fb4821-7658-43a2-b1e5-f4b1d3556226",
   "metadata": {},
   "outputs": [
    {
     "data": {
      "text/plain": [
       "Model(\n",
       "  (layer_0): Linear(in_features=784, out_features=50, bias=True)\n",
       "  (layer_1): ReLU()\n",
       "  (layer_2): Linear(in_features=50, out_features=10, bias=True)\n",
       ")"
      ]
     },
     "execution_count": 51,
     "metadata": {},
     "output_type": "execute_result"
    }
   ],
   "source": [
    "model = Model(layers)\n",
    "model"
   ]
  },
  {
   "cell_type": "code",
   "execution_count": 52,
   "id": "b8ec9b81-eed7-433b-8d6b-3bf7a1cdfab7",
   "metadata": {},
   "outputs": [],
   "source": [
    "model = model.to('cuda')"
   ]
  },
  {
   "cell_type": "code",
   "execution_count": 53,
   "id": "805b57b9-c0f2-47e5-8359-afda1c230bad",
   "metadata": {},
   "outputs": [
    {
     "data": {
      "text/plain": [
       "torch.Size([50000, 10])"
      ]
     },
     "execution_count": 53,
     "metadata": {},
     "output_type": "execute_result"
    }
   ],
   "source": [
    "model(x_train).shape"
   ]
  },
  {
   "cell_type": "code",
   "execution_count": 54,
   "id": "86a29c04-edf8-4d1e-b3d7-8ab24580d533",
   "metadata": {},
   "outputs": [],
   "source": [
    "class SequentialModel(nn.Module):\n",
    "    def __init__(self, layers):\n",
    "        super().__init__()\n",
    "        self.layers = nn.ModuleList(layers)\n",
    "        self.layers = self.layers.to('cuda')\n",
    "        \n",
    "    def forward(self, x):\n",
    "        for l in self.layers:\n",
    "            x = l(x)\n",
    "        return x"
   ]
  },
  {
   "cell_type": "code",
   "execution_count": 55,
   "id": "cfbe1d23-374e-48dd-94e5-6c52351dc604",
   "metadata": {},
   "outputs": [
    {
     "data": {
      "text/plain": [
       "SequentialModel(\n",
       "  (layers): ModuleList(\n",
       "    (0): Linear(in_features=784, out_features=50, bias=True)\n",
       "    (1): ReLU()\n",
       "    (2): Linear(in_features=50, out_features=10, bias=True)\n",
       "  )\n",
       ")"
      ]
     },
     "execution_count": 55,
     "metadata": {},
     "output_type": "execute_result"
    }
   ],
   "source": [
    "model = SequentialModel(layers)\n",
    "model"
   ]
  },
  {
   "cell_type": "code",
   "execution_count": 56,
   "id": "9682b768-a14b-416c-9b00-f01caec320ed",
   "metadata": {},
   "outputs": [
    {
     "name": "stdout",
     "output_type": "stream",
     "text": [
      "tensor(0.70, device='cuda:0', grad_fn=<NllLossBackward0>)\n",
      "tensor(0.59, device='cuda:0', grad_fn=<NllLossBackward0>)\n",
      "tensor(0.53, device='cuda:0', grad_fn=<NllLossBackward0>)\n",
      "tensor(0.49, device='cuda:0', grad_fn=<NllLossBackward0>)\n",
      "tensor(0.46, device='cuda:0', grad_fn=<NllLossBackward0>)\n"
     ]
    }
   ],
   "source": [
    "fit()"
   ]
  },
  {
   "cell_type": "code",
   "execution_count": 57,
   "id": "322e3672-4e60-4469-9890-e9e78e7d5480",
   "metadata": {},
   "outputs": [
    {
     "name": "stdout",
     "output_type": "stream",
     "text": [
      "tensor(0.44, device='cuda:0', grad_fn=<NllLossBackward0>)\n",
      "tensor(0.42, device='cuda:0', grad_fn=<NllLossBackward0>)\n",
      "tensor(0.40, device='cuda:0', grad_fn=<NllLossBackward0>)\n",
      "tensor(0.39, device='cuda:0', grad_fn=<NllLossBackward0>)\n",
      "tensor(0.38, device='cuda:0', grad_fn=<NllLossBackward0>)\n"
     ]
    }
   ],
   "source": [
    "model=nn.Sequential(*layers).to('cuda')\n",
    "fit()"
   ]
  },
  {
   "cell_type": "code",
   "execution_count": 58,
   "id": "873dcc90-fbff-41d6-950c-51b3175c097e",
   "metadata": {},
   "outputs": [],
   "source": [
    "class Optimizer():\n",
    "    def __init__(self, params, lr=0.1):\n",
    "        self.params = list(params)\n",
    "        self.lr = lr\n",
    "    \n",
    "    def step(self):\n",
    "        with torch.no_grad():\n",
    "            for p in self.params:\n",
    "                p -= p.grad * self.lr\n",
    "    \n",
    "    def zero_grad(self):\n",
    "        for p in self.params: p.grad.data.zero_()"
   ]
  },
  {
   "cell_type": "code",
   "execution_count": 59,
   "id": "9fe8fa48-d18d-4344-9b04-677d1b197651",
   "metadata": {},
   "outputs": [],
   "source": [
    "model=nn.Sequential(*layers).to('cuda')"
   ]
  },
  {
   "cell_type": "code",
   "execution_count": 60,
   "id": "12bbef8b-c28f-4995-8d22-f7b40f63d346",
   "metadata": {},
   "outputs": [],
   "source": [
    "opt = Optimizer(model.parameters())"
   ]
  },
  {
   "cell_type": "code",
   "execution_count": 61,
   "id": "e223c2df-757c-4fa0-a14a-4a8bb8b0d985",
   "metadata": {},
   "outputs": [
    {
     "name": "stdout",
     "output_type": "stream",
     "text": [
      "tensor(0.13, device='cuda:0', grad_fn=<NllLossBackward0>)\n",
      "tensor(0.11, device='cuda:0', grad_fn=<NllLossBackward0>)\n",
      "tensor(0.09, device='cuda:0', grad_fn=<NllLossBackward0>)\n",
      "tensor(0.07, device='cuda:0', grad_fn=<NllLossBackward0>)\n",
      "tensor(0.06, device='cuda:0', grad_fn=<NllLossBackward0>)\n"
     ]
    }
   ],
   "source": [
    "for epoch in range(epochs):\n",
    "    for i in range(0, n, bs):\n",
    "        s = slice(i, i+bs)\n",
    "        xb,yb = x_train[s], y_train[s]\n",
    "        acts = model(xb)\n",
    "        loss = loss_func(acts, yb)\n",
    "        loss.backward()\n",
    "        opt.step()\n",
    "        opt.zero_grad()\n",
    "    print(loss)"
   ]
  },
  {
   "cell_type": "code",
   "execution_count": 62,
   "id": "2c95167e-0ce9-4a99-a62d-c3d8ee125470",
   "metadata": {},
   "outputs": [],
   "source": [
    "from torch import optim\n",
    "def get_model():\n",
    "    model = nn.Sequential(nn.Linear(m,nh), nn.ReLU(), nn.Linear(nh,10)).to('cuda')\n",
    "    return model, optim.SGD(model.parameters(), lr=lr)"
   ]
  },
  {
   "cell_type": "code",
   "execution_count": 63,
   "id": "fcf17439-64c0-488a-84c7-49d7fc4cdbb0",
   "metadata": {},
   "outputs": [
    {
     "data": {
      "text/plain": [
       "tensor(2.31, device='cuda:0', grad_fn=<NllLossBackward0>)"
      ]
     },
     "execution_count": 63,
     "metadata": {},
     "output_type": "execute_result"
    }
   ],
   "source": [
    "model,opt = get_model()\n",
    "loss_func(model(x_valid), y_valid)"
   ]
  },
  {
   "cell_type": "code",
   "execution_count": 64,
   "id": "4683c9fe-10d2-46ee-96e9-587953bba41e",
   "metadata": {},
   "outputs": [
    {
     "name": "stdout",
     "output_type": "stream",
     "text": [
      "validation accuracy: 0.9235999584197998\n",
      "validation accuracy: 0.9474999904632568\n",
      "validation accuracy: 0.9566999673843384\n",
      "validation accuracy: 0.960599958896637\n",
      "validation accuracy: 0.9643999934196472\n"
     ]
    }
   ],
   "source": [
    "for epoch in range(epochs):\n",
    "    for i in range(0, n, bs):\n",
    "        s = slice(i, i+bs)\n",
    "        xb,yb = x_train[s], y_train[s]\n",
    "        acts = model(xb)\n",
    "        loss = loss_func(acts, yb)\n",
    "        loss.backward()\n",
    "        ''' \n",
    "        but now using pytorch's optimizer\n",
    "        '''\n",
    "        opt.step()\n",
    "        opt.zero_grad()\n",
    "    print(f'validation accuracy: {accuracy(model(x_valid), y_valid)}')"
   ]
  },
  {
   "cell_type": "markdown",
   "id": "c12880e5-dce7-4210-8750-1f3fbb2e8787",
   "metadata": {},
   "source": [
    "## Dataset, DataLoader"
   ]
  },
  {
   "cell_type": "code",
   "execution_count": 65,
   "id": "a4fbecf7-a65d-4691-80bf-27ab4d47a288",
   "metadata": {},
   "outputs": [],
   "source": [
    "#|export\n",
    "class Dataset():\n",
    "    def __init__(self, x, y):\n",
    "        assert (len(x) == len(y))\n",
    "        self.x=x\n",
    "        self.y=y\n",
    "    \n",
    "    def __getitem__(self, idx):\n",
    "        return (self.x[idx], self.y[idx])\n",
    "    \n",
    "    def __len__(self):\n",
    "        return len(self.x)\n",
    "        "
   ]
  },
  {
   "cell_type": "code",
   "execution_count": 66,
   "id": "50dcc35c-c580-43c5-80a0-fd3afd8cbd30",
   "metadata": {},
   "outputs": [],
   "source": [
    "ds_train=Dataset(x_train, y_train)\n",
    "ds_valid = Dataset(x_valid, y_valid)"
   ]
  },
  {
   "cell_type": "code",
   "execution_count": 67,
   "id": "efdfed31-b2df-4c92-b4ef-91be615e56c9",
   "metadata": {},
   "outputs": [],
   "source": [
    "assert(len(ds_train) == len(x_train))\n",
    "assert(len(ds_valid) == len(x_valid))"
   ]
  },
  {
   "cell_type": "code",
   "execution_count": 68,
   "id": "580e09e3-7fee-46c1-bf67-dc1c170ec921",
   "metadata": {},
   "outputs": [],
   "source": [
    "xb,yb = ds_train[0:5]\n",
    "assert xb.shape == (5,784)\n",
    "assert yb.shape == (5,)"
   ]
  },
  {
   "cell_type": "code",
   "execution_count": 69,
   "id": "683b8327-4eff-446b-9a26-836e302c7ae8",
   "metadata": {},
   "outputs": [],
   "source": [
    "model,opt = get_model()"
   ]
  },
  {
   "cell_type": "code",
   "execution_count": 70,
   "id": "f4b11256-1cec-45a1-bbf8-41ec203107f4",
   "metadata": {},
   "outputs": [],
   "source": [
    "def report():\n",
    "    with torch.no_grad():\n",
    "        acts = model(x_valid)\n",
    "        vloss=loss_func(acts, y_valid)\n",
    "        print(f'val loss: {vloss:.2f}, validation accuracy: {accuracy(acts, y_valid):.2f}')"
   ]
  },
  {
   "cell_type": "code",
   "execution_count": 71,
   "id": "6a8d135e-09ff-40ea-b4db-c8d289c7ab9a",
   "metadata": {},
   "outputs": [
    {
     "name": "stdout",
     "output_type": "stream",
     "text": [
      "val loss: 0.27, validation accuracy: 0.93\n",
      "val loss: 0.20, validation accuracy: 0.95\n",
      "val loss: 0.16, validation accuracy: 0.96\n",
      "val loss: 0.14, validation accuracy: 0.96\n",
      "val loss: 0.13, validation accuracy: 0.96\n"
     ]
    }
   ],
   "source": [
    "for epoch in range(epochs):\n",
    "    for i in range(0,n,bs):\n",
    "        xb,yb = ds_train[i : i+bs]\n",
    "        acts = model(xb)\n",
    "        loss = loss_func(acts, yb)\n",
    "        loss.backward()\n",
    "        opt.step()\n",
    "        opt.zero_grad()\n",
    "    report()"
   ]
  },
  {
   "cell_type": "markdown",
   "id": "56e4b7ad-8efb-4813-b031-851b0c273b6f",
   "metadata": {},
   "source": [
    "## DataLoader"
   ]
  },
  {
   "cell_type": "code",
   "execution_count": 72,
   "id": "11152654-c3f3-4b5d-a5ad-be841efd8d5c",
   "metadata": {},
   "outputs": [],
   "source": [
    "#|export\n",
    "class DataLoader():\n",
    "    def __init__(self, dataset, bs):\n",
    "        self.dataset = dataset\n",
    "        self.bs = bs\n",
    "    \n",
    "    def __iter__(self):\n",
    "        for i in range(0, len(self.dataset), self.bs):\n",
    "            yield self.dataset[i : i+bs]"
   ]
  },
  {
   "cell_type": "code",
   "execution_count": 73,
   "id": "a2e9b9f2-3232-4d31-87bb-46759973a2f0",
   "metadata": {},
   "outputs": [],
   "source": [
    "dl_train = DataLoader(ds_train, bs)\n",
    "dl_valid = DataLoader(ds_valid, len(ds_valid))"
   ]
  },
  {
   "cell_type": "code",
   "execution_count": 74,
   "id": "eda225e4-ae84-444b-b639-6a031e62e339",
   "metadata": {},
   "outputs": [
    {
     "data": {
      "text/plain": [
       "((torch.Size([50, 784]), torch.Size([50])), 50)"
      ]
     },
     "execution_count": 74,
     "metadata": {},
     "output_type": "execute_result"
    }
   ],
   "source": [
    "xb, yb = next(iter(dl_train))\n",
    "tuple(map(lambda t: t.shape, (xb, yb,))),bs"
   ]
  },
  {
   "cell_type": "markdown",
   "id": "0ea99ec7-548e-409d-ac6f-6e450404892d",
   "metadata": {},
   "source": [
    "## plotting images"
   ]
  },
  {
   "cell_type": "code",
   "execution_count": 75,
   "id": "7510dfda-9859-420f-9fe6-3a73500e0971",
   "metadata": {},
   "outputs": [
    {
     "data": {
      "text/plain": [
       "tensor([7], device='cuda:0')"
      ]
     },
     "execution_count": 75,
     "metadata": {},
     "output_type": "execute_result"
    },
    {
     "data": {
      "image/png": "[encoded data removed]",
      "text/plain": [
       "<Figure size 432x288 with 1 Axes>"
      ]
     },
     "metadata": {
      "needs_background": "light"
     },
     "output_type": "display_data"
    }
   ],
   "source": [
    "idx=torch.randint(0,50,(1,))\n",
    "plt.imshow(xb[idx].view(28,28).cpu())\n",
    "yb[idx]"
   ]
  },
  {
   "cell_type": "code",
   "execution_count": 76,
   "id": "c93ea0a9-69ed-476d-81b7-0c7e9e5f01ea",
   "metadata": {},
   "outputs": [],
   "source": [
    "model,opt = get_model()"
   ]
  },
  {
   "cell_type": "code",
   "execution_count": 77,
   "id": "59224e6c-d1f3-4333-90ac-54a8d02e75c4",
   "metadata": {},
   "outputs": [],
   "source": [
    "def fit():\n",
    "    for epoch in range(epochs):\n",
    "        for xb,yb in dl_train:\n",
    "            acts = model(xb)\n",
    "            loss = loss_func(acts, yb)\n",
    "            loss.backward()\n",
    "            opt.step()\n",
    "            opt.zero_grad()\n",
    "        report()"
   ]
  },
  {
   "cell_type": "code",
   "execution_count": 78,
   "id": "3194d0f6-7b8c-4e9d-b74a-513d95dd4eef",
   "metadata": {},
   "outputs": [],
   "source": [
    "#fit()"
   ]
  },
  {
   "cell_type": "markdown",
   "id": "1885bc55-6231-4c1c-8f11-f96c97928ed2",
   "metadata": {},
   "source": [
    "## Random sampling"
   ]
  },
  {
   "cell_type": "code",
   "execution_count": 79,
   "id": "494de25a-b55a-481a-9490-43464c547df4",
   "metadata": {},
   "outputs": [],
   "source": [
    "import random"
   ]
  },
  {
   "cell_type": "code",
   "execution_count": 80,
   "id": "f3294315-284c-43d6-86d7-d855f97ba428",
   "metadata": {},
   "outputs": [],
   "source": [
    "class Sampler():\n",
    "    def __init__(self, ds, shuffle=False):\n",
    "        self.leng = len(ds)\n",
    "        self.shuffle=shuffle\n",
    "    \n",
    "    def __iter__(self):\n",
    "        idxs = list(range(self.leng))\n",
    "        if self.shuffle:\n",
    "            random.shuffle(idxs)\n",
    "        # return iter(idxs) # the correct solution, below is to experiment with islice and yield\n",
    "        for i in idxs:\n",
    "            #print(i)\n",
    "            yield i"
   ]
  },
  {
   "cell_type": "code",
   "execution_count": 81,
   "id": "3621f582-469b-4d4f-a709-e06d5fba97ed",
   "metadata": {},
   "outputs": [],
   "source": [
    "from itertools import islice"
   ]
  },
  {
   "cell_type": "code",
   "execution_count": 82,
   "id": "5ad5a9a1-d6ad-4142-97f2-1327557f3e45",
   "metadata": {},
   "outputs": [
    {
     "data": {
      "text/plain": [
       "\u001b[0;31mInit signature:\u001b[0m \u001b[0mislice\u001b[0m\u001b[0;34m(\u001b[0m\u001b[0mself\u001b[0m\u001b[0;34m,\u001b[0m \u001b[0;34m/\u001b[0m\u001b[0;34m,\u001b[0m \u001b[0;34m*\u001b[0m\u001b[0margs\u001b[0m\u001b[0;34m,\u001b[0m \u001b[0;34m**\u001b[0m\u001b[0mkwargs\u001b[0m\u001b[0;34m)\u001b[0m\u001b[0;34m\u001b[0m\u001b[0;34m\u001b[0m\u001b[0m\n",
       "\u001b[0;31mDocstring:\u001b[0m     \n",
       "islice(iterable, stop) --> islice object\n",
       "islice(iterable, start, stop[, step]) --> islice object\n",
       "\n",
       "Return an iterator whose next() method returns selected values from an\n",
       "iterable.  If start is specified, will skip all preceding elements;\n",
       "otherwise, start defaults to zero.  Step defaults to one.  If\n",
       "specified as another value, step determines how many values are\n",
       "skipped between successive calls.  Works like a slice() on a list\n",
       "but returns an iterator.\n",
       "\u001b[0;31mType:\u001b[0m           type\n",
       "\u001b[0;31mSubclasses:\u001b[0m     \n"
      ]
     },
     "metadata": {},
     "output_type": "display_data"
    }
   ],
   "source": [
    "islice??"
   ]
  },
  {
   "cell_type": "code",
   "execution_count": 83,
   "id": "8d8c0e74-7800-4322-9c05-c3da4908ac94",
   "metadata": {},
   "outputs": [
    {
     "data": {
      "text/plain": [
       "(<itertools.islice at 0x7ff2e0a5e950>,\n",
       " [32031, 4213, 21756, 19333, 45496, 37313, 30004, 17734, 15700, 17414])"
      ]
     },
     "execution_count": 83,
     "metadata": {},
     "output_type": "execute_result"
    }
   ],
   "source": [
    "sampler=Sampler(ds_train, shuffle=True)\n",
    "'''\n",
    "underlying iterator will be called linearly for all the values before and inside the islice range but islice will drop them and only itself will\n",
    "return those specified by start/step/stop range\n",
    "'''\n",
    "sl=islice(sampler, 5,25,2)\n",
    "sl,list(sl)"
   ]
  },
  {
   "cell_type": "code",
   "execution_count": 84,
   "id": "e482f105-cbe3-4d51-997b-bcea1b38416d",
   "metadata": {},
   "outputs": [],
   "source": [
    "import fastcore.all as fc"
   ]
  },
  {
   "cell_type": "code",
   "execution_count": 85,
   "id": "73b61b25-3cbf-40ae-858d-e2af4dd83a35",
   "metadata": {},
   "outputs": [
    {
     "name": "stdout",
     "output_type": "stream",
     "text": [
      "True True False\n",
      "True False True\n",
      "False True True\n",
      "False False False\n"
     ]
    }
   ],
   "source": [
    "for a in True,False:\n",
    "    for b in True,False:\n",
    "        print(a,b,a^b)"
   ]
  },
  {
   "cell_type": "code",
   "execution_count": 86,
   "id": "19d9a1d0-3555-4471-9100-514e644c8ee7",
   "metadata": {},
   "outputs": [
    {
     "data": {
      "text/plain": [
       "\u001b[0;31mSignature:\u001b[0m \u001b[0mfc\u001b[0m\u001b[0;34m.\u001b[0m\u001b[0mchunked\u001b[0m\u001b[0;34m(\u001b[0m\u001b[0mit\u001b[0m\u001b[0;34m,\u001b[0m \u001b[0mchunk_sz\u001b[0m\u001b[0;34m=\u001b[0m\u001b[0;32mNone\u001b[0m\u001b[0;34m,\u001b[0m \u001b[0mdrop_last\u001b[0m\u001b[0;34m=\u001b[0m\u001b[0;32mFalse\u001b[0m\u001b[0;34m,\u001b[0m \u001b[0mn_chunks\u001b[0m\u001b[0;34m=\u001b[0m\u001b[0;32mNone\u001b[0m\u001b[0;34m)\u001b[0m\u001b[0;34m\u001b[0m\u001b[0;34m\u001b[0m\u001b[0m\n",
       "\u001b[0;31mSource:\u001b[0m   \n",
       "\u001b[0;32mdef\u001b[0m \u001b[0mchunked\u001b[0m\u001b[0;34m(\u001b[0m\u001b[0mit\u001b[0m\u001b[0;34m,\u001b[0m \u001b[0mchunk_sz\u001b[0m\u001b[0;34m=\u001b[0m\u001b[0;32mNone\u001b[0m\u001b[0;34m,\u001b[0m \u001b[0mdrop_last\u001b[0m\u001b[0;34m=\u001b[0m\u001b[0;32mFalse\u001b[0m\u001b[0;34m,\u001b[0m \u001b[0mn_chunks\u001b[0m\u001b[0;34m=\u001b[0m\u001b[0;32mNone\u001b[0m\u001b[0;34m)\u001b[0m\u001b[0;34m:\u001b[0m\u001b[0;34m\u001b[0m\n",
       "\u001b[0;34m\u001b[0m    \u001b[0;34m\"Return batches from iterator `it` of size `chunk_sz` (or return `n_chunks` total)\"\u001b[0m\u001b[0;34m\u001b[0m\n",
       "\u001b[0;34m\u001b[0m    \u001b[0;32massert\u001b[0m \u001b[0mbool\u001b[0m\u001b[0;34m(\u001b[0m\u001b[0mchunk_sz\u001b[0m\u001b[0;34m)\u001b[0m \u001b[0;34m^\u001b[0m \u001b[0mbool\u001b[0m\u001b[0;34m(\u001b[0m\u001b[0mn_chunks\u001b[0m\u001b[0;34m)\u001b[0m\u001b[0;34m\u001b[0m\n",
       "\u001b[0;34m\u001b[0m    \u001b[0;32mif\u001b[0m \u001b[0mn_chunks\u001b[0m\u001b[0;34m:\u001b[0m \u001b[0mchunk_sz\u001b[0m \u001b[0;34m=\u001b[0m \u001b[0mmax\u001b[0m\u001b[0;34m(\u001b[0m\u001b[0mmath\u001b[0m\u001b[0;34m.\u001b[0m\u001b[0mceil\u001b[0m\u001b[0;34m(\u001b[0m\u001b[0mlen\u001b[0m\u001b[0;34m(\u001b[0m\u001b[0mit\u001b[0m\u001b[0;34m)\u001b[0m\u001b[0;34m/\u001b[0m\u001b[0mn_chunks\u001b[0m\u001b[0;34m)\u001b[0m\u001b[0;34m,\u001b[0m \u001b[0;36m1\u001b[0m\u001b[0;34m)\u001b[0m\u001b[0;34m\u001b[0m\n",
       "\u001b[0;34m\u001b[0m    \u001b[0;32mif\u001b[0m \u001b[0;32mnot\u001b[0m \u001b[0misinstance\u001b[0m\u001b[0;34m(\u001b[0m\u001b[0mit\u001b[0m\u001b[0;34m,\u001b[0m \u001b[0mIterator\u001b[0m\u001b[0;34m)\u001b[0m\u001b[0;34m:\u001b[0m \u001b[0mit\u001b[0m \u001b[0;34m=\u001b[0m \u001b[0miter\u001b[0m\u001b[0;34m(\u001b[0m\u001b[0mit\u001b[0m\u001b[0;34m)\u001b[0m\u001b[0;34m\u001b[0m\n",
       "\u001b[0;34m\u001b[0m    \u001b[0;32mwhile\u001b[0m \u001b[0;32mTrue\u001b[0m\u001b[0;34m:\u001b[0m\u001b[0;34m\u001b[0m\n",
       "\u001b[0;34m\u001b[0m        \u001b[0mres\u001b[0m \u001b[0;34m=\u001b[0m \u001b[0mlist\u001b[0m\u001b[0;34m(\u001b[0m\u001b[0mitertools\u001b[0m\u001b[0;34m.\u001b[0m\u001b[0mislice\u001b[0m\u001b[0;34m(\u001b[0m\u001b[0mit\u001b[0m\u001b[0;34m,\u001b[0m \u001b[0mchunk_sz\u001b[0m\u001b[0;34m)\u001b[0m\u001b[0;34m)\u001b[0m\u001b[0;34m\u001b[0m\n",
       "\u001b[0;34m\u001b[0m        \u001b[0;32mif\u001b[0m \u001b[0mres\u001b[0m \u001b[0;32mand\u001b[0m \u001b[0;34m(\u001b[0m\u001b[0mlen\u001b[0m\u001b[0;34m(\u001b[0m\u001b[0mres\u001b[0m\u001b[0;34m)\u001b[0m\u001b[0;34m==\u001b[0m\u001b[0mchunk_sz\u001b[0m \u001b[0;32mor\u001b[0m \u001b[0;32mnot\u001b[0m \u001b[0mdrop_last\u001b[0m\u001b[0;34m)\u001b[0m\u001b[0;34m:\u001b[0m \u001b[0;32myield\u001b[0m \u001b[0mres\u001b[0m\u001b[0;34m\u001b[0m\n",
       "\u001b[0;34m\u001b[0m        \u001b[0;32mif\u001b[0m \u001b[0mlen\u001b[0m\u001b[0;34m(\u001b[0m\u001b[0mres\u001b[0m\u001b[0;34m)\u001b[0m\u001b[0;34m<\u001b[0m\u001b[0mchunk_sz\u001b[0m\u001b[0;34m:\u001b[0m \u001b[0;32mreturn\u001b[0m\u001b[0;34m\u001b[0m\u001b[0;34m\u001b[0m\u001b[0m\n",
       "\u001b[0;31mFile:\u001b[0m      /usr/local/lib/python3.9/dist-packages/fastcore/basics.py\n",
       "\u001b[0;31mType:\u001b[0m      function\n"
      ]
     },
     "metadata": {},
     "output_type": "display_data"
    }
   ],
   "source": [
    "fc.chunked??"
   ]
  },
  {
   "cell_type": "code",
   "execution_count": 87,
   "id": "aa490eca-bf5b-47eb-826f-035932c0d6df",
   "metadata": {},
   "outputs": [
    {
     "data": {
      "text/plain": [
       "[31078, 11188, 47057, 40480, 49578]"
      ]
     },
     "execution_count": 87,
     "metadata": {},
     "output_type": "execute_result"
    }
   ],
   "source": [
    "g=fc.chunked(sampler, 5)\n",
    "next(g)"
   ]
  },
  {
   "cell_type": "code",
   "execution_count": 88,
   "id": "aa8b807b-0f9a-4bd7-ba07-5d0c42b409d1",
   "metadata": {},
   "outputs": [
    {
     "data": {
      "text/plain": [
       "[[41845, 42429, 23291, 31074],\n",
       " [14084, 4575, 6843, 49737],\n",
       " [45676, 13551, 1873, 38467]]"
      ]
     },
     "execution_count": 88,
     "metadata": {},
     "output_type": "execute_result"
    }
   ],
   "source": [
    "class BatchSampler():\n",
    "    def __init__(self, sampler, bs, drop_last=False):\n",
    "        self.sampler = sampler\n",
    "        self.bs = bs\n",
    "        self.drop_last = False\n",
    "    def __iter__(self):\n",
    "        while True:\n",
    "            sl = islice(sampler, self.bs)\n",
    "            if sl is not None:\n",
    "                yield list(sl)\n",
    "\n",
    "batchsampler = BatchSampler(sampler, 4)\n",
    "list(islice(batchsampler, 3))"
   ]
  },
  {
   "cell_type": "code",
   "execution_count": 89,
   "id": "78fd574a-792b-4650-8526-901153d0dc96",
   "metadata": {},
   "outputs": [
    {
     "name": "stdout",
     "output_type": "stream",
     "text": [
      "[tensor(72), tensor(21), tensor(24)]\n",
      "[tensor(3), tensor(96), tensor(49)]\n",
      "[tensor(91), tensor(63), tensor(67)]\n",
      "[tensor(94), tensor(91), tensor(56)]\n",
      "[tensor(18)]\n",
      "[]\n",
      "[]\n",
      "[]\n",
      "[]\n",
      "[]\n",
      "[]\n"
     ]
    },
    {
     "data": {
      "text/plain": [
       "tensor([72, 21, 24,  3, 96, 49, 91, 63, 67, 94, 91, 56, 18])"
      ]
     },
     "execution_count": 89,
     "metadata": {},
     "output_type": "execute_result"
    }
   ],
   "source": [
    "t=torch.randint(0,100,(13,))\n",
    "it=iter(t)\n",
    "for i in range(11):\n",
    "    print(list(islice(it,3)))\n",
    "t"
   ]
  },
  {
   "cell_type": "code",
   "execution_count": 90,
   "id": "4be1b4d4-945a-4807-99bf-c276fb3ed76c",
   "metadata": {},
   "outputs": [],
   "source": [
    "'''\n",
    "given list of tuples (a1,b1),(a2,b2) etc, where each tuple is an a and b that should be paired together,\n",
    "returns two lists, so a and b are broken out to separate lists, preserving their order so lista[i] matches with listb[i]\n",
    "'''\n",
    "def collate(batch):\n",
    "    xs,ys = zip(*batch)\n",
    "    '''torch.stack takes a non-tensor collection of tensors and makes it into\n",
    "    a tensor of tensors. items of the collection must be tensors of same size, \n",
    "    and they are each in separate rows of the resultant tensor. the resultant\n",
    "    tensor has rank which is exactly 1 larger than the constituent tensors.\n",
    "    torch.stack(list(tensor(1, 1)), list(tensor(2, 2))) will be a\n",
    "    2x2 tensor([[1, 1], [2, 2]])\n",
    "    \n",
    "    \n",
    "    opposed to torch.cat which concatenates one after the other in the same\n",
    "    existing dimension, resultant rank equals constituent tensor rank, and \n",
    "    constituent tensors needn't be same shape.\n",
    "    torch.cat(list(tensor(1, 2, 3)), list(tensor(4, 5))) = (5,)-shaped tensor\n",
    "    tensor([1, 2, 3, 4, 5])\n",
    "    '''\n",
    "    \n",
    "    return torch.stack(xs),torch.stack(ys)"
   ]
  },
  {
   "cell_type": "code",
   "execution_count": 91,
   "id": "1ef4e20f-6fa6-4205-92fe-3bf86b3d952a",
   "metadata": {},
   "outputs": [
    {
     "data": {
      "text/plain": [
       "((tensor([4]), tensor([1])),\n",
       " (tensor([14]), tensor([10])),\n",
       " (tensor([10]), tensor([9])))"
      ]
     },
     "execution_count": 91,
     "metadata": {},
     "output_type": "execute_result"
    }
   ],
   "source": [
    "def mk(): return (torch.randint(15,(1,)), torch.randint(15,(1,)),)\n",
    "ls=[mk(), mk(), mk()]\n",
    "ls,list(zip(*ls))\n",
    "x,y=collate(ls)\n",
    "x.shape,y.shape,(x,y)\n",
    "''' star operator takes a collection, when given in a context in which a tuple would be appropriate,\n",
    "and splits it apart into a tuple representing its elements\n",
    "\n",
    "ls=[1,2,3]\n",
    "(*ls,4) = (1,2,3,4)\n",
    "(*ls,) = (1,2,3)\n",
    "'''\n",
    "(*ls,) #,list(zip(*ls))"
   ]
  },
  {
   "cell_type": "code",
   "execution_count": 92,
   "id": "76689960-bfa8-463a-879c-f03d2952a83a",
   "metadata": {},
   "outputs": [],
   "source": [
    "class DataLoader():\n",
    "    def __init__(self, dataset, batchsampler, collate_fn=collate):\n",
    "        self.dataset=dataset\n",
    "        self.batchsampler = batchsampler\n",
    "        self.collate_fn = collate\n",
    "    def __iter__(self):\n",
    "        yield from (self.collate_fn(self.dataset[i] for i in b) for b in self.batchsampler)"
   ]
  },
  {
   "cell_type": "code",
   "execution_count": 93,
   "id": "fe421f59-8d9d-49d5-9f98-85f37a025b86",
   "metadata": {},
   "outputs": [],
   "source": [
    "train_sampler=BatchSampler(Sampler(ds_train, shuffle=True), bs)\n",
    "valid_sampler=BatchSampler(Sampler(ds_valid, shuffle=True), bs)"
   ]
  },
  {
   "cell_type": "code",
   "execution_count": 94,
   "id": "a09cdd88-fb77-4e57-b2af-702a740e3641",
   "metadata": {},
   "outputs": [],
   "source": [
    "train_dl = DataLoader(ds_train, train_sampler)\n",
    "valid_dl = DataLoader(ds_valid, valid_sampler)"
   ]
  },
  {
   "cell_type": "code",
   "execution_count": 95,
   "id": "bf7b5c11-4280-497c-b598-905243ad9643",
   "metadata": {},
   "outputs": [],
   "source": [
    "xb,yb = next(iter(train_dl))"
   ]
  },
  {
   "cell_type": "code",
   "execution_count": 96,
   "id": "ec52fde5-b609-4f3c-99f8-ad3603b596f2",
   "metadata": {},
   "outputs": [
    {
     "data": {
      "text/plain": [
       "tensor([1], device='cuda:0')"
      ]
     },
     "execution_count": 96,
     "metadata": {},
     "output_type": "execute_result"
    },
    {
     "data": {
      "image/png": "[encoded data removed]",
      "text/plain": [
       "<Figure size 432x288 with 1 Axes>"
      ]
     },
     "metadata": {
      "needs_background": "light"
     },
     "output_type": "display_data"
    }
   ],
   "source": [
    "r=torch.randint(0,bs,(1,))\n",
    "plt.imshow(xb[r].view(28,28).cpu())\n",
    "yb[r]"
   ]
  },
  {
   "cell_type": "code",
   "execution_count": 97,
   "id": "87fd78b0-6599-4d41-8f9b-06419926694b",
   "metadata": {},
   "outputs": [
    {
     "data": {
      "text/plain": [
       "(torch.Size([50, 784]), torch.Size([50]))"
      ]
     },
     "execution_count": 97,
     "metadata": {},
     "output_type": "execute_result"
    }
   ],
   "source": [
    "xb.shape,yb.shape"
   ]
  },
  {
   "cell_type": "code",
   "execution_count": 98,
   "id": "bf63a68f-75a6-4302-8099-2ba3676058e5",
   "metadata": {},
   "outputs": [],
   "source": [
    "model,opt=get_model()\n",
    "#fit()"
   ]
  },
  {
   "cell_type": "code",
   "execution_count": 99,
   "id": "bbf9a872-e347-4e22-8f78-a94ec1e28d20",
   "metadata": {},
   "outputs": [],
   "source": [
    "import torch.multiprocessing as mp"
   ]
  },
  {
   "cell_type": "code",
   "execution_count": 100,
   "id": "958046a2-da05-4ace-ab14-67c9e3533ff7",
   "metadata": {},
   "outputs": [
    {
     "data": {
      "text/plain": [
       "(torch.Size([3, 784]), torch.Size([3]))"
      ]
     },
     "execution_count": 100,
     "metadata": {},
     "output_type": "execute_result"
    }
   ],
   "source": [
    "x,y=ds_train[0]\n",
    "x.shape,y.shape # a single training pair\n",
    "\n",
    "xs,ys = ds_train[[1,3,5]]\n",
    "xs.shape,ys.shape # the three respective pairs of training data indexed at 1, 3, and 5. shaped (3,784) and (3)"
   ]
  },
  {
   "cell_type": "code",
   "execution_count": 101,
   "id": "26f096e5-aa49-47b0-9b2f-035bc729d5ae",
   "metadata": {},
   "outputs": [],
   "source": [
    "import fastcore.all as fc"
   ]
  },
  {
   "cell_type": "code",
   "execution_count": 102,
   "id": "bf863daa-d394-49a9-874d-7d77bc3c8742",
   "metadata": {},
   "outputs": [],
   "source": [
    "class DataLoader():\n",
    "    def __init__(self, ds, batchs, n_workers=1, collate_fn=collate):\n",
    "        fc.store_attr()\n",
    "    def __iter__(self):\n",
    "        with mp.Pool(self.n_workers) as executor:\n",
    "            yield from executor.map(self.ds.__getitem__, iter(self.batchs))"
   ]
  },
  {
   "cell_type": "code",
   "execution_count": 103,
   "id": "4ba110a3-ee63-41b5-a1de-c6f670520074",
   "metadata": {},
   "outputs": [],
   "source": [
    "dl_train = DataLoader(ds_train, batchs=train_sampler, n_workers=4)"
   ]
  },
  {
   "cell_type": "code",
   "execution_count": 104,
   "id": "994201c0-8c8e-47c9-9db1-f019272ba8c1",
   "metadata": {},
   "outputs": [
    {
     "data": {
      "text/plain": [
       "(torch.Size([50, 784]), torch.Size([50]))"
      ]
     },
     "execution_count": 104,
     "metadata": {},
     "output_type": "execute_result"
    }
   ],
   "source": [
    "xb,yb=next(iter(train_dl))\n",
    "xb.shape,yb.shape # 50,784 and 50"
   ]
  },
  {
   "cell_type": "markdown",
   "id": "88fbaabb-b3d6-4a2b-a8f7-6d59bf065aa1",
   "metadata": {},
   "source": [
    "## pytorch dataloader"
   ]
  },
  {
   "cell_type": "code",
   "execution_count": 105,
   "id": "3c715005-42ad-47cc-9d23-cf0884fb16bc",
   "metadata": {},
   "outputs": [],
   "source": [
    "#|export\n",
    "from torch.utils.data import DataLoader, SequentialSampler, RandomSampler, BatchSampler"
   ]
  },
  {
   "cell_type": "code",
   "execution_count": 106,
   "id": "852cb36c-ca7d-4ff7-a94b-6681ceef3ff8",
   "metadata": {},
   "outputs": [],
   "source": [
    "train_sampler = BatchSampler(RandomSampler(ds_train), bs, drop_last=False)\n",
    "valid_sampler = BatchSampler(RandomSampler(ds_valid), bs, drop_last=False)"
   ]
  },
  {
   "cell_type": "code",
   "execution_count": 107,
   "id": "0868341a-559c-4230-b980-14192c0f48ef",
   "metadata": {},
   "outputs": [],
   "source": [
    "dl_train = DataLoader(ds_train, batch_sampler=train_sampler, collate_fn=collate)\n",
    "dl_valid = DataLoader(ds_valid, batch_sampler=valid_sampler, collate_fn=collate)"
   ]
  },
  {
   "cell_type": "code",
   "execution_count": 108,
   "id": "2566c0f3-7df6-49d2-9b1c-5ba9f122a750",
   "metadata": {},
   "outputs": [],
   "source": [
    "model,opt=get_model()"
   ]
  },
  {
   "cell_type": "code",
   "execution_count": 109,
   "id": "a2150e7e-6a21-4e91-b437-af3021f56b99",
   "metadata": {},
   "outputs": [
    {
     "data": {
      "text/plain": [
       "'\\nval loss: 0.13, validation accuracy: 0.96\\nval loss: 0.11, validation accuracy: 0.97\\nval loss: 0.10, validation accuracy: 0.97\\n'"
      ]
     },
     "execution_count": 109,
     "metadata": {},
     "output_type": "execute_result"
    }
   ],
   "source": [
    "#fit()\n",
    "'''\n",
    "val loss: 0.13, validation accuracy: 0.96\n",
    "val loss: 0.11, validation accuracy: 0.97\n",
    "val loss: 0.10, validation accuracy: 0.97\n",
    "'''"
   ]
  },
  {
   "cell_type": "code",
   "execution_count": 110,
   "id": "dfdd73d0-9836-4a4e-bbbd-27ec144bbaaf",
   "metadata": {},
   "outputs": [],
   "source": [
    "# pytorch to handle creating batchsampler:\n",
    "dl_train = DataLoader(ds_train, bs, RandomSampler(ds_train), collate_fn=collate)\n",
    "dl_valid = DataLoader(ds_valid, bs, SequentialSampler(ds_valid), collate_fn=collate)"
   ]
  },
  {
   "cell_type": "code",
   "execution_count": 111,
   "id": "b9e4bcf1-b6d5-46e0-aa61-0de048587046",
   "metadata": {},
   "outputs": [],
   "source": [
    "# and making the sequential and random samplers with pytorch:\n",
    "dl_train=DataLoader(ds_train, bs, shuffle=True, drop_last=True,num_workers=2)\n",
    "dl_valid=DataLoader(ds_valid, bs, shuffle=False, num_workers=2)"
   ]
  },
  {
   "cell_type": "code",
   "execution_count": 114,
   "id": "d0736805-1445-45f9-9330-83ce1026babd",
   "metadata": {},
   "outputs": [],
   "source": [
    "\n",
    "# and making the sequential and random samplers with pytorch:\n",
    "#   (note: for this section, switch back to cpu because cuda requires special care for gpu tensors and multiprocessing)\n",
    "x_train,y_train,x_valid,y_valid = tuple(map(lambda x: x.cpu(), (x_train,y_train,x_valid,y_valid)))\n",
    "\n",
    "ds_train=Dataset(x_train, y_train)\n",
    "ds_valid = Dataset(x_valid, y_valid)\n",
    "# dataloaders, multiprocessing\n",
    "dl_train=DataLoader(ds_train, bs, shuffle=True, drop_last=True,num_workers=2)\n",
    "dl_valid=DataLoader(ds_valid, bs, shuffle=False, num_workers=2)"
   ]
  },
  {
   "cell_type": "code",
   "execution_count": 115,
   "id": "88d668d1-ef2d-48eb-8c42-8c59ebffe770",
   "metadata": {},
   "outputs": [
    {
     "name": "stdout",
     "output_type": "stream",
     "text": [
      "val loss: 0.25, validation accuracy: 0.93\n",
      "val loss: 0.19, validation accuracy: 0.95\n"
     ]
    }
   ],
   "source": [
    "model,opt=get_model()\n",
    "model=model.cpu()\n",
    "epochs=2\n",
    "'''\n",
    "weird cuda init errors happened whenever I tried to start things with the model, training data, all tensors etc initialized on gpu\n",
    "\n",
    "has to do with this, with multiprocessing (num_workers) and cuda APIs:\n",
    "https://pytorch.org/docs/master/notes/multiprocessing.html#cuda-in-multiprocessing\n",
    "'''\n",
    "fit()"
   ]
  },
  {
   "cell_type": "code",
   "execution_count": 116,
   "id": "0f190728-d1c4-4336-ba90-67abe2ca2a9d",
   "metadata": {},
   "outputs": [],
   "source": [
    "# back to gpu\n",
    "x_train,y_train,x_valid,y_valid = tuple(map(lambda x: x.cuda(), (x_train,y_train,x_valid,y_valid)))\n",
    "ds_train=Dataset(x_train, y_train)\n",
    "ds_valid = Dataset(x_valid, y_valid)"
   ]
  },
  {
   "cell_type": "code",
   "execution_count": 117,
   "id": "3d783a58-cae1-41e0-84c0-8057c40d913b",
   "metadata": {},
   "outputs": [
    {
     "data": {
      "text/plain": [
       "(torch.Size([1, 50, 784]), torch.Size([1, 50]))"
      ]
     },
     "execution_count": 117,
     "metadata": {},
     "output_type": "execute_result"
    }
   ],
   "source": [
    "'''because the dataset object knows how to handle batched indexes already, can just treat the batch \n",
    "sampler as the regular sampler and skip collate: the batched indexed returned will just be retrieved\n",
    "as correct result batches by the vanilla dataset'''\n",
    "dl_train=DataLoader(ds_train, sampler=train_sampler)\n",
    "xb,yb=next(iter(dl_train))\n",
    "xb.shape,yb.shape"
   ]
  },
  {
   "cell_type": "code",
   "execution_count": 118,
   "id": "c0b6cce5-dc19-4b63-a119-5dee42241f65",
   "metadata": {},
   "outputs": [],
   "source": [
    "'''model.train and model.eval set configs for things like normalization and dropout to act appropriately\n",
    "for each phase'''\n",
    "#|export\n",
    "def fit(epochs, model, loss_func, opt, dl_train, dl_valid):\n",
    "    for epoch in range(epochs):\n",
    "        model.train()\n",
    "        for xb, yb in dl_train:\n",
    "            loss=loss_func(model(xb), yb)\n",
    "            loss.backward()\n",
    "            opt.step()\n",
    "            opt.zero_grad()\n",
    "        \n",
    "        model.eval()\n",
    "        with torch.no_grad():\n",
    "            totloss,totacc,count=0.,0.,0.\n",
    "            for xb,yb in dl_valid:\n",
    "                acts= model(xb)\n",
    "                loss= loss_func(acts,yb)\n",
    "                n=xb.shape[0]\n",
    "                count += n\n",
    "                totloss += loss.item()*n # doing this gets a weighted average of loss across batches: last batch may be smaller\n",
    "                totacc += accuracy(acts, yb).item() * n\n",
    "        print(f'epoch: {epoch}, val loss: {totloss/count:2f}, val accuracy: {totacc/count:2f}')"
   ]
  },
  {
   "cell_type": "code",
   "execution_count": 119,
   "id": "982f6bac-7ef0-4127-92aa-564d833d69a6",
   "metadata": {},
   "outputs": [],
   "source": [
    "#|export\n",
    "def get_dls(ds_train, ds_valid, bs, **kwargs):\n",
    "    return (DataLoader(ds_train, batch_size=bs, shuffle=True, **kwargs),\n",
    "            DataLoader(ds_valid, batch_size=bs, shuffle=False, **kwargs))"
   ]
  },
  {
   "cell_type": "code",
   "execution_count": 120,
   "id": "f1fb00dc-334d-4ec6-b2b3-01e6cb9c67b6",
   "metadata": {},
   "outputs": [],
   "source": [
    "dl_train,dl_valid=get_dls(ds_train, ds_valid, bs)\n",
    "model,opt=get_model()"
   ]
  },
  {
   "cell_type": "code",
   "execution_count": 121,
   "id": "3e2019f3-2e22-4390-876b-8f9dd1285263",
   "metadata": {},
   "outputs": [
    {
     "name": "stdout",
     "output_type": "stream",
     "text": [
      "epoch: 0, val loss: 0.250112, val accuracy: 0.929800\n",
      "epoch: 1, val loss: 0.188068, val accuracy: 0.947400\n",
      "epoch: 2, val loss: 0.157923, val accuracy: 0.956900\n"
     ]
    }
   ],
   "source": [
    "fit(3, model, loss_func,opt, dl_train, dl_valid)"
   ]
  },
  {
   "cell_type": "code",
   "execution_count": 122,
   "id": "c0d2efd1-0a40-4986-bb89-287eed5dbe36",
   "metadata": {},
   "outputs": [
    {
     "name": "stdout",
     "output_type": "stream",
     "text": [
      "Requirement already satisfied: nbdev in /usr/local/lib/python3.9/dist-packages (2.3.12)\n",
      "Requirement already satisfied: ghapi>=1.0.3 in /usr/local/lib/python3.9/dist-packages (from nbdev) (1.0.4)\n",
      "Requirement already satisfied: execnb>=0.1.4 in /usr/local/lib/python3.9/dist-packages (from nbdev) (0.1.5)\n",
      "Requirement already satisfied: astunparse in /usr/local/lib/python3.9/dist-packages (from nbdev) (1.6.3)\n",
      "Requirement already satisfied: fastcore>=1.5.27 in /usr/local/lib/python3.9/dist-packages (from nbdev) (1.5.27)\n",
      "Requirement already satisfied: PyYAML in /usr/lib/python3/dist-packages (from nbdev) (5.3.1)\n",
      "Requirement already satisfied: asttokens in /usr/local/lib/python3.9/dist-packages (from nbdev) (2.0.5)\n",
      "Requirement already satisfied: watchdog in /usr/local/lib/python3.9/dist-packages (from nbdev) (3.0.0)\n",
      "Requirement already satisfied: ipython in /usr/local/lib/python3.9/dist-packages (from execnb>=0.1.4->nbdev) (8.4.0)\n",
      "Requirement already satisfied: pip in /usr/local/lib/python3.9/dist-packages (from fastcore>=1.5.27->nbdev) (22.2.2)\n",
      "Requirement already satisfied: packaging in /usr/local/lib/python3.9/dist-packages (from fastcore>=1.5.27->nbdev) (21.3)\n",
      "Requirement already satisfied: six in /usr/lib/python3/dist-packages (from asttokens->nbdev) (1.14.0)\n",
      "Requirement already satisfied: wheel<1.0,>=0.23.0 in /usr/local/lib/python3.9/dist-packages (from astunparse->nbdev) (0.35.1)\n",
      "Requirement already satisfied: stack-data in /usr/local/lib/python3.9/dist-packages (from ipython->execnb>=0.1.4->nbdev) (0.3.0)\n",
      "Requirement already satisfied: matplotlib-inline in /usr/local/lib/python3.9/dist-packages (from ipython->execnb>=0.1.4->nbdev) (0.1.3)\n",
      "Requirement already satisfied: setuptools>=18.5 in /usr/local/lib/python3.9/dist-packages (from ipython->execnb>=0.1.4->nbdev) (63.1.0)\n",
      "Requirement already satisfied: pygments>=2.4.0 in /usr/local/lib/python3.9/dist-packages (from ipython->execnb>=0.1.4->nbdev) (2.12.0)\n",
      "Requirement already satisfied: backcall in /usr/local/lib/python3.9/dist-packages (from ipython->execnb>=0.1.4->nbdev) (0.2.0)\n",
      "Requirement already satisfied: jedi>=0.16 in /usr/local/lib/python3.9/dist-packages (from ipython->execnb>=0.1.4->nbdev) (0.18.1)\n",
      "Requirement already satisfied: pexpect>4.3 in /usr/local/lib/python3.9/dist-packages (from ipython->execnb>=0.1.4->nbdev) (4.8.0)\n",
      "Requirement already satisfied: pickleshare in /usr/local/lib/python3.9/dist-packages (from ipython->execnb>=0.1.4->nbdev) (0.7.5)\n",
      "Requirement already satisfied: prompt-toolkit!=3.0.0,!=3.0.1,<3.1.0,>=2.0.0 in /usr/local/lib/python3.9/dist-packages (from ipython->execnb>=0.1.4->nbdev) (3.0.30)\n",
      "Requirement already satisfied: decorator in /usr/local/lib/python3.9/dist-packages (from ipython->execnb>=0.1.4->nbdev) (5.1.1)\n",
      "Requirement already satisfied: traitlets>=5 in /usr/local/lib/python3.9/dist-packages (from ipython->execnb>=0.1.4->nbdev) (5.3.0)\n",
      "Requirement already satisfied: pyparsing!=3.0.5,>=2.0.2 in /usr/local/lib/python3.9/dist-packages (from packaging->fastcore>=1.5.27->nbdev) (3.0.9)\n",
      "Requirement already satisfied: parso<0.9.0,>=0.8.0 in /usr/local/lib/python3.9/dist-packages (from jedi>=0.16->ipython->execnb>=0.1.4->nbdev) (0.8.3)\n",
      "Requirement already satisfied: ptyprocess>=0.5 in /usr/local/lib/python3.9/dist-packages (from pexpect>4.3->ipython->execnb>=0.1.4->nbdev) (0.7.0)\n",
      "Requirement already satisfied: wcwidth in /usr/local/lib/python3.9/dist-packages (from prompt-toolkit!=3.0.0,!=3.0.1,<3.1.0,>=2.0.0->ipython->execnb>=0.1.4->nbdev) (0.2.5)\n",
      "Requirement already satisfied: pure-eval in /usr/local/lib/python3.9/dist-packages (from stack-data->ipython->execnb>=0.1.4->nbdev) (0.2.2)\n",
      "Requirement already satisfied: executing in /usr/local/lib/python3.9/dist-packages (from stack-data->ipython->execnb>=0.1.4->nbdev) (0.8.3)\n",
      "\u001b[33mWARNING: Running pip as the 'root' user can result in broken permissions and conflicting behaviour with the system package manager. It is recommended to use a virtual environment instead: https://pip.pypa.io/warnings/venv\u001b[0m\u001b[33m\n",
      "\u001b[0m"
     ]
    }
   ],
   "source": [
    "!pip install nbdev"
   ]
  },
  {
   "cell_type": "code",
   "execution_count": 123,
   "id": "d666c00d-0dca-4c6c-bcef-ddac0715942d",
   "metadata": {},
   "outputs": [],
   "source": [
    "import nbdev; nbdev.nbdev_export()"
   ]
  }
 ],
 "metadata": {
  "kernelspec": {
   "display_name": "Python 3 (ipykernel)",
   "language": "python",
   "name": "python3"
  },
  "language_info": {
   "codemirror_mode": {
    "name": "ipython",
    "version": 3
   },
   "file_extension": ".py",
   "mimetype": "text/x-python",
   "name": "python",
   "nbconvert_exporter": "python",
   "pygments_lexer": "ipython3",
   "version": "3.9.13"
  }
 },
 "nbformat": 4,
 "nbformat_minor": 5
}
