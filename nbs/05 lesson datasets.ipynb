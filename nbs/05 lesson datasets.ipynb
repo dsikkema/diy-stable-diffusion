{
 "cells": [
  {
   "cell_type": "code",
   "execution_count": 2,
   "id": "da7e553f",
   "metadata": {},
   "outputs": [],
   "source": [
    "#| default_exp datasets"
   ]
  },
  {
   "cell_type": "code",
   "execution_count": 5,
   "id": "3a5b2d33",
   "metadata": {},
   "outputs": [],
   "source": [
    "#|export\n",
    "from __future__ import annotations\n",
    "import math,numpy as np,matplotlib.pyplot as plt\n",
    "from operator import itemgetter\n",
    "from itertools import zip_longest\n",
    "import fastcore.all as fc\n",
    "\n",
    "from torch.utils.data import default_collate\n",
    "\n",
    "from diy_stable_diffusion.training import *"
   ]
  },
  {
   "cell_type": "code",
   "execution_count": 5,
   "id": "579a712f",
   "metadata": {},
   "outputs": [],
   "source": [
    "import logging,pickle,gzip,os,time,shutil,torch,matplotlib as mpl\n",
    "from pathlib import Path\n",
    "\n",
    "from torch import tensor,nn,optim\n",
    "from torch.utils.data import DataLoader\n",
    "import torch.nn.functional as F\n",
    "from datasets import load_dataset,load_dataset_builder\n",
    "\n",
    "import torchvision.transforms.functional as TF\n",
    "from fastcore.test import test_close"
   ]
  },
  {
   "cell_type": "code",
   "execution_count": 6,
   "id": "45dc4dc7",
   "metadata": {},
   "outputs": [],
   "source": [
    "torch.set_printoptions(precision=2, linewidth=140, sci_mode=False)\n",
    "torch.manual_seed(1)\n",
    "mpl.rcParams['image.cmap'] = 'gray'"
   ]
  },
  {
   "cell_type": "code",
   "execution_count": 7,
   "id": "84a947f2",
   "metadata": {},
   "outputs": [],
   "source": [
    "logging.disable(logging.WARNING)"
   ]
  },
  {
   "cell_type": "markdown",
   "id": "d6c38945-74e3-472b-ad34-bc18e8c4918b",
   "metadata": {},
   "source": [
    "# HF datasets"
   ]
  },
  {
   "cell_type": "code",
   "execution_count": 8,
   "id": "3c0d7722-f22f-45bc-aeed-28e05e1f10a6",
   "metadata": {},
   "outputs": [
    {
     "data": {
      "application/vnd.jupyter.widget-view+json": {
       "model_id": "88c468b429a34ae39fa28a3d129be8b2",
       "version_major": 2,
       "version_minor": 0
      },
      "text/plain": [
       "Downloading builder script:   0%|          | 0.00/2.00k [00:00<?, ?B/s]"
      ]
     },
     "metadata": {},
     "output_type": "display_data"
    },
    {
     "data": {
      "application/vnd.jupyter.widget-view+json": {
       "model_id": "50b183f955c74d248633a51572c89a74",
       "version_major": 2,
       "version_minor": 0
      },
      "text/plain": [
       "Downloading metadata:   0%|          | 0.00/1.36k [00:00<?, ?B/s]"
      ]
     },
     "metadata": {},
     "output_type": "display_data"
    },
    {
     "name": "stdout",
     "output_type": "stream",
     "text": [
      "Fashion-MNIST is a dataset of Zalando's article images—consisting of a training set of\n",
      "60,000 examples and a test set of 10,000 examples. Each example is a 28x28 grayscale image,\n",
      "associated with a label from 10 classes. We intend Fashion-MNIST to serve as a direct drop-in\n",
      "replacement for the original MNIST dataset for benchmarking machine learning algorithms.\n",
      "It shares the same image size and structure of training and testing splits.\n",
      "\n"
     ]
    }
   ],
   "source": [
    "name = 'fashion_mnist'\n",
    "ds_builder = load_dataset_builder(name)\n",
    "print(ds_builder.info.description)"
   ]
  },
  {
   "cell_type": "code",
   "execution_count": 9,
   "id": "c4fd8d51-67b1-438c-ab4b-24017a211947",
   "metadata": {},
   "outputs": [
    {
     "data": {
      "text/plain": [
       "{'image': Image(decode=True, id=None),\n",
       " 'label': ClassLabel(num_classes=10, names=['T - shirt / top', 'Trouser', 'Pullover', 'Dress', 'Coat', 'Sandal', 'Shirt', 'Sneaker', 'Bag', 'Ankle boot'], id=None)}"
      ]
     },
     "execution_count": 9,
     "metadata": {},
     "output_type": "execute_result"
    }
   ],
   "source": [
    "ds_builder.info.features"
   ]
  },
  {
   "cell_type": "code",
   "execution_count": 10,
   "id": "b96d215a-304b-4652-84e4-53550af7073e",
   "metadata": {},
   "outputs": [
    {
     "name": "stdout",
     "output_type": "stream",
     "text": [
      "Downloading and preparing dataset fashion_mnist/fashion_mnist (download: 29.45 MiB, generated: 34.84 MiB, post-processed: Unknown size, total: 64.29 MiB) to /root/.cache/huggingface/datasets/fashion_mnist/fashion_mnist/1.0.0/8d6c32399aa01613d96e2cbc9b13638f359ef62bb33612b077b4c247f6ef99c1...\n"
     ]
    },
    {
     "data": {
      "application/vnd.jupyter.widget-view+json": {
       "model_id": "54878c483f0a422d9ac13ce6f276815c",
       "version_major": 2,
       "version_minor": 0
      },
      "text/plain": [
       "Downloading data files:   0%|          | 0/4 [00:00<?, ?it/s]"
      ]
     },
     "metadata": {},
     "output_type": "display_data"
    },
    {
     "data": {
      "application/vnd.jupyter.widget-view+json": {
       "model_id": "c423b04ec2064897be209c1df7023310",
       "version_major": 2,
       "version_minor": 0
      },
      "text/plain": [
       "Downloading data:   0%|          | 0.00/26.4M [00:00<?, ?B/s]"
      ]
     },
     "metadata": {},
     "output_type": "display_data"
    },
    {
     "data": {
      "application/vnd.jupyter.widget-view+json": {
       "model_id": "04e6cfcda1444add8474f85ffffcb082",
       "version_major": 2,
       "version_minor": 0
      },
      "text/plain": [
       "Downloading data:   0%|          | 0.00/29.5k [00:00<?, ?B/s]"
      ]
     },
     "metadata": {},
     "output_type": "display_data"
    },
    {
     "data": {
      "application/vnd.jupyter.widget-view+json": {
       "model_id": "c3c36744799c498c9cb8bb6b077b15f2",
       "version_major": 2,
       "version_minor": 0
      },
      "text/plain": [
       "Downloading data:   0%|          | 0.00/4.42M [00:00<?, ?B/s]"
      ]
     },
     "metadata": {},
     "output_type": "display_data"
    },
    {
     "data": {
      "application/vnd.jupyter.widget-view+json": {
       "model_id": "1313447c5a0e4b2d986baa8bbbd261d9",
       "version_major": 2,
       "version_minor": 0
      },
      "text/plain": [
       "Downloading data:   0%|          | 0.00/5.15k [00:00<?, ?B/s]"
      ]
     },
     "metadata": {},
     "output_type": "display_data"
    },
    {
     "data": {
      "application/vnd.jupyter.widget-view+json": {
       "model_id": "1341ed5330b34d1084d94558982f002d",
       "version_major": 2,
       "version_minor": 0
      },
      "text/plain": [
       "Extracting data files:   0%|          | 0/4 [00:00<?, ?it/s]"
      ]
     },
     "metadata": {},
     "output_type": "display_data"
    },
    {
     "data": {
      "application/vnd.jupyter.widget-view+json": {
       "model_id": "",
       "version_major": 2,
       "version_minor": 0
      },
      "text/plain": [
       "Generating train split:   0%|          | 0/60000 [00:00<?, ? examples/s]"
      ]
     },
     "metadata": {},
     "output_type": "display_data"
    },
    {
     "data": {
      "application/vnd.jupyter.widget-view+json": {
       "model_id": "",
       "version_major": 2,
       "version_minor": 0
      },
      "text/plain": [
       "Generating test split:   0%|          | 0/10000 [00:00<?, ? examples/s]"
      ]
     },
     "metadata": {},
     "output_type": "display_data"
    },
    {
     "name": "stdout",
     "output_type": "stream",
     "text": [
      "Dataset fashion_mnist downloaded and prepared to /root/.cache/huggingface/datasets/fashion_mnist/fashion_mnist/1.0.0/8d6c32399aa01613d96e2cbc9b13638f359ef62bb33612b077b4c247f6ef99c1. Subsequent calls will reuse this data.\n"
     ]
    },
    {
     "data": {
      "application/vnd.jupyter.widget-view+json": {
       "model_id": "be5033f63f96450593b510d459a8582a",
       "version_major": 2,
       "version_minor": 0
      },
      "text/plain": [
       "  0%|          | 0/2 [00:00<?, ?it/s]"
      ]
     },
     "metadata": {},
     "output_type": "display_data"
    }
   ],
   "source": [
    "ds = load_dataset(name\n",
    "                 )"
   ]
  },
  {
   "cell_type": "code",
   "execution_count": 11,
   "id": "071892fb-6a93-4f90-96fc-953a27f6d745",
   "metadata": {},
   "outputs": [
    {
     "data": {
      "text/plain": [
       "DatasetDict({\n",
       "    train: Dataset({\n",
       "        features: ['image', 'label'],\n",
       "        num_rows: 60000\n",
       "    })\n",
       "    test: Dataset({\n",
       "        features: ['image', 'label'],\n",
       "        num_rows: 10000\n",
       "    })\n",
       "})"
      ]
     },
     "execution_count": 11,
     "metadata": {},
     "output_type": "execute_result"
    }
   ],
   "source": [
    "ds"
   ]
  },
  {
   "cell_type": "code",
   "execution_count": 12,
   "id": "e7a3148d-21ec-4bf9-b2f5-13b5ec38f387",
   "metadata": {},
   "outputs": [
    {
     "data": {
      "text/plain": [
       "Dataset({\n",
       "    features: ['image', 'label'],\n",
       "    num_rows: 60000\n",
       "})"
      ]
     },
     "execution_count": 12,
     "metadata": {},
     "output_type": "execute_result"
    }
   ],
   "source": [
    "ds['train']"
   ]
  },
  {
   "cell_type": "code",
   "execution_count": 13,
   "id": "1547278a-6929-4c70-9db3-540f6e3a484a",
   "metadata": {},
   "outputs": [],
   "source": [
    "model = nn.Sequential(nn.Linear(784, 100), nn.ReLU(), nn.Dropout(p=0.1), nn.Linear(100, 10))\n",
    "opt = torch.optim.SGD(model.parameters(),lr=0.1)"
   ]
  },
  {
   "cell_type": "code",
   "execution_count": 14,
   "id": "a2ef9e1a-3f91-4358-9774-fbdd6274fd1e",
   "metadata": {},
   "outputs": [],
   "source": [
    "from itertools import islice"
   ]
  },
  {
   "cell_type": "code",
   "execution_count": 15,
   "id": "52e51fc2-597d-45d4-9d59-c39bbe0eb3d7",
   "metadata": {},
   "outputs": [
    {
     "data": {
      "text/plain": [
       "{'image': <PIL.PngImagePlugin.PngImageFile image mode=L size=28x28>,\n",
       " 'label': 9}"
      ]
     },
     "execution_count": 15,
     "metadata": {},
     "output_type": "execute_result"
    }
   ],
   "source": [
    "train,test = ds['train'],ds['test']\n",
    "train[0]"
   ]
  },
  {
   "cell_type": "code",
   "execution_count": 16,
   "id": "fe0c8be6-113f-45af-8a00-583b3cfead10",
   "metadata": {},
   "outputs": [
    {
     "data": {
      "text/plain": [
       "('image', 'label')"
      ]
     },
     "execution_count": 16,
     "metadata": {},
     "output_type": "execute_result"
    }
   ],
   "source": [
    "x,y = ds_builder.info.features\n",
    "x,y"
   ]
  },
  {
   "cell_type": "code",
   "execution_count": 17,
   "id": "c47aef70-7b6f-48cc-ba1c-24c5cc334583",
   "metadata": {},
   "outputs": [
    {
     "data": {
      "text/plain": [
       "<matplotlib.image.AxesImage at 0x7f3102194970>"
      ]
     },
     "execution_count": 17,
     "metadata": {},
     "output_type": "execute_result"
    },
    {
     "data": {
      "image/png": "[encoded data removed]",
      "text/plain": [
       "<Figure size 432x288 with 1 Axes>"
      ]
     },
     "metadata": {
      "needs_background": "light"
     },
     "output_type": "display_data"
    }
   ],
   "source": [
    "x,y='image','label'\n",
    "img=train[0][x]\n",
    "plt.imshow(img)"
   ]
  },
  {
   "cell_type": "code",
   "execution_count": 18,
   "id": "72ee9246-058b-4fd7-8526-80caa22ebbe2",
   "metadata": {},
   "outputs": [
    {
     "data": {
      "text/plain": [
       "[9, 0, 0, 3, 0]"
      ]
     },
     "execution_count": 18,
     "metadata": {},
     "output_type": "execute_result"
    }
   ],
   "source": [
    "xb=train[:5][x]\n",
    "yb=train[:5][y]\n",
    "yb"
   ]
  },
  {
   "cell_type": "code",
   "execution_count": 19,
   "id": "7507d0e5-62b4-4066-af23-6666c1775451",
   "metadata": {},
   "outputs": [
    {
     "data": {
      "text/plain": [
       "ClassLabel(num_classes=10, names=['T - shirt / top', 'Trouser', 'Pullover', 'Dress', 'Coat', 'Sandal', 'Shirt', 'Sneaker', 'Bag', 'Ankle boot'], id=None)"
      ]
     },
     "execution_count": 19,
     "metadata": {},
     "output_type": "execute_result"
    }
   ],
   "source": [
    "featy = train.features[y]\n",
    "featy"
   ]
  },
  {
   "cell_type": "code",
   "execution_count": 20,
   "id": "87f3d504-2849-47e0-a33c-1b5a2359c336",
   "metadata": {},
   "outputs": [
    {
     "data": {
      "text/plain": [
       "['Ankle boot',\n",
       " 'T - shirt / top',\n",
       " 'T - shirt / top',\n",
       " 'Dress',\n",
       " 'T - shirt / top']"
      ]
     },
     "execution_count": 20,
     "metadata": {},
     "output_type": "execute_result"
    }
   ],
   "source": [
    "featy.int2str(yb)"
   ]
  },
  {
   "cell_type": "code",
   "execution_count": 21,
   "id": "7c407f70-127d-44db-9fd1-d1b87dde3625",
   "metadata": {},
   "outputs": [
    {
     "data": {
      "text/plain": [
       "([9, 0, 0, 3, 0], ['Dress'])"
      ]
     },
     "execution_count": 21,
     "metadata": {},
     "output_type": "execute_result"
    }
   ],
   "source": [
    "train[y][:5],featy.int2str([3])"
   ]
  },
  {
   "cell_type": "code",
   "execution_count": 22,
   "id": "d9246560-9140-4cc6-a96e-ca316559399e",
   "metadata": {},
   "outputs": [
    {
     "data": {
      "text/plain": [
       "('image', 'label')"
      ]
     },
     "execution_count": 22,
     "metadata": {},
     "output_type": "execute_result"
    }
   ],
   "source": [
    "x,y"
   ]
  },
  {
   "cell_type": "code",
   "execution_count": 23,
   "id": "13d36484-a02a-45ee-a5d2-98c56e145a08",
   "metadata": {},
   "outputs": [],
   "source": [
    "def collate_fn(batch):\n",
    "    return {\n",
    "        'image': torch.stack([TF.to_tensor(ob['image']) for ob in batch]),\n",
    "        'label': tensor([ob['label'] for ob in batch])\n",
    "    }"
   ]
  },
  {
   "cell_type": "code",
   "execution_count": 24,
   "id": "f738cb8b-3d5f-4d53-bc4e-f8b1387fc11c",
   "metadata": {},
   "outputs": [],
   "source": [
    "ds_train=train\n",
    "ds_valid=test"
   ]
  },
  {
   "cell_type": "code",
   "execution_count": 25,
   "id": "c58ac8dc-2665-41be-9da7-bfeff32fce1d",
   "metadata": {},
   "outputs": [
    {
     "data": {
      "text/plain": [
       "(torch.Size([16, 1, 28, 28]),\n",
       " tensor([9, 0, 0, 3, 0, 2, 7, 2, 5, 5, 0, 9, 5, 5, 7, 9]))"
      ]
     },
     "execution_count": 25,
     "metadata": {},
     "output_type": "execute_result"
    }
   ],
   "source": [
    "dl = DataLoader(ds_train, collate_fn=collate_fn, batch_size=16)\n",
    "b=next(iter(dl))\n",
    "b['image'].shape,b['label']"
   ]
  },
  {
   "cell_type": "code",
   "execution_count": 26,
   "id": "aba3a3b9-2202-478e-aed1-c9136252ef67",
   "metadata": {},
   "outputs": [],
   "source": [
    "def transforms(b):\n",
    "    b['image'] = [TF.to_tensor(o) for o in b['image']]\n",
    "    return b"
   ]
  },
  {
   "cell_type": "code",
   "execution_count": 27,
   "id": "bc2b6d06-2315-46d4-946b-454fbae2f32d",
   "metadata": {},
   "outputs": [],
   "source": [
    "ds_train = ds_train.with_transform(transforms)\n",
    "dl = DataLoader(ds_train, batch_size=16)"
   ]
  },
  {
   "cell_type": "code",
   "execution_count": 28,
   "id": "2e83372c-de6f-4336-99e8-fad6b9b714ed",
   "metadata": {},
   "outputs": [
    {
     "data": {
      "text/plain": [
       "torch.Size([16, 1, 28, 28])"
      ]
     },
     "execution_count": 28,
     "metadata": {},
     "output_type": "execute_result"
    }
   ],
   "source": [
    "b = next(iter(dl))\n",
    "b['image'].shape"
   ]
  },
  {
   "cell_type": "code",
   "execution_count": 29,
   "id": "3960357d-2e24-4942-8e2e-a26f48d1eae2",
   "metadata": {},
   "outputs": [],
   "source": [
    "def _transformi(b):\n",
    "    b['image'] = [torch.flatten(TF.to_tensor(im)) for im in b['image']]\n"
   ]
  },
  {
   "cell_type": "code",
   "execution_count": 1,
   "id": "cfee6957-a943-4d46-94e9-11a1d5285d79",
   "metadata": {},
   "outputs": [],
   "source": [
    "#|export\n",
    "def inplace(f):\n",
    "    def _f(b):\n",
    "        f(b)\n",
    "        return b\n",
    "    return _f"
   ]
  },
  {
   "cell_type": "code",
   "execution_count": 31,
   "id": "3821b453-0169-44aa-af55-d387d0b323b2",
   "metadata": {},
   "outputs": [],
   "source": [
    "transformi = inplace(_transformi)"
   ]
  },
  {
   "cell_type": "code",
   "execution_count": 32,
   "id": "a9b6556d-8cdd-46f2-8022-991ce052d070",
   "metadata": {},
   "outputs": [
    {
     "data": {
      "text/plain": [
       "(torch.Size([784]), 9)"
      ]
     },
     "execution_count": 32,
     "metadata": {},
     "output_type": "execute_result"
    }
   ],
   "source": [
    "r = ds['train'].with_transform(transformi)[0]\n",
    "r['image'].shape,r['label']"
   ]
  },
  {
   "cell_type": "code",
   "execution_count": 33,
   "id": "8a488c3f-4215-4907-b9f2-b3c01927198e",
   "metadata": {},
   "outputs": [],
   "source": [
    "@inplace\n",
    "def transformi(b):\n",
    "    b['image'] = [torch.flatten(TF.to_tensor(im)) for im in b['image']]"
   ]
  },
  {
   "cell_type": "code",
   "execution_count": 34,
   "id": "12ea05a1-cd73-40ef-a987-1cc8f34e63ce",
   "metadata": {},
   "outputs": [],
   "source": [
    "ds= ds['train'].with_transform(transformi)\n"
   ]
  },
  {
   "cell_type": "code",
   "execution_count": 35,
   "id": "5dd1e9f4-9594-4127-842e-d074632a36b7",
   "metadata": {},
   "outputs": [
    {
     "data": {
      "text/plain": [
       "(1, 'c')"
      ]
     },
     "execution_count": 35,
     "metadata": {},
     "output_type": "execute_result"
    }
   ],
   "source": [
    "d=dict(a=1, b=2, c='c')\n",
    "ig=itemgetter('a', 'c')\n",
    "ig(d)"
   ]
  },
  {
   "cell_type": "code",
   "execution_count": 36,
   "id": "6bd1c9e8-f82e-4214-9d3c-73eeacbfbf8a",
   "metadata": {},
   "outputs": [],
   "source": [
    "class D:\n",
    "    def __getitem__(self, k):\n",
    "        return 1 if k=='a' else 2\n",
    "d=D()"
   ]
  },
  {
   "cell_type": "code",
   "execution_count": 37,
   "id": "f182711d-cfb0-4f8a-adcb-02e34e46ec4b",
   "metadata": {},
   "outputs": [
    {
     "data": {
      "text/plain": [
       "(1, 2)"
      ]
     },
     "execution_count": 37,
     "metadata": {},
     "output_type": "execute_result"
    }
   ],
   "source": [
    "d['a'],d['zzz']"
   ]
  },
  {
   "cell_type": "code",
   "execution_count": 38,
   "id": "4baff77a-ec54-4ed2-a71e-d8ddec9d18c2",
   "metadata": {},
   "outputs": [
    {
     "data": {
      "text/plain": [
       "(1, 2)"
      ]
     },
     "execution_count": 38,
     "metadata": {},
     "output_type": "execute_result"
    }
   ],
   "source": [
    "ig(d)"
   ]
  },
  {
   "cell_type": "code",
   "execution_count": 39,
   "id": "f655a1dc-9a47-4fab-9e0f-cc4fac758eb0",
   "metadata": {},
   "outputs": [
    {
     "data": {
      "text/plain": [
       "('image', 'label')"
      ]
     },
     "execution_count": 39,
     "metadata": {},
     "output_type": "execute_result"
    }
   ],
   "source": [
    "tuple(ds.features)"
   ]
  },
  {
   "cell_type": "code",
   "execution_count": 40,
   "id": "6f64551f-b8a1-4456-8712-dbc093693dd4",
   "metadata": {},
   "outputs": [
    {
     "data": {
      "text/plain": [
       "{'a': [tensor([1, 3])], 'b': [tensor([2, 4])]}"
      ]
     },
     "execution_count": 40,
     "metadata": {},
     "output_type": "execute_result"
    }
   ],
   "source": [
    "b = dict(a=[1], b=[2]), dict(a=[3], b=[4])\n",
    "default_collate(b)"
   ]
  },
  {
   "cell_type": "code",
   "execution_count": 41,
   "id": "d4fcc88c-ba08-4de3-a07b-805a3af71870",
   "metadata": {},
   "outputs": [],
   "source": [
    "#|export\n",
    "def collate_dict(ds):\n",
    "    getter = itemgetter(*ds.features)\n",
    "    def _f(b):\n",
    "        return getter(default_collate(b))\n",
    "    return _f"
   ]
  },
  {
   "cell_type": "code",
   "execution_count": 42,
   "id": "b57fda10-916b-4153-9cc9-4a74e4394faf",
   "metadata": {},
   "outputs": [
    {
     "data": {
      "text/plain": [
       "<__main__.D at 0x7f31020f17f0>"
      ]
     },
     "execution_count": 42,
     "metadata": {},
     "output_type": "execute_result"
    }
   ],
   "source": [
    "d\n"
   ]
  },
  {
   "cell_type": "code",
   "execution_count": 43,
   "id": "03644ec0-1784-4ea9-92d2-1b1addec385e",
   "metadata": {},
   "outputs": [
    {
     "data": {
      "text/plain": [
       "(tensor([[0.00, 0.00, 0.00, 0.00, 0.00, 0.00, 0.00, 0.00, 0.00, 0.00, 0.00, 0.00, 0.00, 0.00, 0.00, 0.00, 0.00, 0.00, 0.00, 0.00, 0.00, 0.00,\n",
       "          0.00, 0.00, 0.00, 0.00, 0.00, 0.00, 0.00, 0.00, 0.00, 0.00, 0.00, 0.00, 0.00, 0.00, 0.00, 0.00, 0.00, 0.00, 0.00, 0.00, 0.00, 0.00,\n",
       "          0.00, 0.00, 0.00, 0.00, 0.00, 0.00, 0.00, 0.00, 0.00, 0.00, 0.00, 0.00, 0.00, 0.00, 0.00, 0.00, 0.00, 0.00, 0.00, 0.00, 0.00, 0.00,\n",
       "          0.00, 0.00, 0.00, 0.00, 0.00, 0.00, 0.00, 0.00, 0.00, 0.00, 0.00, 0.00, 0.00, 0.00, 0.00, 0.00, 0.00, 0.00, 0.00, 0.00, 0.00, 0.00,\n",
       "          0.00, 0.00, 0.00, 0.00, 0.00, 0.00, 0.00, 0.00, 0.00, 0.00, 0.00, 0.05, 0.29, 0.00, 0.00, 0.00, 0.02, 0.00, 0.00, 0.00, 0.00, 0.00,\n",
       "          0.00, 0.00, 0.00, 0.00, 0.00, 0.00, 0.00, 0.00, 0.00, 0.00, 0.00, 0.00, 0.00, 0.00, 0.01, 0.00, 0.14, 0.53, 0.50, 0.24, 0.21, 0.00,\n",
       "          0.00, 0.00, 0.00, 0.01, 0.02, 0.00, 0.00, 0.01, 0.00, 0.00, 0.00, 0.00, 0.00, 0.00, 0.00, 0.00, 0.00, 0.00, 0.00, 0.00, 0.02, 0.00,\n",
       "          0.40, 0.80, 0.69, 0.53, 0.56, 0.48, 0.09, 0.00, 0.00, 0.00, 0.00, 0.05, 0.04, 0.00, 0.00, 0.00, 0.00, 0.00, 0.00, 0.00, 0.00, 0.00,\n",
       "          0.00, 0.00, 0.00, 0.00, 0.00, 0.00, 0.61, 0.93, 0.81, 0.70, 0.42, 0.61, 0.63, 0.43, 0.25, 0.09, 0.30, 0.51, 0.28, 0.06, 0.00, 0.00,\n",
       "          0.00, 0.00, 0.00, 0.00, 0.00, 0.00, 0.00, 0.00, 0.00, 0.00, 0.00, 0.27, 0.81, 0.87, 0.85, 0.85, 0.85, 0.64, 0.50, 0.47, 0.48, 0.57,\n",
       "          0.55, 0.35, 0.67, 0.26, 0.00, 0.00, 0.00, 0.00, 0.00, 0.00, 0.00, 0.00, 0.00, 0.00, 0.00, 0.00, 0.00, 0.78, 0.91, 0.91, 0.91, 0.90,\n",
       "          0.87, 0.87, 0.84, 0.84, 0.64, 0.50, 0.48, 0.77, 0.90, 0.00, 0.00, 0.00, 0.00, 0.00, 0.00, 0.00, 0.00, 0.00, 0.00, 0.00, 0.00, 0.00,\n",
       "          0.00, 0.72, 0.88, 0.85, 0.87, 0.89, 0.92, 0.89, 0.88, 0.87, 0.88, 0.87, 0.87, 0.96, 0.68, 0.00, 0.00, 0.00, 0.00, 0.00, 0.00, 0.00,\n",
       "          0.00, 0.00, 0.00, 0.00, 0.00, 0.00, 0.00, 0.76, 0.89, 0.85, 0.84, 0.78, 0.71, 0.83, 0.82, 0.83, 0.84, 0.87, 0.86, 0.95, 0.79, 0.00,\n",
       "          0.00, 0.00, 0.00, 0.00, 0.00, 0.00, 0.00, 0.00, 0.00, 0.00, 0.01, 0.00, 0.05, 0.86, 0.86, 0.83, 0.85, 0.75, 0.66, 0.89, 0.82, 0.85,\n",
       "          0.88, 0.83, 0.89, 0.77, 0.82, 0.20, 0.00, 0.00, 0.00, 0.00, 0.00, 0.00, 0.00, 0.00, 0.00, 0.00, 0.02, 0.00, 0.39, 0.96, 0.87, 0.86,\n",
       "          0.85, 0.80, 0.78, 0.87, 0.84, 0.84, 0.87, 0.86, 0.96, 0.47, 0.65, 0.22, 0.00, 0.00, 0.00, 0.00, 0.00, 0.00, 0.00, 0.00, 0.00, 0.02,\n",
       "          0.00, 0.00, 0.22, 0.93, 0.89, 0.90, 0.89, 0.94, 0.91, 0.84, 0.85, 0.87, 0.92, 0.85, 0.85, 0.82, 0.36, 0.00, 0.00, 0.00, 0.00, 0.02,\n",
       "          0.02, 0.03, 0.01, 0.00, 0.00, 0.00, 0.00, 0.00, 0.93, 0.89, 0.85, 0.87, 0.87, 0.86, 0.87, 0.87, 0.85, 0.87, 0.90, 0.84, 0.85, 1.00,\n",
       "          0.30, 0.00, 0.00, 0.01, 0.00, 0.00, 0.00, 0.00, 0.00, 0.00, 0.00, 0.24, 0.57, 0.80, 0.89, 0.81, 0.84, 0.87, 0.85, 0.82, 0.83, 0.85,\n",
       "          0.88, 0.87, 0.86, 0.84, 0.88, 0.96, 0.62, 0.00, 0.00, 0.00, 0.00, 0.00, 0.07, 0.17, 0.32, 0.42, 0.74, 0.89, 0.86, 0.87, 0.85, 0.89,\n",
       "          0.78, 0.80, 0.83, 0.90, 0.88, 0.92, 0.69, 0.74, 0.98, 0.97, 0.91, 0.93, 0.84, 0.00, 0.00, 0.22, 0.73, 0.82, 0.88, 0.87, 0.88, 0.82,\n",
       "          0.80, 0.84, 0.82, 0.82, 0.78, 0.62, 0.96, 0.76, 0.81, 0.87, 1.00, 1.00, 0.87, 0.92, 0.87, 0.83, 0.86, 0.91, 0.96, 0.00, 0.01, 0.79,\n",
       "          0.89, 0.88, 0.87, 0.83, 0.83, 0.84, 0.80, 0.80, 0.80, 0.86, 0.94, 0.31, 0.59, 1.00, 0.90, 0.87, 0.74, 0.60, 0.75, 0.82, 0.80, 0.82,\n",
       "          0.87, 0.89, 0.88, 0.00, 0.38, 0.91, 0.78, 0.82, 0.87, 0.90, 0.90, 0.92, 0.98, 0.86, 0.76, 0.84, 0.85, 0.95, 0.25, 0.29, 0.42, 0.46,\n",
       "          0.66, 0.86, 0.87, 0.84, 0.85, 0.87, 0.87, 0.88, 0.90, 0.11, 0.29, 0.80, 0.83, 0.80, 0.76, 0.80, 0.83, 0.88, 0.85, 0.73, 0.77, 0.81,\n",
       "          0.78, 0.84, 0.94, 0.76, 0.89, 0.96, 0.94, 0.87, 0.85, 0.83, 0.82, 0.87, 0.86, 0.87, 0.90, 0.26, 0.19, 0.80, 0.72, 0.76, 0.84, 0.77,\n",
       "          0.73, 0.75, 0.76, 0.75, 0.79, 0.84, 0.86, 0.87, 0.86, 0.93, 0.88, 0.85, 0.78, 0.81, 0.73, 0.71, 0.69, 0.67, 0.71, 0.80, 0.81, 0.45,\n",
       "          0.00, 0.48, 0.86, 0.76, 0.70, 0.67, 0.72, 0.77, 0.80, 0.82, 0.84, 0.81, 0.83, 0.82, 0.78, 0.77, 0.76, 0.75, 0.76, 0.75, 0.78, 0.75,\n",
       "          0.69, 0.61, 0.65, 0.69, 0.82, 0.36, 0.00, 0.00, 0.29, 0.74, 0.83, 0.75, 0.69, 0.67, 0.69, 0.71, 0.73, 0.74, 0.74, 0.74, 0.76, 0.78,\n",
       "          0.80, 0.82, 0.82, 0.82, 0.83, 0.74, 0.74, 0.76, 0.75, 0.85, 0.67, 0.00, 0.01, 0.00, 0.00, 0.00, 0.26, 0.78, 0.87, 0.93, 0.94, 0.95,\n",
       "          0.96, 0.95, 0.96, 0.87, 0.86, 0.76, 0.75, 0.70, 0.71, 0.71, 0.71, 0.69, 0.65, 0.66, 0.39, 0.23, 0.00, 0.00, 0.00, 0.00, 0.00, 0.00,\n",
       "          0.00, 0.00, 0.00, 0.16, 0.24, 0.17, 0.28, 0.16, 0.14, 0.00, 0.00, 0.00, 0.00, 0.00, 0.00, 0.00, 0.00, 0.00, 0.00, 0.00, 0.00, 0.00,\n",
       "          0.00, 0.00, 0.00, 0.00, 0.00, 0.00, 0.00, 0.00, 0.00, 0.00, 0.00, 0.00, 0.00, 0.00, 0.00, 0.00, 0.00, 0.00, 0.00, 0.00, 0.00, 0.00,\n",
       "          0.00, 0.00, 0.00, 0.00, 0.00, 0.00, 0.00, 0.00, 0.00, 0.00, 0.00, 0.00, 0.00, 0.00, 0.00, 0.00, 0.00, 0.00, 0.00, 0.00, 0.00, 0.00,\n",
       "          0.00, 0.00, 0.00, 0.00, 0.00, 0.00, 0.00, 0.00, 0.00, 0.00, 0.00, 0.00, 0.00, 0.00]]),\n",
       " tensor([9]))"
      ]
     },
     "execution_count": 43,
     "metadata": {},
     "output_type": "execute_result"
    }
   ],
   "source": [
    "f = collate_dict(ds)\n",
    "f([next(iter(ds))])"
   ]
  },
  {
   "cell_type": "code",
   "execution_count": 44,
   "id": "77004400-f605-4e78-8e45-a0ed4bc2fccf",
   "metadata": {},
   "outputs": [
    {
     "data": {
      "text/plain": [
       "(torch.Size([4, 784]), tensor([9, 0, 0, 3]))"
      ]
     },
     "execution_count": 44,
     "metadata": {},
     "output_type": "execute_result"
    }
   ],
   "source": [
    "dl = DataLoader(ds, batch_size=4, collate_fn=collate_dict(ds))\n",
    "xb,yb=next(iter(dl))\n",
    "xb.shape, yb"
   ]
  },
  {
   "cell_type": "code",
   "execution_count": 45,
   "id": "cf9f6a17-f5a6-4569-807c-6898b1f6d33a",
   "metadata": {},
   "outputs": [
    {
     "data": {
      "text/plain": [
       "<matplotlib.image.AxesImage at 0x7f31021a4880>"
      ]
     },
     "execution_count": 45,
     "metadata": {},
     "output_type": "execute_result"
    },
    {
     "data": {
      "image/png": "[encoded data removed]",
      "text/plain": [
       "<Figure size 432x288 with 1 Axes>"
      ]
     },
     "metadata": {
      "needs_background": "light"
     },
     "output_type": "display_data"
    }
   ],
   "source": [
    "plt.imshow(xb[0].view(28,28))"
   ]
  },
  {
   "cell_type": "code",
   "execution_count": 2,
   "id": "b315bb91-5d84-44c0-9712-e672576b7d1d",
   "metadata": {},
   "outputs": [
    {
     "ename": "NameError",
     "evalue": "name 'fc' is not defined",
     "output_type": "error",
     "traceback": [
      "\u001b[0;31m---------------------------------------------------------------------------\u001b[0m",
      "\u001b[0;31mNameError\u001b[0m                                 Traceback (most recent call last)",
      "Input \u001b[0;32mIn [2]\u001b[0m, in \u001b[0;36m<cell line: 2>\u001b[0;34m()\u001b[0m\n\u001b[1;32m      1\u001b[0m \u001b[38;5;66;03m#|export\u001b[39;00m\n\u001b[0;32m----> 2\u001b[0m \u001b[38;5;129m@fc\u001b[39m\u001b[38;5;241m.\u001b[39mdelegates(plt\u001b[38;5;241m.\u001b[39mAxes\u001b[38;5;241m.\u001b[39mimshow)\n\u001b[1;32m      3\u001b[0m \u001b[38;5;28;01mdef\u001b[39;00m \u001b[38;5;21mshow_image\u001b[39m(im, ax\u001b[38;5;241m=\u001b[39m\u001b[38;5;28;01mNone\u001b[39;00m, figsize\u001b[38;5;241m=\u001b[39m\u001b[38;5;28;01mNone\u001b[39;00m, title\u001b[38;5;241m=\u001b[39m\u001b[38;5;28;01mNone\u001b[39;00m, noframe\u001b[38;5;241m=\u001b[39m\u001b[38;5;28;01mTrue\u001b[39;00m, \u001b[38;5;241m*\u001b[39m\u001b[38;5;241m*\u001b[39mkwargs):\n\u001b[1;32m      4\u001b[0m     \u001b[38;5;124;03m'''Show a PIL or pytorch tensor on ax'''\u001b[39;00m\n\u001b[1;32m      5\u001b[0m     \u001b[38;5;28;01mif\u001b[39;00m im \u001b[38;5;129;01mis\u001b[39;00m \u001b[38;5;28;01mNone\u001b[39;00m:\n",
      "\u001b[0;31mNameError\u001b[0m: name 'fc' is not defined"
     ]
    }
   ],
   "source": [
    "#|export\n",
    "@fc.delegates(plt.Axes.imshow)\n",
    "def show_image(im, ax=None, figsize=None, title=None, noframe=True, **kwargs):\n",
    "    '''Show a PIL or pytorch tensor on ax'''\n",
    "    if im is None:\n",
    "        return None\n",
    "    \n",
    "    if fc.hasattrs(im, ('cpu', 'permute', 'detach')):\n",
    "        im = im.detach().cpu()\n",
    "        if len(im.shape) == 3 and im.shape[0] < 5:\n",
    "            im = im.permute(1,2,0)\n",
    "    elif not isinstance(im, np.ndarray):\n",
    "        im = np.array(im)\n",
    "    \n",
    "    if im.shape[-1] == 1:\n",
    "        im = im[...,0] # probably same as unsqueeze, right?\n",
    "    if ax is None:\n",
    "        _,ax = plt.subplots(figsize=figsize)\n",
    "\n",
    "    ax.imshow(im, **kwargs)\n",
    "    \n",
    "    if title is not None:\n",
    "        ax.set_title(title)\n",
    "        \n",
    "    ax.set_xticks([])\n",
    "    ax.set_yticks([])\n",
    "    \n",
    "    if noframe:\n",
    "        ax.axis('off')\n",
    "    return ax"
   ]
  },
  {
   "cell_type": "code",
   "execution_count": 47,
   "id": "b7b5f49a-b40a-4da4-a7b6-992cc59adf55",
   "metadata": {},
   "outputs": [
    {
     "data": {
      "text/plain": [
       "<AxesSubplot:>"
      ]
     },
     "execution_count": 47,
     "metadata": {},
     "output_type": "execute_result"
    },
    {
     "data": {
      "image/png": "[encoded data removed]",
      "text/plain": [
       "<Figure size 432x288 with 1 Axes>"
      ]
     },
     "metadata": {},
     "output_type": "display_data"
    }
   ],
   "source": [
    "show_image(xb[0].view(28,28))"
   ]
  },
  {
   "cell_type": "code",
   "execution_count": 48,
   "id": "243f7073-9274-4817-b7a7-2555ac0fd007",
   "metadata": {},
   "outputs": [],
   "source": [
    "def rs(s):\n",
    "    return s.view(28,28)"
   ]
  },
  {
   "cell_type": "code",
   "execution_count": 49,
   "id": "12e5a53c-9e0a-4cd4-b7ab-342c5c0e0b54",
   "metadata": {},
   "outputs": [
    {
     "data": {
      "text/plain": [
       "<AxesSubplot:>"
      ]
     },
     "execution_count": 49,
     "metadata": {},
     "output_type": "execute_result"
    },
    {
     "data": {
      "image/png": "[encoded data removed]",
      "text/plain": [
       "<Figure size 432x288 with 2 Axes>"
      ]
     },
     "metadata": {},
     "output_type": "display_data"
    }
   ],
   "source": [
    "fig,axs = plt.subplots(1,2)\n",
    "show_image(rs(xb[0]), axs[0])\n",
    "show_image(rs(xb[1]), axs[1])"
   ]
  },
  {
   "cell_type": "code",
   "execution_count": 50,
   "id": "56f1c2fd-a648-415a-9992-93c872bb9c23",
   "metadata": {},
   "outputs": [
    {
     "name": "stdout",
     "output_type": "stream",
     "text": [
      "Collecting nbdev\n",
      "  Downloading nbdev-2.3.12-py3-none-any.whl (64 kB)\n",
      "\u001b[2K     \u001b[90m━━━━━━━━━━━━━━━━━━━━━━━━━━━━━━━━━━━━━━━\u001b[0m \u001b[32m64.8/64.8 kB\u001b[0m \u001b[31m829.2 kB/s\u001b[0m eta \u001b[36m0:00:00\u001b[0ma \u001b[36m0:00:01\u001b[0m\n",
      "\u001b[?25hRequirement already satisfied: PyYAML in /usr/lib/python3/dist-packages (from nbdev) (5.3.1)\n",
      "Collecting ghapi>=1.0.3\n",
      "  Downloading ghapi-1.0.4-py3-none-any.whl (58 kB)\n",
      "\u001b[2K     \u001b[90m━━━━━━━━━━━━━━━━━━━━━━━━━━━━━━━━━━━━━━━━\u001b[0m \u001b[32m58.7/58.7 kB\u001b[0m \u001b[31m4.2 MB/s\u001b[0m eta \u001b[36m0:00:00\u001b[0m\n",
      "\u001b[?25hRequirement already satisfied: astunparse in /usr/local/lib/python3.9/dist-packages (from nbdev) (1.6.3)\n",
      "Requirement already satisfied: fastcore>=1.5.27 in /usr/local/lib/python3.9/dist-packages (from nbdev) (1.5.27)\n",
      "Requirement already satisfied: asttokens in /usr/local/lib/python3.9/dist-packages (from nbdev) (2.0.5)\n",
      "Collecting execnb>=0.1.4\n",
      "  Downloading execnb-0.1.5-py3-none-any.whl (13 kB)\n",
      "Collecting watchdog\n",
      "  Downloading watchdog-3.0.0-py3-none-manylinux2014_x86_64.whl (82 kB)\n",
      "\u001b[2K     \u001b[90m━━━━━━━━━━━━━━━━━━━━━━━━━━━━━━━━━━━━━━━━\u001b[0m \u001b[32m82.1/82.1 kB\u001b[0m \u001b[31m11.9 MB/s\u001b[0m eta \u001b[36m0:00:00\u001b[0m\n",
      "\u001b[?25hRequirement already satisfied: ipython in /usr/local/lib/python3.9/dist-packages (from execnb>=0.1.4->nbdev) (8.4.0)\n",
      "Requirement already satisfied: packaging in /usr/local/lib/python3.9/dist-packages (from fastcore>=1.5.27->nbdev) (21.3)\n",
      "Requirement already satisfied: pip in /usr/local/lib/python3.9/dist-packages (from fastcore>=1.5.27->nbdev) (22.2.2)\n",
      "Requirement already satisfied: six in /usr/lib/python3/dist-packages (from asttokens->nbdev) (1.14.0)\n",
      "Requirement already satisfied: wheel<1.0,>=0.23.0 in /usr/local/lib/python3.9/dist-packages (from astunparse->nbdev) (0.35.1)\n",
      "Requirement already satisfied: setuptools>=18.5 in /usr/local/lib/python3.9/dist-packages (from ipython->execnb>=0.1.4->nbdev) (63.1.0)\n",
      "Requirement already satisfied: backcall in /usr/local/lib/python3.9/dist-packages (from ipython->execnb>=0.1.4->nbdev) (0.2.0)\n",
      "Requirement already satisfied: jedi>=0.16 in /usr/local/lib/python3.9/dist-packages (from ipython->execnb>=0.1.4->nbdev) (0.18.1)\n",
      "Requirement already satisfied: pygments>=2.4.0 in /usr/local/lib/python3.9/dist-packages (from ipython->execnb>=0.1.4->nbdev) (2.12.0)\n",
      "Requirement already satisfied: matplotlib-inline in /usr/local/lib/python3.9/dist-packages (from ipython->execnb>=0.1.4->nbdev) (0.1.3)\n",
      "Requirement already satisfied: pexpect>4.3 in /usr/local/lib/python3.9/dist-packages (from ipython->execnb>=0.1.4->nbdev) (4.8.0)\n",
      "Requirement already satisfied: decorator in /usr/local/lib/python3.9/dist-packages (from ipython->execnb>=0.1.4->nbdev) (5.1.1)\n",
      "Requirement already satisfied: traitlets>=5 in /usr/local/lib/python3.9/dist-packages (from ipython->execnb>=0.1.4->nbdev) (5.3.0)\n",
      "Requirement already satisfied: stack-data in /usr/local/lib/python3.9/dist-packages (from ipython->execnb>=0.1.4->nbdev) (0.3.0)\n",
      "Requirement already satisfied: prompt-toolkit!=3.0.0,!=3.0.1,<3.1.0,>=2.0.0 in /usr/local/lib/python3.9/dist-packages (from ipython->execnb>=0.1.4->nbdev) (3.0.30)\n",
      "Requirement already satisfied: pickleshare in /usr/local/lib/python3.9/dist-packages (from ipython->execnb>=0.1.4->nbdev) (0.7.5)\n",
      "Requirement already satisfied: pyparsing!=3.0.5,>=2.0.2 in /usr/local/lib/python3.9/dist-packages (from packaging->fastcore>=1.5.27->nbdev) (3.0.9)\n",
      "Requirement already satisfied: parso<0.9.0,>=0.8.0 in /usr/local/lib/python3.9/dist-packages (from jedi>=0.16->ipython->execnb>=0.1.4->nbdev) (0.8.3)\n",
      "Requirement already satisfied: ptyprocess>=0.5 in /usr/local/lib/python3.9/dist-packages (from pexpect>4.3->ipython->execnb>=0.1.4->nbdev) (0.7.0)\n",
      "Requirement already satisfied: wcwidth in /usr/local/lib/python3.9/dist-packages (from prompt-toolkit!=3.0.0,!=3.0.1,<3.1.0,>=2.0.0->ipython->execnb>=0.1.4->nbdev) (0.2.5)\n",
      "Requirement already satisfied: pure-eval in /usr/local/lib/python3.9/dist-packages (from stack-data->ipython->execnb>=0.1.4->nbdev) (0.2.2)\n",
      "Requirement already satisfied: executing in /usr/local/lib/python3.9/dist-packages (from stack-data->ipython->execnb>=0.1.4->nbdev) (0.8.3)\n",
      "Installing collected packages: watchdog, ghapi, execnb, nbdev\n",
      "Successfully installed execnb-0.1.5 ghapi-1.0.4 nbdev-2.3.12 watchdog-3.0.0\n",
      "\u001b[33mWARNING: Running pip as the 'root' user can result in broken permissions and conflicting behaviour with the system package manager. It is recommended to use a virtual environment instead: https://pip.pypa.io/warnings/venv\u001b[0m\u001b[33m\n",
      "\u001b[0m"
     ]
    }
   ],
   "source": [
    "!pip install nbdev"
   ]
  },
  {
   "cell_type": "code",
   "execution_count": 51,
   "id": "8fbb2051-dda0-4185-b944-268580e69e3e",
   "metadata": {},
   "outputs": [],
   "source": [
    "from nbdev.showdoc import show_doc"
   ]
  },
  {
   "cell_type": "code",
   "execution_count": 52,
   "id": "26861f90-70ee-4bf4-9894-6891aa30afbc",
   "metadata": {},
   "outputs": [
    {
     "name": "stderr",
     "output_type": "stream",
     "text": [
      "/usr/local/lib/python3.9/dist-packages/fastcore/docscrape.py:225: UserWarning: Unknown section Other Parameters\n",
      "  else: warn(msg)\n",
      "/usr/local/lib/python3.9/dist-packages/fastcore/docscrape.py:225: UserWarning: Unknown section See Also\n",
      "  else: warn(msg)\n",
      "/usr/local/lib/python3.9/dist-packages/fastcore/docscrape.py:225: UserWarning: Unknown section Notes\n",
      "  else: warn(msg)\n"
     ]
    },
    {
     "data": {
      "text/markdown": [
       "---\n",
       "\n",
       "### show_image\n",
       "\n",
       ">      show_image (im, ax=None, figsize=None, title=None, noframe=True,\n",
       ">                  cmap=None, norm=None, aspect=None, interpolation=None,\n",
       ">                  alpha=None, vmin=None, vmax=None, origin=None, extent=None,\n",
       ">                  interpolation_stage=None, filternorm=True, filterrad=4.0,\n",
       ">                  resample=None, url=None, data=None)\n",
       "\n",
       "Show a PIL or pytorch tensor on ax\n",
       "\n",
       "|    | **Type** | **Default** | **Details** |\n",
       "| -- | -------- | ----------- | ----------- |\n",
       "| im |  |  |  |\n",
       "| ax | NoneType | None |  |\n",
       "| figsize | NoneType | None |  |\n",
       "| title | NoneType | None |  |\n",
       "| noframe | bool | True |  |\n",
       "| cmap | NoneType | None | The Colormap instance or registered colormap name used to map<br>scalar data to colors. This parameter is ignored for RGB(A) data. |\n",
       "| norm | NoneType | None | The `.Normalize` instance used to scale scalar data to the [0, 1]<br>range before mapping to colors using *cmap*. By default, a linear<br>scaling mapping the lowest value to 0 and the highest to 1 is used.<br>This parameter is ignored for RGB(A) data. |\n",
       "| aspect | NoneType | None | The aspect ratio of the Axes.  This parameter is particularly<br>relevant for images since it determines whether data pixels are<br>square.<br><br>This parameter is a shortcut for explicitly calling<br>`.Axes.set_aspect`. See there for further details.<br><br>- 'equal': Ensures an aspect ratio of 1. Pixels will be square<br>  (unless pixel sizes are explicitly made non-square in data<br>  coordinates using *extent*).<br>- 'auto': The Axes is kept fixed and the aspect is adjusted so<br>  that the data fit in the Axes. In general, this will result in<br>  non-square pixels. |\n",
       "| interpolation | NoneType | None | The interpolation method used.<br><br>Supported values are 'none', 'antialiased', 'nearest', 'bilinear',<br>'bicubic', 'spline16', 'spline36', 'hanning', 'hamming', 'hermite',<br>'kaiser', 'quadric', 'catrom', 'gaussian', 'bessel', 'mitchell',<br>'sinc', 'lanczos', 'blackman'.<br><br>If *interpolation* is 'none', then no interpolation is performed<br>on the Agg, ps, pdf and svg backends. Other backends will fall back<br>to 'nearest'. Note that most SVG renderers perform interpolation at<br>rendering and that the default interpolation method they implement<br>may differ.<br><br>If *interpolation* is the default 'antialiased', then 'nearest'<br>interpolation is used if the image is upsampled by more than a<br>factor of three (i.e. the number of display pixels is at least<br>three times the size of the data array).  If the upsampling rate is<br>smaller than 3, or the image is downsampled, then 'hanning'<br>interpolation is used to act as an anti-aliasing filter, unless the<br>image happens to be upsampled by exactly a factor of two or one.<br><br>See<br>:doc:`/gallery/images_contours_and_fields/interpolation_methods`<br>for an overview of the supported interpolation methods, and<br>:doc:`/gallery/images_contours_and_fields/image_antialiasing` for<br>a discussion of image antialiasing.<br><br>Some interpolation methods require an additional radius parameter,<br>which can be set by *filterrad*. Additionally, the antigrain image<br>resize filter is controlled by the parameter *filternorm*. |\n",
       "| alpha | NoneType | None | The alpha blending value, between 0 (transparent) and 1 (opaque).<br>If *alpha* is an array, the alpha blending values are applied pixel<br>by pixel, and *alpha* must have the same shape as *X*. |\n",
       "| vmin | NoneType | None |  |\n",
       "| vmax | NoneType | None |  |\n",
       "| origin | NoneType | None | Place the [0, 0] index of the array in the upper left or lower<br>left corner of the Axes. The convention (the default) 'upper' is<br>typically used for matrices and images.<br><br>Note that the vertical axis points upward for 'lower'<br>but downward for 'upper'.<br><br>See the :doc:`/tutorials/intermediate/imshow_extent` tutorial for<br>examples and a more detailed description. |\n",
       "| extent | NoneType | None | The bounding box in data coordinates that the image will fill.<br>The image is stretched individually along x and y to fill the box.<br><br>The default extent is determined by the following conditions.<br>Pixels have unit size in data coordinates. Their centers are on<br>integer coordinates, and their center coordinates range from 0 to<br>columns-1 horizontally and from 0 to rows-1 vertically.<br><br>Note that the direction of the vertical axis and thus the default<br>values for top and bottom depend on *origin*:<br><br>- For ``origin == 'upper'`` the default is<br>  ``(-0.5, numcols-0.5, numrows-0.5, -0.5)``.<br>- For ``origin == 'lower'`` the default is<br>  ``(-0.5, numcols-0.5, -0.5, numrows-0.5)``.<br><br>See the :doc:`/tutorials/intermediate/imshow_extent` tutorial for<br>examples and a more detailed description. |\n",
       "| interpolation_stage | NoneType | None | If 'data', interpolation<br>is carried out on the data provided by the user.  If 'rgba', the<br>interpolation is carried out after the colormapping has been<br>applied (visual interpolation). |\n",
       "| filternorm | bool | True | A parameter for the antigrain image resize filter (see the<br>antigrain documentation).  If *filternorm* is set, the filter<br>normalizes integer values and corrects the rounding errors. It<br>doesn't do anything with the source floating point values, it<br>corrects only integers according to the rule of 1.0 which means<br>that any sum of pixel weights must be equal to 1.0.  So, the<br>filter function must produce a graph of the proper shape. |\n",
       "| filterrad | float | 4.0 | The filter radius for filters that have a radius parameter, i.e.<br>when interpolation is one of: 'sinc', 'lanczos' or 'blackman'. |\n",
       "| resample | NoneType | None | When *True*, use a full resampling method.  When *False*, only<br>resample when the output image is larger than the input image. |\n",
       "| url | NoneType | None | Set the url of the created `.AxesImage`. See `.Artist.set_url`. |\n",
       "| data | NoneType | None |  |"
      ],
      "text/plain": [
       "---\n",
       "\n",
       "### show_image\n",
       "\n",
       ">      show_image (im, ax=None, figsize=None, title=None, noframe=True,\n",
       ">                  cmap=None, norm=None, aspect=None, interpolation=None,\n",
       ">                  alpha=None, vmin=None, vmax=None, origin=None, extent=None,\n",
       ">                  interpolation_stage=None, filternorm=True, filterrad=4.0,\n",
       ">                  resample=None, url=None, data=None)\n",
       "\n",
       "Show a PIL or pytorch tensor on ax\n",
       "\n",
       "|    | **Type** | **Default** | **Details** |\n",
       "| -- | -------- | ----------- | ----------- |\n",
       "| im |  |  |  |\n",
       "| ax | NoneType | None |  |\n",
       "| figsize | NoneType | None |  |\n",
       "| title | NoneType | None |  |\n",
       "| noframe | bool | True |  |\n",
       "| cmap | NoneType | None | The Colormap instance or registered colormap name used to map<br>scalar data to colors. This parameter is ignored for RGB(A) data. |\n",
       "| norm | NoneType | None | The `.Normalize` instance used to scale scalar data to the [0, 1]<br>range before mapping to colors using *cmap*. By default, a linear<br>scaling mapping the lowest value to 0 and the highest to 1 is used.<br>This parameter is ignored for RGB(A) data. |\n",
       "| aspect | NoneType | None | The aspect ratio of the Axes.  This parameter is particularly<br>relevant for images since it determines whether data pixels are<br>square.<br><br>This parameter is a shortcut for explicitly calling<br>`.Axes.set_aspect`. See there for further details.<br><br>- 'equal': Ensures an aspect ratio of 1. Pixels will be square<br>  (unless pixel sizes are explicitly made non-square in data<br>  coordinates using *extent*).<br>- 'auto': The Axes is kept fixed and the aspect is adjusted so<br>  that the data fit in the Axes. In general, this will result in<br>  non-square pixels. |\n",
       "| interpolation | NoneType | None | The interpolation method used.<br><br>Supported values are 'none', 'antialiased', 'nearest', 'bilinear',<br>'bicubic', 'spline16', 'spline36', 'hanning', 'hamming', 'hermite',<br>'kaiser', 'quadric', 'catrom', 'gaussian', 'bessel', 'mitchell',<br>'sinc', 'lanczos', 'blackman'.<br><br>If *interpolation* is 'none', then no interpolation is performed<br>on the Agg, ps, pdf and svg backends. Other backends will fall back<br>to 'nearest'. Note that most SVG renderers perform interpolation at<br>rendering and that the default interpolation method they implement<br>may differ.<br><br>If *interpolation* is the default 'antialiased', then 'nearest'<br>interpolation is used if the image is upsampled by more than a<br>factor of three (i.e. the number of display pixels is at least<br>three times the size of the data array).  If the upsampling rate is<br>smaller than 3, or the image is downsampled, then 'hanning'<br>interpolation is used to act as an anti-aliasing filter, unless the<br>image happens to be upsampled by exactly a factor of two or one.<br><br>See<br>:doc:`/gallery/images_contours_and_fields/interpolation_methods`<br>for an overview of the supported interpolation methods, and<br>:doc:`/gallery/images_contours_and_fields/image_antialiasing` for<br>a discussion of image antialiasing.<br><br>Some interpolation methods require an additional radius parameter,<br>which can be set by *filterrad*. Additionally, the antigrain image<br>resize filter is controlled by the parameter *filternorm*. |\n",
       "| alpha | NoneType | None | The alpha blending value, between 0 (transparent) and 1 (opaque).<br>If *alpha* is an array, the alpha blending values are applied pixel<br>by pixel, and *alpha* must have the same shape as *X*. |\n",
       "| vmin | NoneType | None |  |\n",
       "| vmax | NoneType | None |  |\n",
       "| origin | NoneType | None | Place the [0, 0] index of the array in the upper left or lower<br>left corner of the Axes. The convention (the default) 'upper' is<br>typically used for matrices and images.<br><br>Note that the vertical axis points upward for 'lower'<br>but downward for 'upper'.<br><br>See the :doc:`/tutorials/intermediate/imshow_extent` tutorial for<br>examples and a more detailed description. |\n",
       "| extent | NoneType | None | The bounding box in data coordinates that the image will fill.<br>The image is stretched individually along x and y to fill the box.<br><br>The default extent is determined by the following conditions.<br>Pixels have unit size in data coordinates. Their centers are on<br>integer coordinates, and their center coordinates range from 0 to<br>columns-1 horizontally and from 0 to rows-1 vertically.<br><br>Note that the direction of the vertical axis and thus the default<br>values for top and bottom depend on *origin*:<br><br>- For ``origin == 'upper'`` the default is<br>  ``(-0.5, numcols-0.5, numrows-0.5, -0.5)``.<br>- For ``origin == 'lower'`` the default is<br>  ``(-0.5, numcols-0.5, -0.5, numrows-0.5)``.<br><br>See the :doc:`/tutorials/intermediate/imshow_extent` tutorial for<br>examples and a more detailed description. |\n",
       "| interpolation_stage | NoneType | None | If 'data', interpolation<br>is carried out on the data provided by the user.  If 'rgba', the<br>interpolation is carried out after the colormapping has been<br>applied (visual interpolation). |\n",
       "| filternorm | bool | True | A parameter for the antigrain image resize filter (see the<br>antigrain documentation).  If *filternorm* is set, the filter<br>normalizes integer values and corrects the rounding errors. It<br>doesn't do anything with the source floating point values, it<br>corrects only integers according to the rule of 1.0 which means<br>that any sum of pixel weights must be equal to 1.0.  So, the<br>filter function must produce a graph of the proper shape. |\n",
       "| filterrad | float | 4.0 | The filter radius for filters that have a radius parameter, i.e.<br>when interpolation is one of: 'sinc', 'lanczos' or 'blackman'. |\n",
       "| resample | NoneType | None | When *True*, use a full resampling method.  When *False*, only<br>resample when the output image is larger than the input image. |\n",
       "| url | NoneType | None | Set the url of the created `.AxesImage`. See `.Artist.set_url`. |\n",
       "| data | NoneType | None |  |"
      ]
     },
     "execution_count": 52,
     "metadata": {},
     "output_type": "execute_result"
    }
   ],
   "source": [
    "show_doc(show_image)"
   ]
  },
  {
   "cell_type": "code",
   "execution_count": 53,
   "id": "21759eeb-3511-42c1-8723-ecb9a6af0898",
   "metadata": {},
   "outputs": [],
   "source": [
    "#|export\n",
    "@fc.delegates(plt.subplots, keep=True)\n",
    "def subplots(\n",
    "    nrows:int=1,\n",
    "    ncols:int=1,\n",
    "    figsize:tuple=None,\n",
    "    imsize:int=3, # in inches\n",
    "    suptitle:str=None,\n",
    "    **kwargs\n",
    "):\n",
    "    if figsize is None:\n",
    "        figsize = (ncols*imsize, nrows*imsize)\n",
    "    fig,ax = plt.subplots(nrows, ncols, figsize=figsize, **kwargs)\n",
    "\n",
    "    if suptitle is not None:\n",
    "        fig.suptitle(suptitle)\n",
    "\n",
    "    if nrows * ncols == 1:\n",
    "        ax = np.array([ax])\n",
    "    return fig, ax"
   ]
  },
  {
   "cell_type": "code",
   "execution_count": 54,
   "id": "87e84636-f193-4eee-b481-d391421dde1d",
   "metadata": {},
   "outputs": [],
   "source": [
    "xb,yb = train[:16]['image'],train[:16]['label']"
   ]
  },
  {
   "cell_type": "code",
   "execution_count": 55,
   "id": "20546a79",
   "metadata": {},
   "outputs": [
    {
     "data": {
      "image/png": "[encoded data removed]",
      "text/plain": [
       "<Figure size 216x216 with 9 Axes>"
      ]
     },
     "metadata": {
      "needs_background": "light"
     },
     "output_type": "display_data"
    }
   ],
   "source": [
    "fig,axs = subplots(3,3, imsize=1)\n",
    "imgs = xb[:8]\n",
    "for ax,img in zip(axs.flat,imgs): show_image(img, ax)"
   ]
  },
  {
   "cell_type": "code",
   "execution_count": 1,
   "id": "a1087ef2-7260-4c51-858b-f751f0f11cf2",
   "metadata": {},
   "outputs": [],
   "source": [
    "#|export\n",
    "def get_grid(\n",
    "    n:int, \n",
    "    nrows:int=None,\n",
    "    ncols:int=None,\n",
    "    title:str=None,\n",
    "    weight:str='bold',\n",
    "    size:int=14,\n",
    "    **kwargs,\n",
    "):\n",
    "    if nrows:\n",
    "        ncols = ncols or int(np.ceil(n/nrows))\n",
    "    elif ncols:\n",
    "        nrows = nrows or int(np.ceil(n/ncols))\n",
    "    else:\n",
    "        nrows = int(math.sqrt(n))\n",
    "        ncols = int(np.ceil(n/nrows))\n",
    "    fig, axes = subplots(nrows, ncols, **kwargs)\n",
    "    \n",
    "    for i in range(n, nrows * ncols):\n",
    "        axes.flat[i].set_axis_off()\n",
    "    \n",
    "    if title is not None:\n",
    "        fig.suptitle(title, weight=weight, size=size)\n",
    "    \n",
    "    return fig, axes\n",
    "    "
   ]
  },
  {
   "cell_type": "code",
   "execution_count": 57,
   "id": "e29651b8-cd70-4641-9e6b-535f03471750",
   "metadata": {},
   "outputs": [
    {
     "name": "stdout",
     "output_type": "stream",
     "text": [
      "8\n"
     ]
    },
    {
     "data": {
      "image/png": "[encoded data removed]",
      "text/plain": [
       "<Figure size 144x360 with 10 Axes>"
      ]
     },
     "metadata": {
      "needs_background": "light"
     },
     "output_type": "display_data"
    }
   ],
   "source": [
    "f,axes = get_grid(9, nrows=5, imsize=1)\n",
    "for ax, im in zip(axes.flat, imgs):\n",
    "    show_image(im, ax)\n",
    "print(len(imgs))"
   ]
  },
  {
   "cell_type": "code",
   "execution_count": 58,
   "id": "6a30289a-15dc-442e-b246-f6be1ec40780",
   "metadata": {},
   "outputs": [
    {
     "data": {
      "text/plain": [
       "((1, 'a', 'A'),\n",
       " (2, 'b', 'B'),\n",
       " (3, 'c', None),\n",
       " (4, 'd', None),\n",
       " (None, 'e', None))"
      ]
     },
     "execution_count": 58,
     "metadata": {},
     "output_type": "execute_result"
    }
   ],
   "source": [
    "tuple(zip_longest([1, 2, 3, 4], ['a', 'b', 'c', 'd', 'e'], ['A', 'B']))"
   ]
  },
  {
   "cell_type": "code",
   "execution_count": 59,
   "id": "380377a9-5f57-4f56-b7ae-3b30a71db30f",
   "metadata": {},
   "outputs": [],
   "source": [
    "#|export\n",
    "@fc.delegates(subplots)\n",
    "def show_images(ims:list,\n",
    "                nrows:int|None=None,\n",
    "                ncols:int|None=None,\n",
    "                titles:list|None=None,\n",
    "                **kwargs):\n",
    "    axes = get_grid(len(ims), nrows, ncols, **kwargs)[1].flat\n",
    "    for im, title, ax in zip_longest(ims, titles or [], axes):\n",
    "        show_image(im, ax=ax, title=title)"
   ]
  },
  {
   "cell_type": "code",
   "execution_count": 60,
   "id": "dcd1cfd0-64da-4f0c-9525-adf226d26998",
   "metadata": {},
   "outputs": [],
   "source": [
    "labels = featy.int2str(yb)"
   ]
  },
  {
   "cell_type": "code",
   "execution_count": 61,
   "id": "00fd1130-ce2d-46f3-8a2d-60c662b88921",
   "metadata": {},
   "outputs": [
    {
     "data": {
      "image/png": "[encoded data removed]",
      "text/plain": [
       "<Figure size 489.6x244.8 with 8 Axes>"
      ]
     },
     "metadata": {},
     "output_type": "display_data"
    }
   ],
   "source": [
    "show_images(imgs, imsize=1.7, titles=labels[:8])"
   ]
  },
  {
   "cell_type": "code",
   "execution_count": 62,
   "id": "0ecf66a2-9ab6-4a4f-8268-75ec07912f2e",
   "metadata": {},
   "outputs": [
    {
     "data": {
      "text/plain": [
       "\u001b[0;31mSignature:\u001b[0m \u001b[0mget_dls\u001b[0m\u001b[0;34m(\u001b[0m\u001b[0mtrain_ds\u001b[0m\u001b[0;34m,\u001b[0m \u001b[0mvalid_ds\u001b[0m\u001b[0;34m,\u001b[0m \u001b[0mbs\u001b[0m\u001b[0;34m,\u001b[0m \u001b[0;34m**\u001b[0m\u001b[0mkwargs\u001b[0m\u001b[0;34m)\u001b[0m\u001b[0;34m\u001b[0m\u001b[0;34m\u001b[0m\u001b[0m\n",
       "\u001b[0;31mDocstring:\u001b[0m <no docstring>\n",
       "\u001b[0;31mSource:\u001b[0m   \n",
       "\u001b[0;32mdef\u001b[0m \u001b[0mget_dls\u001b[0m\u001b[0;34m(\u001b[0m\u001b[0mtrain_ds\u001b[0m\u001b[0;34m,\u001b[0m \u001b[0mvalid_ds\u001b[0m\u001b[0;34m,\u001b[0m \u001b[0mbs\u001b[0m\u001b[0;34m,\u001b[0m \u001b[0;34m**\u001b[0m\u001b[0mkwargs\u001b[0m\u001b[0;34m)\u001b[0m\u001b[0;34m:\u001b[0m\u001b[0;34m\u001b[0m\n",
       "\u001b[0;34m\u001b[0m    \u001b[0;32mreturn\u001b[0m \u001b[0;34m(\u001b[0m\u001b[0mDataLoader\u001b[0m\u001b[0;34m(\u001b[0m\u001b[0mtrain_ds\u001b[0m\u001b[0;34m,\u001b[0m \u001b[0mbatch_size\u001b[0m\u001b[0;34m=\u001b[0m\u001b[0mbs\u001b[0m\u001b[0;34m,\u001b[0m \u001b[0mshuffle\u001b[0m\u001b[0;34m=\u001b[0m\u001b[0;32mTrue\u001b[0m\u001b[0;34m,\u001b[0m \u001b[0;34m**\u001b[0m\u001b[0mkwargs\u001b[0m\u001b[0;34m)\u001b[0m\u001b[0;34m,\u001b[0m\u001b[0;34m\u001b[0m\n",
       "\u001b[0;34m\u001b[0m            \u001b[0mDataLoader\u001b[0m\u001b[0;34m(\u001b[0m\u001b[0mvalid_ds\u001b[0m\u001b[0;34m,\u001b[0m \u001b[0mbatch_size\u001b[0m\u001b[0;34m=\u001b[0m\u001b[0mbs\u001b[0m\u001b[0;34m*\u001b[0m\u001b[0;36m2\u001b[0m\u001b[0;34m,\u001b[0m \u001b[0;34m**\u001b[0m\u001b[0mkwargs\u001b[0m\u001b[0;34m)\u001b[0m\u001b[0;34m)\u001b[0m\u001b[0;34m\u001b[0m\u001b[0;34m\u001b[0m\u001b[0m\n",
       "\u001b[0;31mFile:\u001b[0m      /usr/local/lib/python3.9/dist-packages/miniai/training.py\n",
       "\u001b[0;31mType:\u001b[0m      function\n"
      ]
     },
     "metadata": {},
     "output_type": "display_data"
    }
   ],
   "source": [
    "get_dls??"
   ]
  },
  {
   "cell_type": "code",
   "execution_count": 1,
   "id": "e005e20c-dce3-4e92-b61f-088ec617feb2",
   "metadata": {},
   "outputs": [],
   "source": [
    "#|export\n",
    "class DataLoaders:\n",
    "    def __init__(self, dl_train, dl_valid):\n",
    "        self.train = dl_train\n",
    "        self.valid = dl_valid\n",
    "    \n",
    "    @classmethod\n",
    "    def from_dd(cls, ds_dict, batch_size, as_tuple=True, **kwargs):\n",
    "        f = collate_dict(ds_dict['train'])\n",
    "        return cls(*get_dls(*ds_dict.values(), bs=batch_size, collate_fn=f, **kwargs))"
   ]
  },
  {
   "cell_type": "code",
   "execution_count": 3,
   "id": "5f295f65-6b83-4738-bbfc-376153063a53",
   "metadata": {},
   "outputs": [],
   "source": [
    "! pip install nbdev"
   ]
  },
  {
   "cell_type": "code",
   "execution_count": 3,
   "id": "27186ede-1699-481f-935d-8ceb04977074",
   "metadata": {},
   "outputs": [],
   "source": [
    "import nbdev; nbdev.nbdev_export()"
   ]
  }
 ],
 "metadata": {
  "kernelspec": {
   "display_name": "Python 3 (ipykernel)",
   "language": "python",
   "name": "python3"
  },
  "language_info": {
   "codemirror_mode": {
    "name": "ipython",
    "version": 3
   },
   "file_extension": ".py",
   "mimetype": "text/x-python",
   "name": "python",
   "nbconvert_exporter": "python",
   "pygments_lexer": "ipython3",
   "version": "3.9.13"
  }
 },
 "nbformat": 4,
 "nbformat_minor": 5
}
