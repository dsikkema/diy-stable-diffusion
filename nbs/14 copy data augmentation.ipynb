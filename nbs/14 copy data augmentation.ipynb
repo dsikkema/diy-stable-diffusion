{
 "cells": [
  {
   "cell_type": "code",
   "execution_count": 2,
   "id": "ad2b00a0-9bef-4c52-9b4c-201b76c451b5",
   "metadata": {},
   "outputs": [],
   "source": [
    "#|default_exp augment"
   ]
  },
  {
   "cell_type": "markdown",
   "id": "8ac79b95-69ad-4434-8eb5-ed5a5bac0498",
   "metadata": {},
   "source": [
    "# Augmentation"
   ]
  },
  {
   "cell_type": "code",
   "execution_count": 3,
   "id": "fa0e8b70-ea69-4c98-9658-e0e7c8560c2c",
   "metadata": {},
   "outputs": [],
   "source": [
    "#|export\n",
    "import torch,random\n",
    "import fastcore.all as fc\n",
    "\n",
    "from torch import nn\n",
    "from torch.nn import init\n",
    "\n",
    "from diy_stable_diffusion.datasets import *\n",
    "from diy_stable_diffusion.conv import *\n",
    "from diy_stable_diffusion.learner import *\n",
    "from diy_stable_diffusion.activations import *\n",
    "from diy_stable_diffusion.init import *\n",
    "from diy_stable_diffusion.sgd import *\n",
    "from diy_stable_diffusion.resnet import *"
   ]
  },
  {
   "cell_type": "code",
   "execution_count": 4,
   "id": "372a91cb-43ce-4d01-b89f-caf68980ca6b",
   "metadata": {},
   "outputs": [],
   "source": [
    "from diy_stable_diffusion import resnet\n",
    "import diy_stable_diffusion"
   ]
  },
  {
   "cell_type": "code",
   "execution_count": 5,
   "id": "d293d9cb-b226-4702-9745-4ece12123d5f",
   "metadata": {},
   "outputs": [
    {
     "data": {
      "text/plain": [
       "['__builtins__',\n",
       " '__cached__',\n",
       " '__doc__',\n",
       " '__file__',\n",
       " '__loader__',\n",
       " '__name__',\n",
       " '__package__',\n",
       " '__path__',\n",
       " '__spec__',\n",
       " '__version__',\n",
       " 'activations',\n",
       " 'conv',\n",
       " 'datasets',\n",
       " 'init',\n",
       " 'learner',\n",
       " 'resnet',\n",
       " 'sgd',\n",
       " 'training']"
      ]
     },
     "execution_count": 5,
     "metadata": {},
     "output_type": "execute_result"
    }
   ],
   "source": [
    "dir(diy_stable_diffusion)"
   ]
  },
  {
   "cell_type": "code",
   "execution_count": 6,
   "id": "a0fa4aa0-c8bb-4db9-bae8-c09e880e3bc0",
   "metadata": {},
   "outputs": [],
   "source": [
    "import pickle,gzip,math,os,time,shutil\n",
    "import matplotlib as mpl,numpy as np,matplotlib.pyplot as plt\n",
    "from collections.abc import Mapping\n",
    "from pathlib import Path\n",
    "from operator import attrgetter,itemgetter\n",
    "from functools import partial\n",
    "from copy import copy\n",
    "from contextlib import contextmanager\n",
    "\n",
    "import torchvision.transforms.functional as TF,torch.nn.functional as F\n",
    "from torch import tensor,optim\n",
    "from torch.utils.data import DataLoader,default_collate\n",
    "from torch.optim import lr_scheduler\n",
    "from torcheval.metrics import MulticlassAccuracy\n",
    "from datasets import load_dataset,load_dataset_builder\n",
    "\n",
    "from fastcore.test import test_close\n",
    "from torch import distributions\n",
    "\n",
    "torch.set_printoptions(precision=2, linewidth=140, sci_mode=False)\n",
    "torch.manual_seed(1)\n",
    "mpl.rcParams['image.cmap'] = 'gray_r'\n",
    "\n",
    "import logging\n",
    "logging.disable(logging.WARNING)\n",
    "\n",
    "set_seed(42)\n",
    "\n",
    "if fc.defaults.cpus>8: fc.defaults.cpus=8"
   ]
  },
  {
   "cell_type": "code",
   "execution_count": 7,
   "id": "01cdad25-eb52-4a17-a471-ae771768d3dc",
   "metadata": {},
   "outputs": [
    {
     "data": {
      "application/vnd.jupyter.widget-view+json": {
       "model_id": "fce1bddedf45415e87c98fc884ce5a17",
       "version_major": 2,
       "version_minor": 0
      },
      "text/plain": [
       "  0%|          | 0/2 [00:00<?, ?it/s]"
      ]
     },
     "metadata": {},
     "output_type": "display_data"
    }
   ],
   "source": [
    "xl,yl = 'image','label'\n",
    "name = \"fashion_mnist\"\n",
    "bs = 1024\n",
    "xmean,xstd = 0.28, 0.35\n",
    "\n",
    "@inplace\n",
    "def transformi(b): b[xl] = [(TF.to_tensor(o)-xmean)/xstd for o in b[xl]]\n",
    "\n",
    "dsd = load_dataset(name)\n",
    "tds = dsd.with_transform(transformi)\n",
    "dls = DataLoaders.from_dd(tds, bs, num_workers=fc.defaults.cpus)"
   ]
  },
  {
   "cell_type": "code",
   "execution_count": 8,
   "id": "782eb501-3e8c-41cd-bdb1-ad8cf43a504b",
   "metadata": {},
   "outputs": [],
   "source": [
    "metrics = MetricsCB(accuracy=MulticlassAccuracy())\n",
    "astats = ActivationStats(fc.risinstance(GeneralRelu))\n",
    "cbs = [DeviceCB(), metrics, ProgressCB(plot=True), astats]\n",
    "\n",
    "'''\n",
    "Note to self: remember that a lot of this library code is written to essentially accept instantiable method references or callbacks,\n",
    "hence creating these partials here to be later used as either callbacks given to pytorch for initializing tensor weights (iw) or\n",
    "to be invoked directly like constructors (act_gr, which will be invoked as act=act() in an __init__ method somewhere).\n",
    "'''\n",
    "act_gr = partial(GeneralRelu, leak=0.1, sub=0.4)\n",
    "iw = partial(init_weights, leaky=0.1)"
   ]
  },
  {
   "cell_type": "code",
   "execution_count": 9,
   "id": "7e364ed4-4a2f-43eb-bee8-fcd62a09a2ab",
   "metadata": {},
   "outputs": [],
   "source": [
    "set_seed(42)\n",
    "lr,epochs = 6e-2,5"
   ]
  },
  {
   "cell_type": "markdown",
   "id": "ab9684ac-f502-45fd-80d3-22a94ebc0389",
   "metadata": {},
   "source": [
    "## Going wider"
   ]
  },
  {
   "cell_type": "code",
   "execution_count": 10,
   "id": "9bc9b691-7995-4566-ad64-4f1049e850dd",
   "metadata": {},
   "outputs": [],
   "source": [
    "def get_model(act=nn.ReLU, nfs=(32,64,128,256,512,1024), norm=nn.BatchNorm2d):\n",
    "    layers = [ResBlock(1, 32, ks=5, stride=1, act=act, norm=norm)]\n",
    "    layers += [ResBlock(nfs[i], nfs[i+1], act=act, norm=norm, stride=2) for i in range(len(nfs)-1)]\n",
    "    layers += [nn.Flatten(), nn.Linear(nfs[-1], 10, bias=False), nn.BatchNorm1d(10)]\n",
    "    return nn.Sequential(*layers)"
   ]
  },
  {
   "cell_type": "code",
   "execution_count": 11,
   "id": "a3f3af41-89d2-4c0d-b8d2-99ee784c8c15",
   "metadata": {},
   "outputs": [],
   "source": [
    "lr = 1e-2\n",
    "tmax = epochs * len(dls.train)\n",
    "sched = partial(lr_scheduler.OneCycleLR, max_lr=lr, total_steps=tmax)\n",
    "xtra = [BatchSchedCB(sched)]\n",
    "model = get_model(act_gr, norm=nn.BatchNorm2d).apply(iw)\n",
    "learn = TrainLearner(model, dls, F.cross_entropy, lr=lr, cbs=cbs+xtra, opt_func=optim.AdamW)"
   ]
  },
  {
   "cell_type": "markdown",
   "id": "7970b338-a102-4419-a52d-47377b967d83",
   "metadata": {},
   "source": [
    "learn.fit(epochs)"
   ]
  },
  {
   "cell_type": "code",
   "execution_count": 12,
   "id": "10a09103-2f57-47ac-9be1-551ad38723d6",
   "metadata": {},
   "outputs": [],
   "source": [
    "#learn.fit(10)"
   ]
  },
  {
   "cell_type": "code",
   "execution_count": 13,
   "id": "2d1253fc-ee72-44af-a801-11dd39d84be6",
   "metadata": {},
   "outputs": [],
   "source": [
    "'''\n",
    "Note: this is just to keep training the above model a bit longer, the scheduler chosen doesn't like it when you just\n",
    "chuck more epochs into trianing the model because you prescribe the number of training steps when initializing the\n",
    "scheduler and if you try to train more, it chokes, not having scheduled a learning rate or momentum etc for that step.\n",
    "'''\n",
    "lr = 1e-2\n",
    "tmax = 5 * len(dls.train)\n",
    "sched = partial(lr_scheduler.OneCycleLR, max_lr=lr, total_steps=tmax)\n",
    "xtra = [BatchSchedCB(sched)]\n",
    "learn = TrainLearner(model, dls, F.cross_entropy, lr=lr, cbs=cbs+xtra, opt_func=optim.AdamW)"
   ]
  },
  {
   "cell_type": "code",
   "execution_count": 14,
   "id": "6569be3b-ddf2-4ae6-8340-385b1d850e75",
   "metadata": {},
   "outputs": [],
   "source": [
    "#learn.fit(5)"
   ]
  },
  {
   "cell_type": "markdown",
   "id": "b221109c-4cd3-46b8-9f92-52cd3d7b9366",
   "metadata": {},
   "source": [
    "# Pooling"
   ]
  },
  {
   "cell_type": "code",
   "execution_count": 15,
   "id": "28437adc-18a7-4e93-bab1-86eed84d1040",
   "metadata": {},
   "outputs": [],
   "source": [
    "class GlobalAvgPool(nn.Module):\n",
    "    def forward(self, x):\n",
    "        return x.mean((-1, -2))\n"
   ]
  },
  {
   "cell_type": "code",
   "execution_count": 16,
   "id": "fa5156e6-a44f-4ae9-89ed-a02cee552db5",
   "metadata": {},
   "outputs": [],
   "source": [
    "#|export\n",
    "def _flops(x, h, w):\n",
    "    if x.dim()<3: return x.numel()\n",
    "    if x.dim()==4: return x.numel()*h*w\n",
    "\n",
    "@fc.patch\n",
    "def summary(self:Learner):\n",
    "    res = '|Module|Input|Output|Num params|MFLOPS|\\n|--|--|--|--|--|\\n'\n",
    "    totp,totf = 0,0\n",
    "    def _f(hook, mod, inp, outp):\n",
    "        nonlocal res,totp,totf\n",
    "        nparms = sum(o.numel() for o in mod.parameters())\n",
    "        totp += nparms\n",
    "        *_,h,w = outp.shape\n",
    "        flops = sum(_flops(o, h, w) for o in mod.parameters())/1e6\n",
    "        totf += flops\n",
    "        res += f'|{type(mod).__name__}|{tuple(inp[0].shape)}|{tuple(outp.shape)}|{nparms}|{flops:.1f}|\\n'\n",
    "    with Hooks(self.model, _f) as hooks: self.fit(1, lr=1, cbs=SingleBatchCB())\n",
    "    print(f\"Tot params: {totp}; MFLOPS: {totf:.1f}\")\n",
    "    if fc.IN_NOTEBOOK:\n",
    "        from IPython.display import Markdown\n",
    "        return Markdown(res)\n",
    "    else: print(res)"
   ]
  },
  {
   "cell_type": "code",
   "execution_count": 17,
   "id": "8d2475d5-76fc-44d9-b09e-1e6724f05769",
   "metadata": {},
   "outputs": [],
   "source": [
    "# skip a few preliminary ones from the lesson\n",
    "def get_model4(act=nn.ReLU, channels=(16, 32, 64, 128, 256), norm=nn.BatchNorm2d):\n",
    "    layers = [conv(1, 16, kernel_size=5, stride=1, activation=act, norm=norm)]\n",
    "    layers += [ResBlock(channels[i], channels[i+1], stride=2, act=act,norm=norm) for i in range(len(channels) - 1)]\n",
    "    layers += [GlobalAvgPool(), nn.Linear(256, 10, bias=False), nn.BatchNorm1d(10)]\n",
    "    return nn.Sequential(*layers)"
   ]
  },
  {
   "cell_type": "code",
   "execution_count": 18,
   "id": "b9ad7f3a-d272-4608-919c-292a6bee58a0",
   "metadata": {},
   "outputs": [],
   "source": [
    "l=[o for o in get_model4()]"
   ]
  },
  {
   "cell_type": "code",
   "execution_count": 19,
   "id": "57c9cfb2-730e-4f28-8ea5-3c2574c687df",
   "metadata": {},
   "outputs": [
    {
     "data": {
      "text/plain": [
       "(8,\n",
       " Sequential(\n",
       "   (0): Conv2d(1, 16, kernel_size=(5, 5), stride=(1, 1), padding=(2, 2))\n",
       "   (1): BatchNorm2d(16, eps=1e-05, momentum=0.1, affine=True, track_running_stats=True)\n",
       "   (2): ReLU()\n",
       " ),\n",
       " [[torch.Size([16, 1, 5, 5]), torch.Size([16])],\n",
       "  [torch.Size([16]), torch.Size([16])],\n",
       "  []])"
      ]
     },
     "execution_count": 19,
     "metadata": {},
     "output_type": "execute_result"
    }
   ],
   "source": [
    "len(l),l[0],[[a.shape for a in o.parameters()] for o in l[0]]"
   ]
  },
  {
   "cell_type": "code",
   "execution_count": 20,
   "id": "ed36e7b2-5343-4d45-9397-427ca70d74b1",
   "metadata": {},
   "outputs": [
    {
     "data": {
      "text/plain": [
       "[torch.Size([16]), torch.Size([16])]"
      ]
     },
     "execution_count": 20,
     "metadata": {},
     "output_type": "execute_result"
    }
   ],
   "source": [
    "'''\n",
    "seems as though BatchNorm2d has two learnable parameters for each channel it normalizes.\n",
    "The center and scale parameters, gamma and beta.\n",
    "'''\n",
    "batchnorm=l[0][1]\n",
    "[p.shape for p in batchnorm.parameters()]"
   ]
  },
  {
   "cell_type": "code",
   "execution_count": 21,
   "id": "1223cdb0-2be7-481d-8881-a152edfef438",
   "metadata": {},
   "outputs": [
    {
     "data": {
      "text/plain": [
       "\"\\nIn network described below, GlobalAveragePooling acts to reduce 256 channels of 2x2 feature maps into 256 averages. \\nIn this view, each of the 4 elements in a channel represents an addition or subtraction to the idea represented by\\nthe whole channel, because each element is treated without regard to its position when they're all averaged.\\n\\nHence GlobalAvgPool here reduces a tensor of shape (batch_size, channel_count, height, width) into just (batch_size, channel_count)\\nin this case reducing (1024, 256, 2, 2) to (1024, 256). Hence a linear lay succeeding it maps a 256 feature vector to a 10\\nfeature vector (the number of output classifications).\\n\""
      ]
     },
     "execution_count": 21,
     "metadata": {},
     "output_type": "execute_result"
    }
   ],
   "source": [
    "'''\n",
    "In network described below, GlobalAveragePooling acts to reduce 256 channels of 2x2 feature maps into 256 averages. \n",
    "In this view, each of the 4 elements in a channel represents an addition or subtraction to the idea represented by\n",
    "the whole channel, because each element is treated without regard to its position when they're all averaged.\n",
    "\n",
    "Hence GlobalAvgPool here reduces a tensor of shape (batch_size, channel_count, height, width) into just (batch_size, channel_count)\n",
    "in this case reducing (1024, 256, 2, 2) to (1024, 256). Hence a linear lay succeeding it maps a 256 feature vector to a 10\n",
    "feature vector (the number of output classifications).\n",
    "'''"
   ]
  },
  {
   "cell_type": "code",
   "execution_count": 22,
   "id": "dd2f996b-6b5e-4502-8045-85775094f1cd",
   "metadata": {},
   "outputs": [
    {
     "name": "stdout",
     "output_type": "stream",
     "text": [
      "Tot params: 1224948; MFLOPS: 13.3\n"
     ]
    },
    {
     "data": {
      "text/markdown": [
       "|Module|Input|Output|Num params|MFLOPS|\n",
       "|--|--|--|--|--|\n",
       "|Sequential|(1024, 1, 28, 28)|(1024, 16, 28, 28)|448|0.3|\n",
       "|ResBlock|(1024, 16, 28, 28)|(1024, 32, 14, 14)|14560|2.8|\n",
       "|ResBlock|(1024, 32, 14, 14)|(1024, 64, 7, 7)|57792|2.8|\n",
       "|ResBlock|(1024, 64, 7, 7)|(1024, 128, 4, 4)|230272|3.7|\n",
       "|ResBlock|(1024, 128, 4, 4)|(1024, 256, 2, 2)|919296|3.7|\n",
       "|GlobalAvgPool|(1024, 256, 2, 2)|(1024, 256)|0|0.0|\n",
       "|Linear|(1024, 256)|(1024, 10)|2560|0.0|\n",
       "|BatchNorm1d|(1024, 10)|(1024, 10)|20|0.0|\n"
      ],
      "text/plain": [
       "<IPython.core.display.Markdown object>"
      ]
     },
     "execution_count": 22,
     "metadata": {},
     "output_type": "execute_result"
    }
   ],
   "source": [
    "TrainLearner(get_model4(), dls, F.cross_entropy, lr=lr, cbs=[DeviceCB()]).summary()"
   ]
  },
  {
   "cell_type": "code",
   "execution_count": 23,
   "id": "faf2dbcb-8aa2-496f-b6f0-f8d80203a79b",
   "metadata": {},
   "outputs": [],
   "source": [
    "set_seed(42)\n",
    "model=get_model4(act_gr, norm=nn.BatchNorm2d).apply(iw)\n",
    "learn = TrainLearner(model, dls, F.cross_entropy, lr=lr, cbs=cbs+xtra,opt_func=optim.AdamW)"
   ]
  },
  {
   "cell_type": "code",
   "execution_count": 24,
   "id": "3d82e575-232b-4a50-860e-3e80602f4415",
   "metadata": {},
   "outputs": [],
   "source": [
    "#learn.fit(epochs)"
   ]
  },
  {
   "cell_type": "code",
   "execution_count": 25,
   "id": "6eb463f2-7ac9-4b83-9de3-f73e4e1c3bdb",
   "metadata": {},
   "outputs": [],
   "source": [
    "lr=1e-2"
   ]
  },
  {
   "cell_type": "code",
   "execution_count": 26,
   "id": "02315804-4700-4de1-8dfb-f3d1071808b0",
   "metadata": {},
   "outputs": [],
   "source": [
    "set_seed(42)\n",
    "model=get_model4(act_gr, norm=nn.BatchNorm2d).apply(iw)\n",
    "learn = TrainLearner(model, dls, F.cross_entropy, lr=lr, cbs=cbs+xtra,opt_func=optim.AdamW)"
   ]
  },
  {
   "cell_type": "code",
   "execution_count": 27,
   "id": "1d61cf2a-5636-4ae0-88dd-3b9fb70c0db8",
   "metadata": {},
   "outputs": [],
   "source": [
    "#learn.fit(epochs)"
   ]
  },
  {
   "cell_type": "code",
   "execution_count": 28,
   "id": "1d899250-6d14-4b38-87b5-d22b4b8cdde0",
   "metadata": {},
   "outputs": [
    {
     "data": {
      "text/plain": [
       "(295, 0.01, 59)"
      ]
     },
     "execution_count": 28,
     "metadata": {},
     "output_type": "execute_result"
    }
   ],
   "source": [
    "tmax,lr,len(dls.train)"
   ]
  },
  {
   "cell_type": "markdown",
   "id": "df3e3797-db60-454f-95d3-60e91539ad48",
   "metadata": {},
   "source": [
    "# Note for above ^^ figure out why accuracy not as good as Jeremy's\n",
    "Ok, I did the same architecture the first time an repeatedly got results about two percentage points lower accuracy than Jeremy's. It's because I had used a larger batch size, I think in order to speed up training time for the really wide networks I tried. When ran the second time I got .927 accuracy, the first time with batch size 4096 is the one with .904 accuracy."
   ]
  },
  {
   "cell_type": "markdown",
   "id": "705becc9-0c47-4438-b85e-791119b633bb",
   "metadata": {},
   "source": [
    "# Data augmentation"
   ]
  },
  {
   "cell_type": "code",
   "execution_count": 29,
   "id": "ecdc1b18-10b4-4f33-bd94-f787491ddb95",
   "metadata": {},
   "outputs": [],
   "source": [
    "from torchvision import transforms"
   ]
  },
  {
   "cell_type": "code",
   "execution_count": 30,
   "id": "b17971a2-0671-49a2-8dfc-d5779d400829",
   "metadata": {},
   "outputs": [],
   "source": [
    "def tfm_batch(b, tfm_x=fc.noop, tfm_y=fc.noop):\n",
    "    return tfm_x(b[0]), tfm_y(b[1])\n",
    "\n",
    "tfm = nn.Sequential(transforms.RandomCrop(28, padding=4),\n",
    "                    transforms.RandomHorizontalFlip())\n",
    "\n",
    "augcb = BatchTransformCB(partial(tfm_batch, tfm_x=tfm), on_val=False)\n",
    "learn = TrainLearner(get_model4(), dls, F.cross_entropy, lr=lr, cbs=[SingleBatchCB(), augcb])"
   ]
  },
  {
   "cell_type": "code",
   "execution_count": 31,
   "id": "3fea860c-b52f-4c86-8cee-e5b2a74443f8",
   "metadata": {},
   "outputs": [],
   "source": [
    "#learn.fit(1)"
   ]
  },
  {
   "cell_type": "code",
   "execution_count": 32,
   "id": "e53911a6-6d03-4f6b-9e63-edcbb8a7b48a",
   "metadata": {},
   "outputs": [],
   "source": [
    "#| export\n",
    "@fc.patch\n",
    "@fc.delegates(show_images)\n",
    "def show_image_batch(self:Learner, max_n=9, cbs=None, **kwargs):\n",
    "    self.fit(1, cbs=[SingleBatchCB()]+fc.L(cbs))\n",
    "    show_images(self.batch[0][:max_n], **kwargs)"
   ]
  },
  {
   "cell_type": "code",
   "execution_count": 33,
   "id": "ea2ec350-54cf-4912-9f95-56093d8d78ec",
   "metadata": {},
   "outputs": [
    {
     "data": {
      "image/png": "[encoded data removed]",
      "text/plain": [
       "<Figure size 432x432 with 16 Axes>"
      ]
     },
     "metadata": {},
     "output_type": "display_data"
    }
   ],
   "source": [
    "learn.show_image_batch(max_n=16, imsize=1.5)"
   ]
  },
  {
   "cell_type": "code",
   "execution_count": 34,
   "id": "589f9c83-b6f5-4def-9084-6f7f32deb799",
   "metadata": {},
   "outputs": [],
   "source": [
    "tfm = nn.Sequential(transforms.RandomCrop(28, padding=1),\n",
    "                    transforms.RandomHorizontalFlip())\n",
    "augcb = BatchTransformCB(partial(tfm_batch, tfm_x=tfm), on_val=False)"
   ]
  },
  {
   "cell_type": "code",
   "execution_count": 35,
   "id": "4fc7a999-4cad-45f1-a85c-2cb066e89f84",
   "metadata": {},
   "outputs": [],
   "source": [
    "def get_model(act=nn.ReLU, nfs=(16,32,64,128,256,512), norm=nn.BatchNorm2d):\n",
    "    layers = [ResBlock(1, 16, ks=5, stride=1, act=act, norm=norm)]\n",
    "    layers += [ResBlock(nfs[i], nfs[i+1], act=act, norm=norm, stride=2) for i in range(len(nfs)-1)]\n",
    "    layers += [nn.Flatten(), nn.Linear(nfs[-1], 10, bias=False), nn.BatchNorm1d(10)]\n",
    "    return nn.Sequential(*layers)"
   ]
  },
  {
   "cell_type": "code",
   "execution_count": 36,
   "id": "68936cc5-c6f3-467c-94b0-80ef0fdb7463",
   "metadata": {},
   "outputs": [
    {
     "data": {
      "text/plain": [
       "([<diy_stable_diffusion.learner.DeviceCB at 0x7fd68251a6d0>,\n",
       "  <diy_stable_diffusion.learner.MetricsCB at 0x7fd68366f460>,\n",
       "  <diy_stable_diffusion.learner.ProgressCB at 0x7fd68251a610>,\n",
       "  <diy_stable_diffusion.activations.ActivationStats at 0x7fd68251a190>],\n",
       " [<diy_stable_diffusion.sgd.BatchSchedCB at 0x7fd68251a3a0>])"
      ]
     },
     "execution_count": 36,
     "metadata": {},
     "output_type": "execute_result"
    }
   ],
   "source": [
    "cbs,xtra"
   ]
  },
  {
   "cell_type": "markdown",
   "id": "4e8248d7-73cd-489d-9385-3b0fb7342d3c",
   "metadata": {},
   "source": [
    "### no weight initialization, attempt 1 (better than with weight init from Jeremy)"
   ]
  },
  {
   "cell_type": "code",
   "execution_count": 37,
   "id": "64e42f26-5f63-4612-8ba3-6373e88aeedc",
   "metadata": {},
   "outputs": [],
   "source": [
    "epochs=4\n",
    "lr=1e-2\n",
    "tmax=epochs*len(dls.train)\n",
    "sched=partial(lr_scheduler.OneCycleLR, max_lr=lr, total_steps=tmax)\n",
    "xtra=[BatchSchedCB(sched), augcb]\n",
    "model=get_model(act_gr, norm=nn.BatchNorm2d)#.apply(iw)\n",
    "learn=TrainLearner(model, dls, F.cross_entropy, lr=lr, cbs=cbs+xtra, opt_func=optim.AdamW)"
   ]
  },
  {
   "cell_type": "code",
   "execution_count": 38,
   "id": "03ffcbdf-96e7-4f42-abe0-75b002ed5b0a",
   "metadata": {},
   "outputs": [],
   "source": [
    "#learn.fit(epochs)"
   ]
  },
  {
   "cell_type": "markdown",
   "id": "9e074db3-1dcc-4d09-a090-4b9fe4dcc159",
   "metadata": {},
   "source": [
    "### attempt #2 to replicate"
   ]
  },
  {
   "cell_type": "code",
   "execution_count": 39,
   "id": "1efa596a-875c-4579-9944-3b7c9f556477",
   "metadata": {},
   "outputs": [],
   "source": [
    "epochs=4\n",
    "lr=1e-2\n",
    "tmax=epochs*len(dls.train)\n",
    "sched=partial(lr_scheduler.OneCycleLR, max_lr=lr, total_steps=tmax)\n",
    "xtra=[BatchSchedCB(sched), augcb]\n",
    "model=get_model(act_gr, norm=nn.BatchNorm2d)#.apply(iw)\n",
    "learn=TrainLearner(model, dls, F.cross_entropy, lr=lr, cbs=cbs+xtra, opt_func=optim.AdamW)"
   ]
  },
  {
   "cell_type": "code",
   "execution_count": 40,
   "id": "c25df726-c067-4f56-9c38-b31fd72dbb1a",
   "metadata": {},
   "outputs": [],
   "source": [
    "#learn.fit(epochs)"
   ]
  },
  {
   "cell_type": "markdown",
   "id": "f7ea5454-516b-41a4-b207-cdea929c6169",
   "metadata": {},
   "source": [
    "### No weight init OR batch normalization in resblocks/convs"
   ]
  },
  {
   "cell_type": "code",
   "execution_count": 41,
   "id": "62eb562c-93e8-4a92-971a-59e7a85edb44",
   "metadata": {},
   "outputs": [],
   "source": [
    "epochs=4\n",
    "lr=1e-2\n",
    "tmax=epochs*len(dls.train)\n",
    "sched=partial(lr_scheduler.OneCycleLR, max_lr=lr, total_steps=tmax)\n",
    "xtra=[BatchSchedCB(sched), augcb]\n",
    "model=get_model(act_gr, norm=None)#.apply(iw)\n",
    "learn=TrainLearner(model, dls, F.cross_entropy, lr=lr, cbs=cbs+xtra, opt_func=optim.AdamW)"
   ]
  },
  {
   "cell_type": "code",
   "execution_count": 42,
   "id": "584ce661-0452-480c-94f1-e3f2003aa82b",
   "metadata": {},
   "outputs": [],
   "source": [
    "#learn.fit(epochs)"
   ]
  },
  {
   "cell_type": "markdown",
   "id": "c79a64f8-2256-4f34-a21e-73ae54b7facf",
   "metadata": {},
   "source": [
    "### ok now try 20 epochs like Jeremy"
   ]
  },
  {
   "cell_type": "code",
   "execution_count": 43,
   "id": "c5df30d8-c502-4f73-b493-a76b4a0b7d6a",
   "metadata": {},
   "outputs": [],
   "source": [
    "epochs=20\n",
    "lr=1e-2\n",
    "tmax=epochs*len(dls.train)\n",
    "sched=partial(lr_scheduler.OneCycleLR, max_lr=lr, total_steps=tmax)\n",
    "xtra=[BatchSchedCB(sched), augcb]\n",
    "model=get_model(act_gr, norm=nn.BatchNorm2d).apply(iw)\n",
    "learn=TrainLearner(model, dls, F.cross_entropy, lr=lr, cbs=cbs+xtra, opt_func=optim.AdamW)"
   ]
  },
  {
   "cell_type": "code",
   "execution_count": 44,
   "id": "f631d7ba-b338-4275-816b-eb4605e11795",
   "metadata": {},
   "outputs": [],
   "source": [
    "#learn.fit(epochs)"
   ]
  },
  {
   "cell_type": "code",
   "execution_count": 45,
   "id": "182da458-a054-4444-97e3-a57f12ca4389",
   "metadata": {},
   "outputs": [],
   "source": [
    "model_path=Path('models')\n",
    "model_path.mkdir(exist_ok=True)\n",
    "torch.save(learn.model, model_path/'data_aug.pkl')"
   ]
  },
  {
   "cell_type": "markdown",
   "id": "564d599a-db68-4a7f-b9dc-7b30b0db35c5",
   "metadata": {},
   "source": [
    "# Test time augmentation, tta"
   ]
  },
  {
   "cell_type": "code",
   "execution_count": 46,
   "id": "a4b35c3c-a904-4881-8047-38669fc6a042",
   "metadata": {},
   "outputs": [],
   "source": [
    "#| export\n",
    "class CapturePreds(Callback):\n",
    "    def before_fit(self, learn):\n",
    "        self.all_inps = []\n",
    "        self.all_preds = []\n",
    "        self.all_targs = []\n",
    "    \n",
    "    def after_batch(self, learn):\n",
    "        self.all_inps.append(to_cpu(learn.batch[0]))\n",
    "        self.all_preds.append(to_cpu(learn.preds))\n",
    "        self.all_targs.append(to_cpu(learn.batch[1]))\n",
    "                              \n",
    "    def after_fit(self, learn):\n",
    "        self.all_inps  = torch.cat( self.all_inps )\n",
    "        self.all_preds = torch.cat( self.all_preds)                    \n",
    "        self.all_targs = torch.cat( self.all_targs)"
   ]
  },
  {
   "cell_type": "code",
   "execution_count": 47,
   "id": "a1614d94-d869-4842-9514-2d354c5426f4",
   "metadata": {},
   "outputs": [],
   "source": [
    "#| export\n",
    "@fc.patch\n",
    "def capture_preds(self: Learner, cbs=None, inps=False):\n",
    "    predscb = CapturePreds()\n",
    "    self.fit(1, do_train=False, cbs=[predscb]+fc.L(cbs))\n",
    "    res = predscb.all_preds, predscb.all_targs\n",
    "    if inps:\n",
    "        res = res + (predscb.all_inps,)\n",
    "    \n",
    "    return res"
   ]
  },
  {
   "cell_type": "markdown",
   "id": "1786d678-bca5-4726-99cf-d1d43b51ac11",
   "metadata": {},
   "source": [
    "# Random erase"
   ]
  },
  {
   "cell_type": "code",
   "execution_count": 49,
   "id": "ef8b8f51-7da0-4cf6-9bbc-420881a22faf",
   "metadata": {},
   "outputs": [],
   "source": [
    "xb, _ = next(iter(dls.train))\n",
    "xbt = xb[:16]"
   ]
  },
  {
   "cell_type": "code",
   "execution_count": 50,
   "id": "b372939a-d698-46f9-a57f-5538d81959c4",
   "metadata": {},
   "outputs": [
    {
     "data": {
      "text/plain": [
       "\u001b[0;31mSignature:\u001b[0m \u001b[0mrandom\u001b[0m\u001b[0;34m.\u001b[0m\u001b[0mrandom\u001b[0m\u001b[0;34m(\u001b[0m\u001b[0;34m)\u001b[0m\u001b[0;34m\u001b[0m\u001b[0;34m\u001b[0m\u001b[0m\n",
       "\u001b[0;31mDocstring:\u001b[0m random() -> x in the interval [0, 1).\n",
       "\u001b[0;31mType:\u001b[0m      builtin_function_or_method\n"
      ]
     },
     "metadata": {},
     "output_type": "display_data"
    }
   ],
   "source": [
    "random.random?"
   ]
  },
  {
   "cell_type": "code",
   "execution_count": 51,
   "id": "7d32f26f-74df-432d-b757-f8c0ae7bef79",
   "metadata": {},
   "outputs": [],
   "source": [
    "#|export\n",
    "def _rand_erase1(x, pct, xmean, xstd, xmin, xmax):\n",
    "    size_x = int(pct * x.shape[-2])\n",
    "    size_y = int(pct * x.shape[-1])\n",
    "    start_x = int((1-pct) * x.shape[-2] * random.random())\n",
    "    start_y = int((1-pct) * x.shape[-1] * random.random())\n",
    "    init.normal_(x[:, :, start_x:start_x+size_x, start_y:start_y+size_y], xmean, xstd)\n",
    "    x.clamp_(xmin, xmax)"
   ]
  },
  {
   "cell_type": "code",
   "execution_count": 52,
   "id": "adf89b5f-b93f-4d13-8dfe-f1ce9a936c96",
   "metadata": {},
   "outputs": [],
   "source": [
    "#|export\n",
    "\n",
    "def rand_erase(x, pct=0.2, max_num=4):\n",
    "    for i in range(random.randint(0, max_num)):\n",
    "        _rand_erase1(x, pct, x.mean(), x.std(), x.min(), x.max())\n",
    "    return x\n",
    "                   \n",
    "class RandErase(nn.Module):\n",
    "    def __init__(self, pct=0.2, max_num=4):\n",
    "        super().__init__()\n",
    "        self.pct, self.max_num = pct, max_num\n",
    "    \n",
    "    def forward(self, x):\n",
    "        return rand_erase(x, self.pct, self.max_num)"
   ]
  },
  {
   "cell_type": "code",
   "execution_count": 53,
   "id": "1daf986e-ee2d-421b-ad09-1b33dd801c80",
   "metadata": {},
   "outputs": [
    {
     "data": {
      "image/png": "[encoded data removed]",
      "text/plain": [
       "<Figure size 864x864 with 16 Axes>"
      ]
     },
     "metadata": {},
     "output_type": "display_data"
    }
   ],
   "source": [
    "tfm = nn.Sequential(transforms.RandomCrop(28, padding=1),\n",
    "                    transforms.RandomHorizontalFlip(),\n",
    "                    RandErase())\n",
    "\n",
    "aug_callback= BatchTransformCB(partial(tfm_batch, tfm_x=tfm))\n",
    "learn=TrainLearner(get_model(), dls, F.cross_entropy, lr=lr, cbs=[DeviceCB(), SingleBatchCB(), aug_callback])\n",
    "learn.fit(1)\n",
    "xb,yb=learn.batch\n",
    "show_images(xb[:16])"
   ]
  },
  {
   "cell_type": "code",
   "execution_count": 108,
   "id": "c8d85d6a-9a80-49b2-82a6-5f6e5e4394c4",
   "metadata": {},
   "outputs": [],
   "source": [
    "def get_model6(act=nn.ReLU, nfs=(16,32,64,128,256,512), norm=nn.BatchNorm2d):\n",
    "    layers = [ResBlock(1, 16, ks=5, stride=1, act=act, norm=norm), nn.Dropout2d(0.1)]\n",
    "    for i in range(len(nfs)-1):\n",
    "        layers += [ResBlock(nfs[i], nfs[i+1], act=act, norm=norm, stride=2), nn.Dropout2d(0.3)]\n",
    "    layers += [nn.Flatten(), nn.Dropout1d(0.3), nn.Linear(nfs[-1], 10, bias=False), nn.BatchNorm1d(10)]\n",
    "    return nn.Sequential(*layers)"
   ]
  },
  {
   "cell_type": "code",
   "execution_count": 120,
   "id": "4ec86441-4396-49a2-82da-7472b5853c1f",
   "metadata": {},
   "outputs": [],
   "source": [
    "epochs = 5\n",
    "lr = 1e-1\n",
    "tmax = epochs * len(dls.train)\n",
    "sched = partial(lr_scheduler.OneCycleLR, max_lr=lr, total_steps=tmax)\n",
    "model = get_model6(act_gr, norm=nn.BatchNorm2d).apply(iw)"
   ]
  },
  {
   "cell_type": "code",
   "execution_count": 110,
   "id": "edc5ea57-74d6-4767-80f1-52233441c97b",
   "metadata": {},
   "outputs": [
    {
     "data": {
      "text/html": [
       "\n",
       "<style>\n",
       "    /* Turns off some styling */\n",
       "    progress {\n",
       "        /* gets rid of default border in Firefox and Opera. */\n",
       "        border: none;\n",
       "        /* Needs to be in here for Safari polyfill so background images work as expected. */\n",
       "        background-size: auto;\n",
       "    }\n",
       "    progress:not([value]), progress:not([value])::-webkit-progress-bar {\n",
       "        background: repeating-linear-gradient(45deg, #7e7e7e, #7e7e7e 10px, #5c5c5c 10px, #5c5c5c 20px);\n",
       "    }\n",
       "    .progress-bar-interrupted, .progress-bar-interrupted::-webkit-progress-bar {\n",
       "        background: #F44336;\n",
       "    }\n",
       "</style>\n"
      ],
      "text/plain": [
       "<IPython.core.display.HTML object>"
      ]
     },
     "metadata": {},
     "output_type": "display_data"
    },
    {
     "data": {
      "text/html": [
       "\n",
       "    <div>\n",
       "      <progress value='0' class='' max='10' style='width:300px; height:20px; vertical-align: middle;'></progress>\n",
       "      0.00% [0/10 00:00&lt;?]\n",
       "    </div>\n",
       "    \n",
       "\n",
       "\n",
       "    <div>\n",
       "      <progress value='54' class='' max='59' style='width:300px; height:20px; vertical-align: middle;'></progress>\n",
       "      91.53% [54/59 01:07&lt;00:06 4.099]\n",
       "    </div>\n",
       "    "
      ],
      "text/plain": [
       "<IPython.core.display.HTML object>"
      ]
     },
     "metadata": {},
     "output_type": "display_data"
    },
    {
     "data": {
      "image/png": "[encoded data removed]",
      "text/plain": [
       "<Figure size 432x288 with 1 Axes>"
      ]
     },
     "metadata": {
      "needs_background": "light"
     },
     "output_type": "display_data"
    }
   ],
   "source": [
    "xtra = [aug_callback]\n",
    "learn = TrainLearner(model, dls, F.cross_entropy, lr=lr, cbs=cbs+xtra, opt_func=optim.AdamW)\n",
    "learn.lr_find()"
   ]
  },
  {
   "cell_type": "code",
   "execution_count": 121,
   "id": "ce9db727-d96d-4d88-bfd3-d7886bb371ce",
   "metadata": {},
   "outputs": [
    {
     "data": {
      "text/html": [
       "\n",
       "<style>\n",
       "    /* Turns off some styling */\n",
       "    progress {\n",
       "        /* gets rid of default border in Firefox and Opera. */\n",
       "        border: none;\n",
       "        /* Needs to be in here for Safari polyfill so background images work as expected. */\n",
       "        background-size: auto;\n",
       "    }\n",
       "    progress:not([value]), progress:not([value])::-webkit-progress-bar {\n",
       "        background: repeating-linear-gradient(45deg, #7e7e7e, #7e7e7e 10px, #5c5c5c 10px, #5c5c5c 20px);\n",
       "    }\n",
       "    .progress-bar-interrupted, .progress-bar-interrupted::-webkit-progress-bar {\n",
       "        background: #F44336;\n",
       "    }\n",
       "</style>\n"
      ],
      "text/plain": [
       "<IPython.core.display.HTML object>"
      ]
     },
     "metadata": {},
     "output_type": "display_data"
    },
    {
     "data": {
      "text/html": [
       "<table border=\"1\" class=\"dataframe\">\n",
       "  <thead>\n",
       "    <tr style=\"text-align: left;\">\n",
       "      <th>accuracy</th>\n",
       "      <th>loss</th>\n",
       "      <th>epoch</th>\n",
       "      <th>train</th>\n",
       "    </tr>\n",
       "  </thead>\n",
       "  <tbody>\n",
       "    <tr>\n",
       "      <td>0.548</td>\n",
       "      <td>1.248</td>\n",
       "      <td>0</td>\n",
       "      <td>train</td>\n",
       "    </tr>\n",
       "    <tr>\n",
       "      <td>0.796</td>\n",
       "      <td>0.570</td>\n",
       "      <td>0</td>\n",
       "      <td>eval</td>\n",
       "    </tr>\n",
       "    <tr>\n",
       "      <td>0.606</td>\n",
       "      <td>1.049</td>\n",
       "      <td>1</td>\n",
       "      <td>train</td>\n",
       "    </tr>\n",
       "    <tr>\n",
       "      <td>0.844</td>\n",
       "      <td>0.427</td>\n",
       "      <td>1</td>\n",
       "      <td>eval</td>\n",
       "    </tr>\n",
       "    <tr>\n",
       "      <td>0.632</td>\n",
       "      <td>0.969</td>\n",
       "      <td>2</td>\n",
       "      <td>train</td>\n",
       "    </tr>\n",
       "    <tr>\n",
       "      <td>0.881</td>\n",
       "      <td>0.340</td>\n",
       "      <td>2</td>\n",
       "      <td>eval</td>\n",
       "    </tr>\n",
       "    <tr>\n",
       "      <td>0.651</td>\n",
       "      <td>0.913</td>\n",
       "      <td>3</td>\n",
       "      <td>train</td>\n",
       "    </tr>\n",
       "    <tr>\n",
       "      <td>0.898</td>\n",
       "      <td>0.303</td>\n",
       "      <td>3</td>\n",
       "      <td>eval</td>\n",
       "    </tr>\n",
       "    <tr>\n",
       "      <td>0.663</td>\n",
       "      <td>0.879</td>\n",
       "      <td>4</td>\n",
       "      <td>train</td>\n",
       "    </tr>\n",
       "    <tr>\n",
       "      <td>0.908</td>\n",
       "      <td>0.275</td>\n",
       "      <td>4</td>\n",
       "      <td>eval</td>\n",
       "    </tr>\n",
       "  </tbody>\n",
       "</table>"
      ],
      "text/plain": [
       "<IPython.core.display.HTML object>"
      ]
     },
     "metadata": {},
     "output_type": "display_data"
    },
    {
     "data": {
      "image/png": "[encoded data removed]",
      "text/plain": [
       "<Figure size 432x288 with 1 Axes>"
      ]
     },
     "metadata": {},
     "output_type": "display_data"
    }
   ],
   "source": [
    "xtra = [BatchSchedCB(sched)]\n",
    "learn = TrainLearner(model, dls, F.cross_entropy, lr=lr, cbs=cbs+xtra, opt_func=optim.AdamW)\n",
    "learn.fit(epochs)"
   ]
  },
  {
   "cell_type": "code",
   "execution_count": 125,
   "id": "5ac86070-d416-4c1f-a63d-b846f09803a8",
   "metadata": {},
   "outputs": [
    {
     "data": {
      "text/html": [
       "\n",
       "<style>\n",
       "    /* Turns off some styling */\n",
       "    progress {\n",
       "        /* gets rid of default border in Firefox and Opera. */\n",
       "        border: none;\n",
       "        /* Needs to be in here for Safari polyfill so background images work as expected. */\n",
       "        background-size: auto;\n",
       "    }\n",
       "    progress:not([value]), progress:not([value])::-webkit-progress-bar {\n",
       "        background: repeating-linear-gradient(45deg, #7e7e7e, #7e7e7e 10px, #5c5c5c 10px, #5c5c5c 20px);\n",
       "    }\n",
       "    .progress-bar-interrupted, .progress-bar-interrupted::-webkit-progress-bar {\n",
       "        background: #F44336;\n",
       "    }\n",
       "</style>\n"
      ],
      "text/plain": [
       "<IPython.core.display.HTML object>"
      ]
     },
     "metadata": {},
     "output_type": "display_data"
    },
    {
     "data": {
      "text/html": [
       "<table border=\"1\" class=\"dataframe\">\n",
       "  <thead>\n",
       "    <tr style=\"text-align: left;\">\n",
       "      <th>accuracy</th>\n",
       "      <th>loss</th>\n",
       "      <th>epoch</th>\n",
       "      <th>train</th>\n",
       "    </tr>\n",
       "  </thead>\n",
       "  <tbody>\n",
       "    <tr>\n",
       "      <td>0.639</td>\n",
       "      <td>0.952</td>\n",
       "      <td>0</td>\n",
       "      <td>train</td>\n",
       "    </tr>\n",
       "    <tr>\n",
       "      <td>0.825</td>\n",
       "      <td>0.485</td>\n",
       "      <td>0</td>\n",
       "      <td>eval</td>\n",
       "    </tr>\n",
       "    <tr>\n",
       "      <td>0.601</td>\n",
       "      <td>1.063</td>\n",
       "      <td>1</td>\n",
       "      <td>train</td>\n",
       "    </tr>\n",
       "    <tr>\n",
       "      <td>0.846</td>\n",
       "      <td>0.420</td>\n",
       "      <td>1</td>\n",
       "      <td>eval</td>\n",
       "    </tr>\n",
       "    <tr>\n",
       "      <td>0.619</td>\n",
       "      <td>1.005</td>\n",
       "      <td>2</td>\n",
       "      <td>train</td>\n",
       "    </tr>\n",
       "    <tr>\n",
       "      <td>0.851</td>\n",
       "      <td>0.420</td>\n",
       "      <td>2</td>\n",
       "      <td>eval</td>\n",
       "    </tr>\n",
       "    <tr>\n",
       "      <td>0.634</td>\n",
       "      <td>0.951</td>\n",
       "      <td>3</td>\n",
       "      <td>train</td>\n",
       "    </tr>\n",
       "    <tr>\n",
       "      <td>0.885</td>\n",
       "      <td>0.344</td>\n",
       "      <td>3</td>\n",
       "      <td>eval</td>\n",
       "    </tr>\n",
       "    <tr>\n",
       "      <td>0.647</td>\n",
       "      <td>0.917</td>\n",
       "      <td>4</td>\n",
       "      <td>train</td>\n",
       "    </tr>\n",
       "    <tr>\n",
       "      <td>0.891</td>\n",
       "      <td>0.321</td>\n",
       "      <td>4</td>\n",
       "      <td>eval</td>\n",
       "    </tr>\n",
       "  </tbody>\n",
       "</table>"
      ],
      "text/plain": [
       "<IPython.core.display.HTML object>"
      ]
     },
     "metadata": {},
     "output_type": "display_data"
    },
    {
     "data": {
      "image/png": "[encoded data removed]",
      "text/plain": [
       "<Figure size 432x288 with 1 Axes>"
      ]
     },
     "metadata": {},
     "output_type": "display_data"
    }
   ],
   "source": [
    "# got 0.875 \t0.377 \t4 \teval when doing it the first time\n",
    "# 0.891 \t0.321 \t4 \teval the second time \n",
    "sched = partial(lr_scheduler.OneCycleLR, max_lr=lr, total_steps=tmax)\n",
    "xtra = [BatchSchedCB(sched), aug_callback]\n",
    "learn = TrainLearner(model, dls, F.cross_entropy, lr=lr, cbs=cbs+xtra, opt_func=optim.AdamW)\n",
    "learn.fit(epochs)"
   ]
  },
  {
   "cell_type": "code",
   "execution_count": 123,
   "id": "b71e5bb5-1a2c-4050-b62b-d14ca588838c",
   "metadata": {},
   "outputs": [
    {
     "data": {
      "text/html": [
       "\n",
       "<style>\n",
       "    /* Turns off some styling */\n",
       "    progress {\n",
       "        /* gets rid of default border in Firefox and Opera. */\n",
       "        border: none;\n",
       "        /* Needs to be in here for Safari polyfill so background images work as expected. */\n",
       "        background-size: auto;\n",
       "    }\n",
       "    progress:not([value]), progress:not([value])::-webkit-progress-bar {\n",
       "        background: repeating-linear-gradient(45deg, #7e7e7e, #7e7e7e 10px, #5c5c5c 10px, #5c5c5c 20px);\n",
       "    }\n",
       "    .progress-bar-interrupted, .progress-bar-interrupted::-webkit-progress-bar {\n",
       "        background: #F44336;\n",
       "    }\n",
       "</style>\n"
      ],
      "text/plain": [
       "<IPython.core.display.HTML object>"
      ]
     },
     "metadata": {},
     "output_type": "display_data"
    },
    {
     "data": {
      "text/html": [
       "<table border=\"1\" class=\"dataframe\">\n",
       "  <thead>\n",
       "    <tr style=\"text-align: left;\">\n",
       "      <th>accuracy</th>\n",
       "      <th>loss</th>\n",
       "      <th>epoch</th>\n",
       "      <th>train</th>\n",
       "    </tr>\n",
       "  </thead>\n",
       "  <tbody>\n",
       "    <tr>\n",
       "      <td>0.878</td>\n",
       "      <td>0.364</td>\n",
       "      <td>0</td>\n",
       "      <td>eval</td>\n",
       "    </tr>\n",
       "  </tbody>\n",
       "</table>"
      ],
      "text/plain": [
       "<IPython.core.display.HTML object>"
      ]
     },
     "metadata": {},
     "output_type": "display_data"
    },
    {
     "data": {
      "image/png": "[encoded data removed]",
      "text/plain": [
       "<Figure size 432x288 with 1 Axes>"
      ]
     },
     "metadata": {},
     "output_type": "display_data"
    }
   ],
   "source": [
    "learn.fit(1, do_train=False)"
   ]
  },
  {
   "cell_type": "code",
   "execution_count": 124,
   "id": "ea19bb80-3794-4ee0-b0ce-48d54550dacb",
   "metadata": {},
   "outputs": [],
   "source": [
    "model_path=Path('models')\n",
    "model_path.mkdir(exist_ok=True)\n",
    "torch.save(learn.model, model_path/'trytowin2.pkl')\n",
    "#learn.model = torch.load( model_path/'trytowin.pkl')"
   ]
  },
  {
   "cell_type": "code",
   "execution_count": 90,
   "id": "cf222de5-2c18-4353-ac2b-6576ee83e5b4",
   "metadata": {},
   "outputs": [
    {
     "data": {
      "text/html": [
       "\n",
       "<style>\n",
       "    /* Turns off some styling */\n",
       "    progress {\n",
       "        /* gets rid of default border in Firefox and Opera. */\n",
       "        border: none;\n",
       "        /* Needs to be in here for Safari polyfill so background images work as expected. */\n",
       "        background-size: auto;\n",
       "    }\n",
       "    progress:not([value]), progress:not([value])::-webkit-progress-bar {\n",
       "        background: repeating-linear-gradient(45deg, #7e7e7e, #7e7e7e 10px, #5c5c5c 10px, #5c5c5c 20px);\n",
       "    }\n",
       "    .progress-bar-interrupted, .progress-bar-interrupted::-webkit-progress-bar {\n",
       "        background: #F44336;\n",
       "    }\n",
       "</style>\n"
      ],
      "text/plain": [
       "<IPython.core.display.HTML object>"
      ]
     },
     "metadata": {},
     "output_type": "display_data"
    },
    {
     "data": {
      "text/html": [
       "<table border=\"1\" class=\"dataframe\">\n",
       "  <thead>\n",
       "    <tr style=\"text-align: left;\">\n",
       "      <th>accuracy</th>\n",
       "      <th>loss</th>\n",
       "      <th>epoch</th>\n",
       "      <th>train</th>\n",
       "    </tr>\n",
       "  </thead>\n",
       "  <tbody>\n",
       "    <tr>\n",
       "      <td>0.124</td>\n",
       "      <td>3.955</td>\n",
       "      <td>0</td>\n",
       "      <td>eval</td>\n",
       "    </tr>\n",
       "  </tbody>\n",
       "</table>"
      ],
      "text/plain": [
       "<IPython.core.display.HTML object>"
      ]
     },
     "metadata": {},
     "output_type": "display_data"
    },
    {
     "data": {
      "image/png": "[encoded data removed]",
      "text/plain": [
       "<Figure size 432x288 with 1 Axes>"
      ]
     },
     "metadata": {},
     "output_type": "display_data"
    }
   ],
   "source": [
    "cap = CapturePreds()\n",
    "\n",
    "learn.fit(1, do_train=False, do_validate=True, cbs=[cap])"
   ]
  },
  {
   "cell_type": "code",
   "execution_count": 88,
   "id": "cb9cc306-8db4-42a2-8671-e5f47710080b",
   "metadata": {},
   "outputs": [
    {
     "data": {
      "text/plain": [
       "0.12439999729394913"
      ]
     },
     "execution_count": 88,
     "metadata": {},
     "output_type": "execute_result"
    }
   ],
   "source": [
    "(cap.all_preds.argmax(1) == cap.all_targs).float().mean().item()"
   ]
  },
  {
   "cell_type": "markdown",
   "id": "67463df8-a60a-41b9-b396-8764dae6e12d",
   "metadata": {},
   "source": [
    " accuracy \tloss \tepoch \ttrain\n",
    "0.747 \t0.913 \t0 \ttrain\n",
    "0.800 \t0.723 \t0 \teval\n",
    "0.841 \t0.632 \t1 \ttrain\n",
    "0.816 \t0.688 \t1 \teval\n",
    "0.861 \t0.538 \t2 \ttrain\n",
    "0.842 \t0.557 \t2 \teval\n",
    "0.868 \t0.475 \t3 \ttrain\n",
    "0.815 \t0.593 \t3 \teval\n",
    "0.876 \t0.410 \t4 \ttrain\n",
    "0.821 \t0.574 \t4 \teval\n",
    "0.883 \t0.363 \t5 \ttrain\n",
    "0.851 \t0.452 \t5 \teval\n",
    "0.885 \t0.343 \t6 \ttrain\n",
    "0.868 \t0.379 \t6 \teval\n",
    "0.896 \t0.304 \t7 \ttrain\n",
    "0.866 \t0.379 \t7 \teval\n",
    "0.894 \t0.304 \t8 \ttrain\n",
    "0.817 \t0.526 \t8 \teval\n",
    "0.898 \t0.295 \t9 \ttrain\n",
    "0.837 \t0.471 \t9 \teval\n",
    "0.904 \t0.271 \t10 \ttrain\n",
    "0.881 \t0.338 \t10 \teval\n",
    "0.906 \t0.267 \t11 \ttrain\n",
    "0.852 \t0.426 \t11 \teval\n",
    "0.912 \t0.248 \t12 \ttrain\n",
    "0.891 \t0.328 \t12 \teval\n",
    "0.911 \t0.249 \t13 \ttrain\n",
    "0.863 \t0.447 \t13 \teval\n",
    "0.917 \t0.231 \t14 \ttrain\n",
    "0.867 \t0.388 \t14 \teval\n",
    "0.917 \t0.226 \t15 \ttrain\n",
    "0.866 \t0.381 \t15 \teval\n",
    "0.922 \t0.212 \t16 \ttrain\n",
    "0.859 \t0.402 \t16 \teval\n",
    "0.921 \t0.216 \t17 \ttrain\n",
    "0.871 \t0.383 \t17 \teval\n",
    "0.927 \t0.205 \t18 \ttrain\n",
    "0.886 \t0.336 \t18 \teval\n",
    "0.925 \t0.207 \t19 \ttrain\n",
    "0.889 \t0.320 \t19 \teval\n",
    "0.926 \t0.200 \t20 \ttrain\n",
    "0.877 \t0.343 \t20 \teval\n",
    "0.930 \t0.192 \t21 \ttrain\n",
    "0.905 \t0.274 \t21 \teval\n",
    "0.934 \t0.184 \t22 \ttrain\n",
    "0.908 \t0.250 \t22 \teval\n",
    "0.933 \t0.181 \t23 \ttrain\n",
    "0.902 \t0.263 \t23 \teval\n",
    "0.934 \t0.182 \t24 \ttrain\n",
    "0.902 \t0.269 \t24 \teval\n",
    "0.939 \t0.170 \t25 \ttrain\n",
    "0.903 \t0.266 \t25 \teval\n",
    "0.940 \t0.163 \t26 \ttrain\n",
    "0.903 \t0.284 \t26 \teval\n",
    "0.943 \t0.159 \t27 \ttrain\n",
    "0.918 \t0.229 \t27 \teval\n",
    "0.943 \t0.156 \t28 \ttrain\n",
    "0.916 \t0.240 \t28 \teval\n",
    "0.942 \t0.161 \t29 \ttrain\n",
    "0.910 \t0.256 \t29 \teval\n",
    "0.945 \t0.150 \t30 \ttrain\n",
    "0.919 \t0.236 \t30 \teval\n",
    "0.947 \t0.144 \t31 \ttrain\n",
    "0.911 \t0.245 \t31 \teval\n",
    "0.949 \t0.139 \t32 \ttrain\n",
    "0.927 \t0.210 \t32 \teval\n",
    "0.949 \t0.136 \t33 \ttrain\n",
    "0.925 \t0.218 \t33 \teval\n",
    "0.952 \t0.133 \t34 \ttrain\n",
    "0.924 \t0.217 \t34 \teval\n",
    "0.954 \t0.126 \t35 \ttrain\n",
    "0.932 \t0.202 \t35 \teval\n",
    "0.956 \t0.119 \t36 \ttrain\n",
    "0.924 \t0.224 \t36 \teval\n",
    "0.958 \t0.115 \t37 \ttrain\n",
    "0.933 \t0.202 \t37 \teval\n",
    "0.959 \t0.112 \t38 \ttrain\n",
    "0.929 \t0.209 \t38 \teval\n",
    "0.962 \t0.103 \t39 \ttrain\n",
    "0.934 \t0.191 \t39 \teval\n",
    "0.965 \t0.098 \t40 \ttrain\n",
    "0.928 \t0.212 \t40 \teval\n",
    "0.967 \t0.091 \t41 \ttrain\n",
    "0.933 \t0.205 \t41 \teval\n",
    "0.969 \t0.085 \t42 \ttrain\n",
    "0.934 \t0.209 \t42 \teval\n",
    "0.972 \t0.080 \t43 \ttrain\n",
    "0.934 \t0.205 \t43 \teval\n",
    "0.972 \t0.077 \t44 \ttrain\n",
    "0.936 \t0.198 \t44 \teval\n",
    "0.972 \t0.077 \t45 \ttrain\n",
    "0.939 \t0.188 \t45 \teval\n",
    "0.973 \t0.076 \t46 \ttrain\n",
    "0.938 \t0.188 \t46 \teval\n",
    "0.977 \t0.066 \t47 \ttrain\n",
    "0.942 \t0.182 \t47 \teval\n",
    "0.975 \t0.071 \t48 \ttrain\n",
    "0.936 \t0.205 \t48 \teval\n",
    "0.976 \t0.069 \t49 \ttrain\n",
    "0.934 \t0.200 \t49 \teval"
   ]
  },
  {
   "cell_type": "markdown",
   "id": "82722634-77fd-4fbd-a24a-1f7bf93a66d4",
   "metadata": {},
   "source": [
    "# Random copy\n",
    "Note: this section cut pasted."
   ]
  },
  {
   "cell_type": "code",
   "execution_count": 60,
   "id": "79f722ff-38dc-4d72-8347-35f24322e8e2",
   "metadata": {},
   "outputs": [],
   "source": [
    "#|export\n",
    "def _rand_copy1(x, pct):\n",
    "    szx = int(pct*x.shape[-2])\n",
    "    szy = int(pct*x.shape[-1])\n",
    "    stx1 = int(random.random()*(1-pct)*x.shape[-2])\n",
    "    sty1 = int(random.random()*(1-pct)*x.shape[-1])\n",
    "    stx2 = int(random.random()*(1-pct)*x.shape[-2])\n",
    "    sty2 = int(random.random()*(1-pct)*x.shape[-1])\n",
    "    x[:,:,stx1:stx1+szx,sty1:sty1+szy] = x[:,:,stx2:stx2+szx,sty2:sty2+szy]"
   ]
  },
  {
   "cell_type": "code",
   "execution_count": 61,
   "id": "3de355d4-6bf6-44cb-9534-ee4949d8905d",
   "metadata": {},
   "outputs": [],
   "source": [
    "#|export\n",
    "def rand_copy(x, pct=0.2, max_num = 4):\n",
    "    num = random.randint(0, max_num)\n",
    "    for i in range(num): _rand_copy1(x, pct)\n",
    "#     print(num)\n",
    "    return x"
   ]
  },
  {
   "cell_type": "code",
   "execution_count": 62,
   "id": "2af628a8-ddae-4fca-9f6b-b67aad270296",
   "metadata": {},
   "outputs": [],
   "source": [
    "#|export\n",
    "class RandCopy(nn.Module):\n",
    "    def __init__(self, pct=0.2, max_num=4):\n",
    "        super().__init__()\n",
    "        self.pct,self.max_num = pct,max_num\n",
    "    def forward(self, x): return rand_copy(x, self.pct, self.max_num)"
   ]
  },
  {
   "cell_type": "code",
   "execution_count": 63,
   "id": "5eaf26c2-4bf8-4828-b041-8f9be865ec72",
   "metadata": {},
   "outputs": [],
   "source": [
    "tfms = nn.Sequential(transforms.RandomCrop(28, padding=1),\n",
    "                     transforms.RandomHorizontalFlip(),\n",
    "                     RandCopy())\n",
    "augcb = BatchTransformCB(partial(tfm_batch, tfm_x=tfms), on_val=False)"
   ]
  },
  {
   "cell_type": "code",
   "execution_count": 64,
   "id": "4feba884-96c5-4737-910d-8bab67d4abfa",
   "metadata": {},
   "outputs": [
    {
     "data": {
      "image/png": "[encoded data removed]",
      "text/plain": [
       "<Figure size 432x432 with 16 Axes>"
      ]
     },
     "metadata": {},
     "output_type": "display_data"
    }
   ],
   "source": [
    "model = get_model()\n",
    "learn = TrainLearner(model, dls, F.cross_entropy, lr=lr, cbs=[DeviceCB(), SingleBatchCB(), augcb])\n",
    "learn.fit(1)\n",
    "xb,yb = learn.batch\n",
    "show_images(xb[:16], imsize=1.5)"
   ]
  },
  {
   "cell_type": "markdown",
   "id": "ed7dc40a-d19a-4329-943f-ccaa095c50f0",
   "metadata": {},
   "source": [
    "# Dropout"
   ]
  },
  {
   "cell_type": "code",
   "execution_count": 65,
   "id": "e252341b-7536-4352-91b4-98761e00ac62",
   "metadata": {},
   "outputs": [],
   "source": [
    "class Dropout(nn.Module):\n",
    "    def __init__(self, p=0.1):\n",
    "        super().__init__()\n",
    "        self.p = p\n",
    "    \n",
    "    def forward(self, x):\n",
    "        if not self.training:\n",
    "            return x\n",
    "        \n",
    "        dist = distributions.binomial.Binomial(tensor(1.0).to(x.device),\n",
    "                                               probs=(1-self.p))\n",
    "        '''\n",
    "        sample a tensor of same shape as x. Different activations\n",
    "        are dropped for each example in minibatch.\n",
    "        \n",
    "        To drop the same activations from each element in the batch\n",
    "        you would sample with: dist.sample((x.shape[-1],)). `sample`\n",
    "        method must takes a \"size\" tuple.\n",
    "        \n",
    "        Dropping some multiplicands lowers some statistics of the layer\n",
    "        so restore them by scaling the remaining activations back up. \n",
    "        Preserves variance I think.\n",
    "        '''\n",
    "        return x * dist.sample(x.size()) / (1-self.p)"
   ]
  },
  {
   "cell_type": "code",
   "execution_count": 66,
   "id": "61e7a663-1501-4bc6-b854-c950d792ee37",
   "metadata": {},
   "outputs": [],
   "source": [
    "def get_dropmodel(act=nn.ReLU, nfs=(16,32,64,128,256,512), norm=nn.BatchNorm2d):\n",
    "    layers = [ResBlock(1, 16, ks=5, stride=1, act=act, norm=norm), nn.Dropout2d(0.1)]\n",
    "    layers += [ResBlock(nfs[i], nfs[i+1], act=act, norm=norm, stride=2) for i in range(len(nfs)-1)]\n",
    "    layers += [nn.Flatten(), Dropout(0.1), nn.Linear(nfs[-1], 10, bias=False), nn.BatchNorm1d(10)]\n",
    "    return nn.Sequential(*layers)"
   ]
  },
  {
   "cell_type": "code",
   "execution_count": 67,
   "id": "8ca783fc-7aaa-4eca-86a6-67dcc8e032ff",
   "metadata": {},
   "outputs": [],
   "source": [
    "set_seed(42)\n",
    "epochs=5\n",
    "lr = 1e-2\n",
    "tmax = epochs * len(dls.train)\n",
    "sched = partial(lr_scheduler.OneCycleLR, max_lr=lr, total_steps=tmax)\n",
    "xtra = [BatchSchedCB(sched)]\n",
    "model = get_dropmodel(act_gr, norm=nn.BatchNorm2d).apply(iw)\n",
    "learn = TrainLearner(model, dls, F.cross_entropy, lr=lr, cbs=cbs+xtra, opt_func=optim.AdamW)"
   ]
  },
  {
   "cell_type": "markdown",
   "id": "c5e24df8-8280-400c-a0d7-6f44b83a0c36",
   "metadata": {},
   "source": [
    "#Note: final result 0.931 \t0.220 \t4 \teval\n",
    "\n",
    "learn.fit(epochs)"
   ]
  },
  {
   "cell_type": "markdown",
   "id": "41408ea1-8b38-4070-bfbd-d536d11722ab",
   "metadata": {},
   "source": [
    "## Homemade dropout2d"
   ]
  },
  {
   "cell_type": "code",
   "execution_count": 68,
   "id": "0a24ca9c-bb95-413d-84e0-e2bfc972fc7a",
   "metadata": {},
   "outputs": [],
   "source": [
    "class Dropout2d(nn.Module):\n",
    "    def __init__(self, p):\n",
    "        super().__init__()\n",
    "        self.p=p\n",
    "        self.dist = distributions.binomial.Binomial(tensor(1.).to(def_device), probs=(1-self.p))\n",
    "    def forward(self, x):\n",
    "        drop = self.dist.sample((x.shape[-3], 1, 1))\n",
    "        return drop * x / (1-self.p)"
   ]
  },
  {
   "cell_type": "code",
   "execution_count": 69,
   "id": "0ff0b542-6fdd-4068-9f2d-f6f724329073",
   "metadata": {},
   "outputs": [],
   "source": [
    "def get_dropmodel(act=nn.ReLU, nfs=(16,32,64,128,256,512), norm=nn.BatchNorm2d):\n",
    "    layers = [ResBlock(1, 16, ks=5, stride=1, act=act, norm=norm), Dropout2d(0.1)]\n",
    "    layers += [ResBlock(nfs[i], nfs[i+1], act=act, norm=norm, stride=2) for i in range(len(nfs)-1)]\n",
    "    layers += [nn.Flatten(), Dropout(0.1), nn.Linear(nfs[-1], 10, bias=False), nn.BatchNorm1d(10)]\n",
    "    return nn.Sequential(*layers)"
   ]
  },
  {
   "cell_type": "code",
   "execution_count": 70,
   "id": "c360e58a-c521-4187-8d4d-d6063916850f",
   "metadata": {},
   "outputs": [],
   "source": [
    "set_seed(42)\n",
    "epochs=5\n",
    "lr = 1e-2\n",
    "tmax = epochs * len(dls.train)\n",
    "sched = partial(lr_scheduler.OneCycleLR, max_lr=lr, total_steps=tmax)\n",
    "xtra = [BatchSchedCB(sched)]\n",
    "model = get_dropmodel(act_gr, norm=nn.BatchNorm2d).apply(iw)\n",
    "learn = TrainLearner(model, dls, F.cross_entropy, lr=lr, cbs=cbs+xtra, opt_func=optim.AdamW)"
   ]
  },
  {
   "cell_type": "code",
   "execution_count": 71,
   "id": "bb30bebb-91eb-4d74-bef4-ef0110540fe9",
   "metadata": {},
   "outputs": [],
   "source": [
    "# got .91 or something first time, .921 second time\n",
    "#learn.fit()"
   ]
  },
  {
   "cell_type": "markdown",
   "id": "59f2800c-50d9-4b8f-ac17-de0c8e59108c",
   "metadata": {},
   "source": [
    "# 1cycle scheduler"
   ]
  },
  {
   "cell_type": "code",
   "execution_count": 72,
   "id": "3934298d-3eec-41bc-b7a0-6f73b1b16a3f",
   "metadata": {},
   "outputs": [],
   "source": [
    "class OneCycleLR():\n",
    "    def __init__(self, opt, max_lr, n_steps):\n",
    "        self.sched = torch.cat((\n",
    "            torch.linspace(max_lr/4, max_lr, n_steps // 2),\n",
    "            torch.linspace(max_lr, max_lr/4, n_steps // 2)\n",
    "        ))\n",
    "        if n_steps % 2 == 1:\n",
    "            self.sched = torch.cat((self.sched, tensor(max_lr/4)[None]))\n",
    "        \n",
    "        self.opt = opt\n",
    "        self.i = 0\n",
    "    def step(self):\n",
    "        if self.i < self.sched.shape[0]:\n",
    "            self.opt.param_groups[0]['lr'] = self.sched[self.i]\n",
    "        else:\n",
    "            print('OneCycleLR: warning, going over max num steps')\n",
    "        self.i = self.i + 1\n",
    "        "
   ]
  },
  {
   "cell_type": "code",
   "execution_count": 73,
   "id": "b25b71e4-73b2-409b-83f8-ce08e8d6b233",
   "metadata": {},
   "outputs": [
    {
     "ename": "NameError",
     "evalue": "name 'tmdax' is not defined",
     "output_type": "error",
     "traceback": [
      "\u001b[0;31m---------------------------------------------------------------------------\u001b[0m",
      "\u001b[0;31mNameError\u001b[0m                                 Traceback (most recent call last)",
      "Input \u001b[0;32mIn [73]\u001b[0m, in \u001b[0;36m<cell line: 5>\u001b[0;34m()\u001b[0m\n\u001b[1;32m      3\u001b[0m lr \u001b[38;5;241m=\u001b[39m \u001b[38;5;241m1e-2\u001b[39m\n\u001b[1;32m      4\u001b[0m tmax \u001b[38;5;241m=\u001b[39m epochs \u001b[38;5;241m*\u001b[39m \u001b[38;5;28mlen\u001b[39m(dls\u001b[38;5;241m.\u001b[39mtrain)\n\u001b[0;32m----> 5\u001b[0m sched \u001b[38;5;241m=\u001b[39m partial(OneCycleLR, max_lr\u001b[38;5;241m=\u001b[39mlr, n_steps\u001b[38;5;241m=\u001b[39m\u001b[43mtmdax\u001b[49m)\n\u001b[1;32m      6\u001b[0m xtra \u001b[38;5;241m=\u001b[39m [BatchSchedCB(sched)]\n\u001b[1;32m      7\u001b[0m model \u001b[38;5;241m=\u001b[39m get_dropmodel(act_gr, norm\u001b[38;5;241m=\u001b[39mnn\u001b[38;5;241m.\u001b[39mBatchNorm2d)\u001b[38;5;241m.\u001b[39mapply(iw)\n",
      "\u001b[0;31mNameError\u001b[0m: name 'tmdax' is not defined"
     ]
    }
   ],
   "source": [
    "set_seed(42)\n",
    "epochs=5\n",
    "lr = 1e-2\n",
    "tmax = epochs * len(dls.train)\n",
    "sched = partial(OneCycleLR, max_lr=lr, n_steps=tmdax)\n",
    "xtra = [BatchSchedCB(sched)]\n",
    "model = get_dropmodel(act_gr, norm=nn.BatchNorm2d).apply(iw)\n",
    "learn = TrainLearner(model, dls, F.cross_entropy, lr=lr, cbs=cbs+xtra, opt_func=optim.AdamW)"
   ]
  },
  {
   "cell_type": "code",
   "execution_count": null,
   "id": "7ba5ac12-60ac-439e-9ebf-6c25652e39c4",
   "metadata": {},
   "outputs": [],
   "source": [
    "learn.fit(5)"
   ]
  }
 ],
 "metadata": {
  "kernelspec": {
   "display_name": "Python 3 (ipykernel)",
   "language": "python",
   "name": "python3"
  },
  "language_info": {
   "codemirror_mode": {
    "name": "ipython",
    "version": 3
   },
   "file_extension": ".py",
   "mimetype": "text/x-python",
   "name": "python",
   "nbconvert_exporter": "python",
   "pygments_lexer": "ipython3",
   "version": "3.9.13"
  }
 },
 "nbformat": 4,
 "nbformat_minor": 5
}
