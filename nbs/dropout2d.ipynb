{
 "cells": [
  {
   "cell_type": "code",
   "execution_count": 2,
   "id": "69ca7dbf-649c-487b-8ae7-e304e1e5604e",
   "metadata": {},
   "outputs": [],
   "source": [
    "from torch import distributions, tensor"
   ]
  },
  {
   "cell_type": "code",
   "execution_count": 3,
   "id": "9251b474-d0ba-4bd9-882d-818241d8a774",
   "metadata": {},
   "outputs": [],
   "source": [
    "dist = distributions.binomial.Binomial(probs=.75)"
   ]
  },
  {
   "cell_type": "code",
   "execution_count": 4,
   "id": "c7766fa3-8056-4e80-be2e-cfde78412909",
   "metadata": {},
   "outputs": [
    {
     "data": {
      "text/plain": [
       "tensor([[[1., 1., 1.],\n",
       "         [1., 1., 1.],\n",
       "         [1., 1., 1.]],\n",
       "\n",
       "        [[1., 1., 1.],\n",
       "         [1., 1., 1.],\n",
       "         [1., 1., 1.]],\n",
       "\n",
       "        [[1., 1., 1.],\n",
       "         [1., 1., 1.],\n",
       "         [1., 1., 1.]]])"
      ]
     },
     "execution_count": 4,
     "metadata": {},
     "output_type": "execute_result"
    }
   ],
   "source": [
    "t = torch.ones((3,3,3))\n",
    "t"
   ]
  },
  {
   "cell_type": "code",
   "execution_count": 5,
   "id": "8e6ea4b1-26aa-4f47-b333-5168617c89fe",
   "metadata": {},
   "outputs": [
    {
     "data": {
      "text/plain": [
       "tensor([1, 0, 1])"
      ]
     },
     "execution_count": 5,
     "metadata": {},
     "output_type": "execute_result"
    }
   ],
   "source": [
    "m = tensor([1, 0, 1])\n",
    "m"
   ]
  },
  {
   "cell_type": "code",
   "execution_count": 6,
   "id": "1207cdc6-5344-4372-b5b0-3312f0805bd2",
   "metadata": {},
   "outputs": [
    {
     "data": {
      "text/plain": [
       "(torch.Size([3]), torch.Size([3, 3, 3]))"
      ]
     },
     "execution_count": 6,
     "metadata": {},
     "output_type": "execute_result"
    }
   ],
   "source": [
    "m.shape,t.shape"
   ]
  },
  {
   "cell_type": "code",
   "execution_count": 19,
   "id": "825028e2-011a-4c8e-8c3e-d572eeea3e73",
   "metadata": {},
   "outputs": [
    {
     "data": {
      "text/plain": [
       "tensor([[1],\n",
       "        [0],\n",
       "        [1]])"
      ]
     },
     "execution_count": 19,
     "metadata": {},
     "output_type": "execute_result"
    }
   ],
   "source": [
    "m.unsqueeze(1)"
   ]
  },
  {
   "cell_type": "code",
   "execution_count": 33,
   "id": "bdae25a0-df6a-4914-8fe5-cb4db37bf7d2",
   "metadata": {},
   "outputs": [
    {
     "data": {
      "text/plain": [
       "tensor([[[2, 8, 4, 5, 4],\n",
       "         [3, 2, 1, 0, 4],\n",
       "         [3, 6, 1, 3, 5],\n",
       "         [2, 3, 4, 1, 8],\n",
       "         [5, 6, 5, 7, 3]],\n",
       "\n",
       "        [[0, 6, 0, 4, 1],\n",
       "         [9, 4, 6, 0, 9],\n",
       "         [5, 9, 9, 6, 7],\n",
       "         [3, 7, 4, 3, 7],\n",
       "         [4, 9, 4, 5, 6]],\n",
       "\n",
       "        [[2, 6, 6, 7, 1],\n",
       "         [1, 5, 9, 8, 9],\n",
       "         [9, 3, 0, 4, 2],\n",
       "         [1, 8, 0, 6, 4],\n",
       "         [6, 4, 4, 3, 4]]])"
      ]
     },
     "execution_count": 33,
     "metadata": {},
     "output_type": "execute_result"
    }
   ],
   "source": [
    "channels = 3\n",
    "im = torch.randint(0,10,(channels, 5, 5))\n",
    "im"
   ]
  },
  {
   "cell_type": "code",
   "execution_count": 34,
   "id": "9a2f60a2-6769-4d94-a1ed-3ae65e1c41c7",
   "metadata": {},
   "outputs": [
    {
     "data": {
      "text/plain": [
       "(tensor([[[0.]],\n",
       " \n",
       "         [[1.]],\n",
       " \n",
       "         [[1.]]]),\n",
       " torch.Size([3, 1, 1]))"
      ]
     },
     "execution_count": 34,
     "metadata": {},
     "output_type": "execute_result"
    }
   ],
   "source": [
    "drop = dist.sample((channels, 1, 1))\n",
    "drop,drop.shape"
   ]
  },
  {
   "cell_type": "code",
   "execution_count": 35,
   "id": "2f24826a-e2bc-4cc3-ab0a-895a1ada5e88",
   "metadata": {},
   "outputs": [
    {
     "data": {
      "text/plain": [
       "tensor([[[0., 0., 0., 0., 0.],\n",
       "         [0., 0., 0., 0., 0.],\n",
       "         [0., 0., 0., 0., 0.],\n",
       "         [0., 0., 0., 0., 0.],\n",
       "         [0., 0., 0., 0., 0.]],\n",
       "\n",
       "        [[0., 6., 0., 4., 1.],\n",
       "         [9., 4., 6., 0., 9.],\n",
       "         [5., 9., 9., 6., 7.],\n",
       "         [3., 7., 4., 3., 7.],\n",
       "         [4., 9., 4., 5., 6.]],\n",
       "\n",
       "        [[2., 6., 6., 7., 1.],\n",
       "         [1., 5., 9., 8., 9.],\n",
       "         [9., 3., 0., 4., 2.],\n",
       "         [1., 8., 0., 6., 4.],\n",
       "         [6., 4., 4., 3., 4.]]])"
      ]
     },
     "execution_count": 35,
     "metadata": {},
     "output_type": "execute_result"
    }
   ],
   "source": [
    "drop * im"
   ]
  }
 ],
 "metadata": {
  "kernelspec": {
   "display_name": "Python 3 (ipykernel)",
   "language": "python",
   "name": "python3"
  },
  "language_info": {
   "codemirror_mode": {
    "name": "ipython",
    "version": 3
   },
   "file_extension": ".py",
   "mimetype": "text/x-python",
   "name": "python",
   "nbconvert_exporter": "python",
   "pygments_lexer": "ipython3",
   "version": "3.9.13"
  }
 },
 "nbformat": 4,
 "nbformat_minor": 5
}
