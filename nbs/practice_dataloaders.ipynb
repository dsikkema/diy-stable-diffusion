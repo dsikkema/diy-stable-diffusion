{
 "cells": [
  {
   "cell_type": "code",
   "execution_count": 20,
   "id": "b0e022cf-fc63-438f-9eb8-20d963b1da74",
   "metadata": {},
   "outputs": [],
   "source": [
    "from torch.utils.data import default_collate,DataLoader, Dataset\n",
    "from torch import tensor as t, randn as r\n",
    "import torch\n",
    "from diy_stable_diffusion.training import Dataset\n",
    "from diy_stable_diffusion.datasets import DataLoaders"
   ]
  },
  {
   "cell_type": "code",
   "execution_count": 15,
   "id": "9aeaef90-dcf3-4337-9766-3665721d1137",
   "metadata": {},
   "outputs": [
    {
     "data": {
      "text/plain": [
       "(torch.Size([25, 1, 14, 14]), torch.Size([25]))"
      ]
     },
     "execution_count": 15,
     "metadata": {},
     "output_type": "execute_result"
    }
   ],
   "source": [
    "latents = r((25, 1, 14, 14))\n",
    "labels = torch.randint(0, 10, (25,))\n",
    "latents.shape, labels.shape"
   ]
  },
  {
   "cell_type": "code",
   "execution_count": 62,
   "id": "501a6d63-29bd-4b78-b7e3-391f4ce17b59",
   "metadata": {},
   "outputs": [
    {
     "data": {
      "text/plain": [
       "tensor([3.2500, 3.2500, 3.2500])"
      ]
     },
     "execution_count": 62,
     "metadata": {},
     "output_type": "execute_result"
    }
   ],
   "source": [
    "torch.lerp(torch.ones((3,)), torch.ones((3,)) * 10, 0.25)"
   ]
  },
  {
   "cell_type": "code",
   "execution_count": 68,
   "id": "0588d242-1793-490a-83c1-03d836944c78",
   "metadata": {},
   "outputs": [
    {
     "data": {
      "text/plain": [
       "(torch.Size([4, 1, 14, 14]),\n",
       " torch.Size([4]),\n",
       " torch.Size([4]),\n",
       " torch.Size([4, 1, 14, 14]))"
      ]
     },
     "execution_count": 68,
     "metadata": {},
     "output_type": "execute_result"
    }
   ],
   "source": [
    "'''\n",
    "no args\n",
    "\n",
    "batch is a list (len = batch size) of (x,y) tuples, in this case tuples (latent tsr, 0-dim label tsr)\n",
    "'''\n",
    "def my_collate(batch, *args, **kwargs):\n",
    "    # print(f'batch type/len {type(batch), len(batch)}, args len {len(args)}')\n",
    "    # print(f'batch 0th item type/len {type(batch[0]), len(batch[0])}')\n",
    "    print(batch[0][0].shape)\n",
    "    print(batch[0][1].item())\n",
    "    return default_collate(batch)\n",
    "\n",
    "def noisify(x0):\n",
    "    dev = x0.device\n",
    "    t = torch.rand((x0.shape[0],), device=dev).clamp(0,0.999)\n",
    "    noise=torch.randn_like(x0)\n",
    "    x_t = torch.lerp(x0, torch.randn_like(x0), 0.2)\n",
    "    return (x_t, t,), noise\n",
    "\n",
    "\n",
    "def noisify_collate_class(batch):\n",
    "    collated = default_collate(batch)\n",
    "    (x_t, t), eps = noisify(collated[0])\n",
    "    c = collated[1]\n",
    "    return (x_t, t, c), eps\n",
    "\n",
    "dl= DataLoader(Dataset(latents, labels), batch_size=4, collate_fn=noisify_collate_class)\n",
    "\n",
    "(xt, t, c), eps = next(iter(dl))\n",
    "xt.shape, t.shape, c.shape, eps.shape"
   ]
  },
  {
   "cell_type": "code",
   "execution_count": 67,
   "id": "4f48fe5c-7a5d-4feb-b4ba-022bd3b4c693",
   "metadata": {},
   "outputs": [
    {
     "data": {
      "text/plain": [
       "(tensor([0.6291, 0.9918, 0.4130, 0.8730]), tensor([6, 1, 7, 3]))"
      ]
     },
     "execution_count": 67,
     "metadata": {},
     "output_type": "execute_result"
    }
   ],
   "source": [
    "t, c"
   ]
  },
  {
   "cell_type": "code",
   "execution_count": null,
   "id": "ce400a3b-3f27-45ed-92a2-098e5e23ca35",
   "metadata": {},
   "outputs": [],
   "source": []
  }
 ],
 "metadata": {
  "kernelspec": {
   "display_name": "Python 3 (ipykernel)",
   "language": "python",
   "name": "python3"
  },
  "language_info": {
   "codemirror_mode": {
    "name": "ipython",
    "version": 3
   },
   "file_extension": ".py",
   "mimetype": "text/x-python",
   "name": "python",
   "nbconvert_exporter": "python",
   "pygments_lexer": "ipython3",
   "version": "3.9.13"
  }
 },
 "nbformat": 4,
 "nbformat_minor": 5
}
