{
 "cells": [
  {
   "cell_type": "code",
   "execution_count": 1,
   "id": "e69d7afd-6256-47c1-8a7e-0a9865fd5ae9",
   "metadata": {},
   "outputs": [],
   "source": [
    "from pathlib import Path\n",
    "import pickle, gzip, math, os, time, shutil, matplotlib as mpl, matplotlib.pyplot as plt\n",
    "from urllib.request import urlretrieve"
   ]
  },
  {
   "cell_type": "code",
   "execution_count": 2,
   "id": "95e44703-460b-4071-b7ef-62f6ac77806b",
   "metadata": {},
   "outputs": [],
   "source": [
    "MNIST_URL='https://github.com/mnielsen/neural-networks-and-deep-learning/blob/master/data/mnist.pkl.gz?raw=true'\n",
    "path_data= Path('data')\n",
    "path_data.mkdir(exist_ok=True)\n",
    "path_gz=path_data/'mnist.pkl.gz'\n",
    "if not path_gz.exists(): urlretrieve(MNIST_URL, path_gz)"
   ]
  },
  {
   "cell_type": "code",
   "execution_count": 3,
   "id": "e4a8b07d-d439-41d5-980f-d921e55b6d1a",
   "metadata": {},
   "outputs": [
    {
     "name": "stdout",
     "output_type": "stream",
     "text": [
      "mnist.pkl.gz\n"
     ]
    }
   ],
   "source": [
    "!ls data"
   ]
  },
  {
   "cell_type": "code",
   "execution_count": 4,
   "id": "96865c95-31a7-473c-a8ea-ac167bcaaaf6",
   "metadata": {},
   "outputs": [],
   "source": [
    "with gzip.open(path_gz, 'rb') as f: content = pickle.load(f, encoding='latin-1')"
   ]
  },
  {
   "cell_type": "code",
   "execution_count": 5,
   "id": "250c0e5e-77dc-47e6-bc01-ede0d992225c",
   "metadata": {},
   "outputs": [],
   "source": [
    "((x_train, y_train), (x_valid, y_valid), _) = content"
   ]
  },
  {
   "cell_type": "code",
   "execution_count": 6,
   "id": "eda2ee4d-3ff6-43b3-9fbb-c2d0ab9a1dd7",
   "metadata": {},
   "outputs": [
    {
     "data": {
      "text/plain": [
       "[0.0,\n",
       " 0.0,\n",
       " 0.0,\n",
       " 0.19140625,\n",
       " 0.9296875,\n",
       " 0.98828125,\n",
       " 0.98828125,\n",
       " 0.98828125,\n",
       " 0.98828125,\n",
       " 0.98828125]"
      ]
     },
     "execution_count": 6,
     "metadata": {},
     "output_type": "execute_result"
    }
   ],
   "source": [
    "lst1 = list(x_train[0])\n",
    "vals = lst1[200:210]\n",
    "vals"
   ]
  },
  {
   "cell_type": "code",
   "execution_count": 7,
   "id": "529b2fb9-846a-477e-b859-3ee0bbf97737",
   "metadata": {},
   "outputs": [],
   "source": [
    "def chunks(x, sz):\n",
    "    for i in range(0, len(x), sz):\n",
    "        # the loop executes one iteration at a time as needed.\n",
    "        # print ('hello') # this would say hello every time the outside code which is iterating over the generator iterates,\n",
    "        # but not when chunks is called to create the generator.\n",
    "        yield x[i:i+sz]"
   ]
  },
  {
   "cell_type": "code",
   "execution_count": 8,
   "id": "5dfe897f-dbf0-4341-9bc9-2ed6a0b7380a",
   "metadata": {},
   "outputs": [
    {
     "data": {
      "text/plain": [
       "[[0.0, 0.0, 0.0, 0.19140625, 0.9296875],\n",
       " [0.98828125, 0.98828125, 0.98828125, 0.98828125, 0.98828125]]"
      ]
     },
     "execution_count": 8,
     "metadata": {},
     "output_type": "execute_result"
    }
   ],
   "source": [
    "c=chunks(vals, 5)\n",
    "list(c) "
   ]
  },
  {
   "cell_type": "code",
   "execution_count": 9,
   "id": "a0e88358-2674-4527-98d4-ccf75309f8ac",
   "metadata": {},
   "outputs": [
    {
     "data": {
      "text/plain": [
       "<matplotlib.image.AxesImage at 0x7fbf9517fb50>"
      ]
     },
     "execution_count": 9,
     "metadata": {},
     "output_type": "execute_result"
    },
    {
     "data": {
      "image/png": "[encoded data removed]",
      "text/plain": [
       "<Figure size 432x288 with 1 Axes>"
      ]
     },
     "metadata": {
      "needs_background": "light"
     },
     "output_type": "display_data"
    }
   ],
   "source": [
    "mpl.rcParams['image.cmap'] = 'gray'\n",
    "plt.imshow(list(chunks(lst1,28)))"
   ]
  },
  {
   "cell_type": "code",
   "execution_count": 10,
   "id": "52da7d05-7719-4200-88ab-4e88627aac42",
   "metadata": {},
   "outputs": [],
   "source": [
    "from itertools import islice\n",
    "it = iter(vals)"
   ]
  },
  {
   "cell_type": "code",
   "execution_count": 11,
   "id": "e663e11f-82f6-4e7a-9b01-869aa0e88e74",
   "metadata": {},
   "outputs": [
    {
     "data": {
      "text/plain": [
       "<matplotlib.image.AxesImage at 0x7fbf9480cb20>"
      ]
     },
     "execution_count": 11,
     "metadata": {},
     "output_type": "execute_result"
    },
    {
     "data": {
      "image/png": "[encoded data removed]",
      "text/plain": [
       "<Figure size 432x288 with 1 Axes>"
      ]
     },
     "metadata": {
      "needs_background": "light"
     },
     "output_type": "display_data"
    }
   ],
   "source": [
    "# returns an iterator of the next values over the iterator it's given\n",
    "type(islice(it, 5)),vals,list(islice(it, 5))\n",
    "it = iter(lst1)\n",
    "\n",
    "def f1():\n",
    "    #print('f1')\n",
    "    return list(islice(it, 28))\n",
    "\n",
    "# to get each next value, calls the lambda on demand, and terminates when the sentinel value ([]) gets returned by the lambda\n",
    "# it would print 'f1' along each iteration over it2 after it2 is created\n",
    "it2 = iter(lambda: f1(), [])\n",
    "img= list(it2)\n",
    "plt.imshow(img)"
   ]
  },
  {
   "cell_type": "code",
   "execution_count": 12,
   "id": "b0b6014a-fcbc-417c-bfab-b75f993e41f9",
   "metadata": {},
   "outputs": [],
   "source": [
    "class Matrix:\n",
    "    def __init__(self, data):\n",
    "        self.data = data\n",
    "    def __getitem__(self, index):\n",
    "        return self.data[index[0]][index[1]]"
   ]
  },
  {
   "cell_type": "code",
   "execution_count": 13,
   "id": "cdcc379a-1930-48a2-a7b1-8003f419c2de",
   "metadata": {},
   "outputs": [
    {
     "data": {
      "text/plain": [
       "0.98828125"
      ]
     },
     "execution_count": 13,
     "metadata": {},
     "output_type": "execute_result"
    }
   ],
   "source": [
    "m = Matrix(img)\n",
    "m[20,15]"
   ]
  },
  {
   "cell_type": "code",
   "execution_count": 14,
   "id": "91c70a1e-9862-4a83-81bf-0afec3eabb6c",
   "metadata": {},
   "outputs": [],
   "source": [
    "import torch\n",
    "from torch import tensor"
   ]
  },
  {
   "cell_type": "code",
   "execution_count": 15,
   "id": "750c00a2-8d75-4e5c-a6ca-2da93fc74f04",
   "metadata": {},
   "outputs": [
    {
     "data": {
      "text/plain": [
       "tensor([1, 2, 3])"
      ]
     },
     "execution_count": 15,
     "metadata": {},
     "output_type": "execute_result"
    }
   ],
   "source": [
    "tensor([1,2,3])"
   ]
  },
  {
   "cell_type": "code",
   "execution_count": 16,
   "id": "8b9b56a0-75f9-4c6e-a483-35c6f9d28c1b",
   "metadata": {},
   "outputs": [
    {
     "data": {
      "text/plain": [
       "torch.Size([50000, 784])"
      ]
     },
     "execution_count": 16,
     "metadata": {},
     "output_type": "execute_result"
    }
   ],
   "source": [
    "x_train,y_train,x_valid,y_valid = map(tensor, (x_train,y_train,x_valid,y_valid))\n",
    "x_train.shape"
   ]
  },
  {
   "cell_type": "code",
   "execution_count": 17,
   "id": "757c0c49-22b8-4f8d-8811-5efdba65a322",
   "metadata": {},
   "outputs": [
    {
     "data": {
      "text/plain": [
       "torch.Size([50000, 28, 28])"
      ]
     },
     "execution_count": 17,
     "metadata": {},
     "output_type": "execute_result"
    }
   ],
   "source": [
    "imgs=x_train.reshape((-1,28,28))\n",
    "imgs.shape"
   ]
  },
  {
   "cell_type": "code",
   "execution_count": 18,
   "id": "9682325c-cc96-4f81-9c29-f7d44efcda14",
   "metadata": {},
   "outputs": [
    {
     "data": {
      "text/plain": [
       "<matplotlib.image.AxesImage at 0x7fbef2b6e130>"
      ]
     },
     "execution_count": 18,
     "metadata": {},
     "output_type": "execute_result"
    },
    {
     "data": {
      "image/png": "[encoded data removed]",
      "text/plain": [
       "<Figure size 432x288 with 1 Axes>"
      ]
     },
     "metadata": {
      "needs_background": "light"
     },
     "output_type": "display_data"
    }
   ],
   "source": [
    "plt.imshow(imgs[0])"
   ]
  },
  {
   "cell_type": "code",
   "execution_count": 19,
   "id": "98478255-faee-4ccb-9a40-2019ae4275d6",
   "metadata": {},
   "outputs": [
    {
     "data": {
      "text/plain": [
       "(tensor(0.9883), torch.Size([]))"
      ]
     },
     "execution_count": 19,
     "metadata": {},
     "output_type": "execute_result"
    }
   ],
   "source": [
    "#scalars are 0-rank tensors\n",
    "imgs[0,20,15],imgs[0,20,15].shape"
   ]
  },
  {
   "cell_type": "markdown",
   "id": "2d56338f-c7a4-413f-bb17-9cad457df8be",
   "metadata": {},
   "source": [
    "## Random numbers"
   ]
  },
  {
   "cell_type": "code",
   "execution_count": 20,
   "id": "d9a28699-3f0b-4370-926a-3125d43e15c9",
   "metadata": {},
   "outputs": [
    {
     "data": {
      "text/plain": [
       "(33, 2)"
      ]
     },
     "execution_count": 20,
     "metadata": {},
     "output_type": "execute_result"
    }
   ],
   "source": [
    "# returns tuple (x//y, x%y)\n",
    "\n",
    "# // is floor division, % is \"the remainder over top of the nearest multiple of y\"\n",
    "divmod(101,3) # = (33, 2)"
   ]
  },
  {
   "cell_type": "code",
   "execution_count": 21,
   "id": "a4cf0d78-769e-472d-8c5b-50bef0480afc",
   "metadata": {},
   "outputs": [],
   "source": [
    "# wichmann hill algorithm\n",
    "rnd_state = None\n",
    "def seed(a):\n",
    "    global rnd_state\n",
    "    a,x = divmod(a, 30268)\n",
    "    a,y = divmod(a, 30306)\n",
    "    a,z = divmod(a, 30322)\n",
    "    rnd_state=int(x)+1, int(y)+1, int(z) + 1"
   ]
  },
  {
   "cell_type": "code",
   "execution_count": 22,
   "id": "a5dd2c07-36af-49db-9271-9798fe78ed75",
   "metadata": {},
   "outputs": [
    {
     "data": {
      "text/plain": [
       "(43, 1, 1)"
      ]
     },
     "execution_count": 22,
     "metadata": {},
     "output_type": "execute_result"
    }
   ],
   "source": [
    "seed(42)\n",
    "rnd_state"
   ]
  },
  {
   "cell_type": "code",
   "execution_count": 23,
   "id": "623ee413-565b-4f74-9e27-047beb4069f1",
   "metadata": {},
   "outputs": [],
   "source": [
    "def rand():\n",
    "    global rnd_state\n",
    "    x, y, z = rnd_state\n",
    "    x = (171 * x) % 30269\n",
    "    y = (172 * y) % 30306\n",
    "    z = (170 * z) % 30323\n",
    "    rnd_state = x,y,z\n",
    "    return (x/30269 + y/30323 + z/30323) % 1.0"
   ]
  },
  {
   "cell_type": "code",
   "execution_count": 24,
   "id": "b082289d-a799-49e2-930e-9c32968f3c26",
   "metadata": {},
   "outputs": [
    {
     "name": "stdout",
     "output_type": "stream",
     "text": [
      "parent: rand 0.25420036860679573\n",
      "child: rand 0.25420036860679573\n"
     ]
    }
   ],
   "source": [
    "# demo that in both above implementation and pytorch, different threads share same seed and will generate same stream of random numbers\n",
    "if os.fork():\n",
    "    print(f'parent: rand {rand()}')\n",
    "else:\n",
    "    print(f'child: rand {rand()}')\n",
    "    os._exit(os.EX_OK)"
   ]
  },
  {
   "cell_type": "code",
   "execution_count": 25,
   "id": "2ab43fd5-196a-462f-85af-51ebaea5f264",
   "metadata": {},
   "outputs": [
    {
     "name": "stdout",
     "output_type": "stream",
     "text": [
      "parent: rand tensor([0.9103])\n",
      "child: rand tensor([0.9103])\n"
     ]
    }
   ],
   "source": [
    "if os.fork():\n",
    "    print(f'parent: rand {torch.rand(1)}')\n",
    "else:\n",
    "    print(f'child: rand {torch.rand(1)}')\n",
    "    os._exit(os.EX_OK)"
   ]
  },
  {
   "cell_type": "code",
   "execution_count": 26,
   "id": "b3c13e6d-7c93-47ae-bbb4-2ca3c09f472e",
   "metadata": {},
   "outputs": [
    {
     "data": {
      "text/plain": [
       "[<matplotlib.lines.Line2D at 0x7fbef23da5b0>]"
      ]
     },
     "execution_count": 26,
     "metadata": {},
     "output_type": "execute_result"
    },
    {
     "data": {
      "image/png": "[encoded data removed]",
      "text/plain": [
       "<Figure size 432x288 with 1 Axes>"
      ]
     },
     "metadata": {
      "needs_background": "light"
     },
     "output_type": "display_data"
    }
   ],
   "source": [
    "# a random walk graphed\n",
    "def summed():\n",
    "    s=0\n",
    "    for _ in range(1000000):\n",
    "        s = s + rand() - 0.5\n",
    "        yield s\n",
    "g = summed()\n",
    "plt.plot(list(g))"
   ]
  },
  {
   "cell_type": "code",
   "execution_count": 27,
   "id": "55d5deb4-ef87-4d97-9e09-5baab076de94",
   "metadata": {},
   "outputs": [
    {
     "data": {
      "text/plain": [
       "(array([ 9959.,  9888., 10102.,  9853., 10092.,  9923.,  9959.,  9902.,\n",
       "        10106.,  9982., 10060.,  9963.,  9940.,  9947., 10022.,  9878.,\n",
       "         9989.,  9981., 10122.,  9881.,  9898., 10107., 10082., 10119.,\n",
       "         9994., 10099., 10010.,  9971., 10011., 10126., 10137., 10039.,\n",
       "        10139., 10084., 10052.,  9984.,  9894.,  9925.,  9832., 10035.,\n",
       "         9950., 10107., 10104., 10137., 10013., 10055., 10152., 10092.,\n",
       "         9916., 10081.,  9961.,  9946.,  9947., 10001., 10016.,  9975.,\n",
       "        10036.,  9849.,  9977.,  9864., 10020.,  9951.,  9887.,  9943.,\n",
       "         9862., 10132.,  9941., 10050.,  9996.,  9982.,  9968.,  9897.,\n",
       "         9950.,  9901., 10030., 10116., 10077.,  9954.,  9861.,  9944.,\n",
       "         9933., 10078.,  9948., 10015., 10058., 10005., 10120., 10050.,\n",
       "         9958., 10082., 10026., 10095.,  9901., 10102., 10043.,  9973.,\n",
       "        10003.,  9957., 10101.,  9824.]),\n",
       " array([2.56033990e-07, 1.00002446e-02, 2.00002332e-02, 3.00002217e-02,\n",
       "        4.00002103e-02, 5.00001988e-02, 6.00001874e-02, 7.00001760e-02,\n",
       "        8.00001645e-02, 9.00001531e-02, 1.00000142e-01, 1.10000130e-01,\n",
       "        1.20000119e-01, 1.30000107e-01, 1.40000096e-01, 1.50000084e-01,\n",
       "        1.60000073e-01, 1.70000062e-01, 1.80000050e-01, 1.90000039e-01,\n",
       "        2.00000027e-01, 2.10000016e-01, 2.20000004e-01, 2.29999993e-01,\n",
       "        2.39999981e-01, 2.49999970e-01, 2.59999959e-01, 2.69999947e-01,\n",
       "        2.79999936e-01, 2.89999924e-01, 2.99999913e-01, 3.09999901e-01,\n",
       "        3.19999890e-01, 3.29999879e-01, 3.39999867e-01, 3.49999856e-01,\n",
       "        3.59999844e-01, 3.69999833e-01, 3.79999821e-01, 3.89999810e-01,\n",
       "        3.99999798e-01, 4.09999787e-01, 4.19999776e-01, 4.29999764e-01,\n",
       "        4.39999753e-01, 4.49999741e-01, 4.59999730e-01, 4.69999718e-01,\n",
       "        4.79999707e-01, 4.89999695e-01, 4.99999684e-01, 5.09999673e-01,\n",
       "        5.19999661e-01, 5.29999650e-01, 5.39999638e-01, 5.49999627e-01,\n",
       "        5.59999615e-01, 5.69999604e-01, 5.79999593e-01, 5.89999581e-01,\n",
       "        5.99999570e-01, 6.09999558e-01, 6.19999547e-01, 6.29999535e-01,\n",
       "        6.39999524e-01, 6.49999512e-01, 6.59999501e-01, 6.69999490e-01,\n",
       "        6.79999478e-01, 6.89999467e-01, 6.99999455e-01, 7.09999444e-01,\n",
       "        7.19999432e-01, 7.29999421e-01, 7.39999409e-01, 7.49999398e-01,\n",
       "        7.59999387e-01, 7.69999375e-01, 7.79999364e-01, 7.89999352e-01,\n",
       "        7.99999341e-01, 8.09999329e-01, 8.19999318e-01, 8.29999307e-01,\n",
       "        8.39999295e-01, 8.49999284e-01, 8.59999272e-01, 8.69999261e-01,\n",
       "        8.79999249e-01, 8.89999238e-01, 8.99999226e-01, 9.09999215e-01,\n",
       "        9.19999204e-01, 9.29999192e-01, 9.39999181e-01, 9.49999169e-01,\n",
       "        9.59999158e-01, 9.69999146e-01, 9.79999135e-01, 9.89999123e-01,\n",
       "        9.99999112e-01]),\n",
       " <BarContainer object of 100 artists>)"
      ]
     },
     "execution_count": 27,
     "metadata": {},
     "output_type": "execute_result"
    },
    {
     "data": {
      "image/png": "[encoded data removed]",
      "text/plain": [
       "<Figure size 432x288 with 1 Axes>"
      ]
     },
     "metadata": {
      "needs_background": "light"
     },
     "output_type": "display_data"
    }
   ],
   "source": [
    "# uniformly distributed between 0 and 1\n",
    "plt.hist([rand() for _ in range(1000000)],bins=100)"
   ]
  },
  {
   "cell_type": "markdown",
   "id": "315999c7-0a9e-4f2f-9d84-843b1a6c8a81",
   "metadata": {},
   "source": [
    "## matrix multiplication"
   ]
  },
  {
   "cell_type": "code",
   "execution_count": 28,
   "id": "97dce425-bf4e-495e-bd42-34434a4b9295",
   "metadata": {},
   "outputs": [],
   "source": [
    "weights = torch.randn(784, 10)\n",
    "bias = torch.zeros(10)"
   ]
  },
  {
   "cell_type": "code",
   "execution_count": 29,
   "id": "fc17c3a2-7e4d-49f1-91d4-ef0eb4800170",
   "metadata": {},
   "outputs": [
    {
     "data": {
      "text/plain": [
       "(torch.Size([5, 784]), torch.Size([784, 10]))"
      ]
     },
     "execution_count": 29,
     "metadata": {},
     "output_type": "execute_result"
    }
   ],
   "source": [
    "m1 = x_valid[:5] # minibatch of first 5 image vectors\n",
    "m2 = weights\n",
    "m1.shape, m2.shape"
   ]
  },
  {
   "cell_type": "code",
   "execution_count": 30,
   "id": "7f4f0485-f523-453f-9369-835f8005e717",
   "metadata": {},
   "outputs": [
    {
     "data": {
      "text/plain": [
       "(5, 784, 784, 10)"
      ]
     },
     "execution_count": 30,
     "metadata": {},
     "output_type": "execute_result"
    }
   ],
   "source": [
    "# for matrices a and b\n",
    "ar,ac=m1.shape\n",
    "br,bc=m2.shape\n",
    "ar,ac,br,bc"
   ]
  },
  {
   "cell_type": "code",
   "execution_count": 31,
   "id": "fe5b81f2-1c78-4047-891f-1ff0a366650c",
   "metadata": {},
   "outputs": [],
   "source": [
    "res = torch.zeros(ar,bc)"
   ]
  },
  {
   "cell_type": "code",
   "execution_count": 32,
   "id": "e479ef92-19c4-4971-b96e-57518d9f02a0",
   "metadata": {},
   "outputs": [],
   "source": [
    "for i in range(ar):\n",
    "    for j in range(bc):\n",
    "        for k in range(ac): # ac must == br, so k indexes into cols of a as well as rows of b\n",
    "            res[i,j] += m1[i,k] * m2[k,j] # a contributes to rows of result, b contributes to cols of result"
   ]
  },
  {
   "cell_type": "code",
   "execution_count": 33,
   "id": "c850598f-943f-4ab6-a0f7-84ac2b5ce21d",
   "metadata": {},
   "outputs": [
    {
     "data": {
      "text/plain": [
       "torch.Size([5, 10])"
      ]
     },
     "execution_count": 33,
     "metadata": {},
     "output_type": "execute_result"
    }
   ],
   "source": [
    "res.shape"
   ]
  },
  {
   "cell_type": "code",
   "execution_count": 34,
   "id": "1068ac1b-d98f-413f-bb2c-4fe41602ba24",
   "metadata": {},
   "outputs": [],
   "source": [
    "torch.set_printoptions(precision=2,linewidth=140,sci_mode=False)"
   ]
  },
  {
   "cell_type": "code",
   "execution_count": 35,
   "id": "2ea369d9-c855-4a0c-8ca8-6759f4001b59",
   "metadata": {},
   "outputs": [],
   "source": [
    "def matmul(a, b):\n",
    "    ar,ac=a.shape\n",
    "    br,bc=b.shape\n",
    "    res=torch.zeros(ar,bc)\n",
    "    for i in range(ar):\n",
    "        for j in range(bc):\n",
    "            for k in range(ac): # ac must == br, so k indexes into cols of a as well as rows of b\n",
    "                res[i,j] += m1[i,k] * m2[k,j] # a contributes to rows of result, b contributes to cols of result\n",
    "    return res"
   ]
  },
  {
   "cell_type": "code",
   "execution_count": 36,
   "id": "b703eb28-b185-4402-a016-2cb0002be515",
   "metadata": {},
   "outputs": [
    {
     "name": "stdout",
     "output_type": "stream",
     "text": [
      "CPU times: user 575 ms, sys: 502 µs, total: 576 ms\n",
      "Wall time: 575 ms\n"
     ]
    },
    {
     "data": {
      "text/plain": [
       "tensor([[  2.38,  -2.06,  -4.60,  12.41,   5.56,  -5.69, -10.71,  -1.47,  20.17,   1.06],\n",
       "        [ -5.77,  -0.10,  -3.37,  -1.71,   0.87,  -2.71,  -5.05,  -2.59,  11.72,  -3.89],\n",
       "        [ -7.39,   6.97,  -1.04, -13.09,   8.85,   3.69,  -3.53,   2.07,  17.92,  -0.34],\n",
       "        [  1.91,   0.72,  -0.13,  -4.14,   3.02, -13.71,  -4.29,  -1.45,   7.97,  14.81],\n",
       "        [ -1.91,  19.00,   0.19,  -5.50,   4.77,   0.96,   5.76,  -0.22,  11.18,   2.68]])"
      ]
     },
     "execution_count": 36,
     "metadata": {},
     "output_type": "execute_result"
    }
   ],
   "source": [
    "%time matmul(m1,m2)"
   ]
  },
  {
   "cell_type": "code",
   "execution_count": 37,
   "id": "a7000447-d33d-40ae-b461-adf694256c85",
   "metadata": {},
   "outputs": [
    {
     "name": "stdout",
     "output_type": "stream",
     "text": [
      "Collecting numba\n",
      "  Downloading numba-0.57.1-cp39-cp39-manylinux2014_x86_64.manylinux_2_17_x86_64.whl (3.6 MB)\n",
      "\u001b[2K     \u001b[90m━━━━━━━━━━━━━━━━━━━━━━━━━━━━━━━━━━━━━━━━\u001b[0m \u001b[32m3.6/3.6 MB\u001b[0m \u001b[31m34.8 MB/s\u001b[0m eta \u001b[36m0:00:00\u001b[0ma \u001b[36m0:00:01\u001b[0mm\n",
      "\u001b[?25hCollecting llvmlite<0.41,>=0.40.0dev0\n",
      "  Downloading llvmlite-0.40.1-cp39-cp39-manylinux_2_17_x86_64.manylinux2014_x86_64.whl (42.1 MB)\n",
      "\u001b[2K     \u001b[90m━━━━━━━━━━━━━━━━━━━━━━━━━━━━━━━━━━━━━━━━\u001b[0m \u001b[32m42.1/42.1 MB\u001b[0m \u001b[31m32.0 MB/s\u001b[0m eta \u001b[36m0:00:00\u001b[0m00:01\u001b[0m00:01\u001b[0m\n",
      "\u001b[?25hRequirement already satisfied: numpy<1.25,>=1.21 in /usr/local/lib/python3.9/dist-packages (from numba) (1.23.1)\n",
      "Installing collected packages: llvmlite, numba\n",
      "Successfully installed llvmlite-0.40.1 numba-0.57.1\n",
      "\u001b[33mWARNING: Running pip as the 'root' user can result in broken permissions and conflicting behaviour with the system package manager. It is recommended to use a virtual environment instead: https://pip.pypa.io/warnings/venv\u001b[0m\u001b[33m\n",
      "\u001b[0mNote: you may need to restart the kernel to use updated packages.\n"
     ]
    }
   ],
   "source": [
    "pip install numba"
   ]
  },
  {
   "cell_type": "code",
   "execution_count": 38,
   "id": "e3cf2fb5-7d9d-4121-bc29-e38a3a83b928",
   "metadata": {},
   "outputs": [],
   "source": [
    "from numba import njit\n",
    "@njit\n",
    "def dot(a,b):\n",
    "    res=0.\n",
    "    for i in range(len(a)):\n",
    "        res += a[i] * b[i]\n",
    "    return res"
   ]
  },
  {
   "cell_type": "code",
   "execution_count": 39,
   "id": "5814289d-d1b2-4783-a5af-839f79527bda",
   "metadata": {},
   "outputs": [
    {
     "name": "stdout",
     "output_type": "stream",
     "text": [
      "CPU times: user 596 ms, sys: 276 ms, total: 872 ms\n",
      "Wall time: 452 ms\n"
     ]
    },
    {
     "data": {
      "text/plain": [
       "32.0"
      ]
     },
     "execution_count": 39,
     "metadata": {},
     "output_type": "execute_result"
    }
   ],
   "source": [
    "from numpy import array\n",
    "%time dot(array([1., 2., 3.]), array([4., 5., 6.]))"
   ]
  },
  {
   "cell_type": "code",
   "execution_count": 40,
   "id": "b438205f-685d-49c5-9e54-41bc0f450066",
   "metadata": {},
   "outputs": [
    {
     "name": "stdout",
     "output_type": "stream",
     "text": [
      "CPU times: user 44 µs, sys: 0 ns, total: 44 µs\n",
      "Wall time: 49.8 µs\n"
     ]
    },
    {
     "data": {
      "text/plain": [
       "20.0"
      ]
     },
     "execution_count": 40,
     "metadata": {},
     "output_type": "execute_result"
    }
   ],
   "source": [
    "# second run much faster because function has compiled down into machine code\n",
    "%time dot(array([1., 2., 3.]), array([2.,3,4]))"
   ]
  },
  {
   "cell_type": "code",
   "execution_count": 41,
   "id": "35e618aa-f696-4c7c-abe0-182abfe16590",
   "metadata": {},
   "outputs": [],
   "source": [
    "def matmul(a,b):\n",
    "    (ar,ac),(br,bc) = a.shape,b.shape\n",
    "    c = torch.zeros(ar, bc)\n",
    "    for i in range(ar):\n",
    "        for j in range(bc):\n",
    "            c[i,j] = dot(a[i,:], b[:,j])\n",
    "    return c"
   ]
  },
  {
   "cell_type": "code",
   "execution_count": 42,
   "id": "20919333-d124-4411-b985-086f8ce57047",
   "metadata": {},
   "outputs": [
    {
     "name": "stdout",
     "output_type": "stream",
     "text": [
      "CPU times: user 87.8 ms, sys: 15 µs, total: 87.8 ms\n",
      "Wall time: 88.3 ms\n"
     ]
    },
    {
     "data": {
      "text/plain": [
       "tensor([[  2.38,  -2.06,  -4.60,  12.41,   5.56,  -5.69, -10.71,  -1.47,  20.17,   1.06],\n",
       "        [ -5.77,  -0.10,  -3.37,  -1.71,   0.87,  -2.71,  -5.05,  -2.59,  11.72,  -3.89],\n",
       "        [ -7.39,   6.97,  -1.04, -13.09,   8.85,   3.69,  -3.53,   2.07,  17.92,  -0.34],\n",
       "        [  1.91,   0.72,  -0.13,  -4.14,   3.02, -13.71,  -4.29,  -1.45,   7.97,  14.81],\n",
       "        [ -1.91,  19.00,   0.19,  -5.50,   4.77,   0.96,   5.76,  -0.22,  11.18,   2.68]])"
      ]
     },
     "execution_count": 42,
     "metadata": {},
     "output_type": "execute_result"
    }
   ],
   "source": [
    "m1a,m2a = array(m1),array(m2)\n",
    "%time matmul(m1a,m2a)"
   ]
  },
  {
   "cell_type": "code",
   "execution_count": 43,
   "id": "02b5cbe6-d94a-44d5-82cb-3a2f62a1d9c2",
   "metadata": {},
   "outputs": [
    {
     "data": {
      "text/plain": [
       "tensor([[  2.38,  -2.06,  -4.60,  12.41,   5.56,  -5.69, -10.71,  -1.47,  20.17,   1.06],\n",
       "        [ -5.77,  -0.10,  -3.37,  -1.71,   0.87,  -2.71,  -5.05,  -2.59,  11.72,  -3.89],\n",
       "        [ -7.39,   6.97,  -1.04, -13.09,   8.85,   3.69,  -3.53,   2.07,  17.92,  -0.34],\n",
       "        [  1.91,   0.72,  -0.13,  -4.14,   3.02, -13.71,  -4.29,  -1.45,   7.97,  14.81],\n",
       "        [ -1.91,  19.00,   0.19,  -5.50,   4.77,   0.96,   5.76,  -0.22,  11.18,   2.68]])"
      ]
     },
     "execution_count": 43,
     "metadata": {},
     "output_type": "execute_result"
    }
   ],
   "source": [
    "res"
   ]
  },
  {
   "cell_type": "code",
   "execution_count": 44,
   "id": "20a0ca8a-14c5-461d-9360-9a87bfb6dc57",
   "metadata": {},
   "outputs": [],
   "source": [
    "from fastcore.test import *"
   ]
  },
  {
   "cell_type": "code",
   "execution_count": 45,
   "id": "27bef73d-9022-4ac0-86bf-2da4defd4f27",
   "metadata": {},
   "outputs": [
    {
     "name": "stdout",
     "output_type": "stream",
     "text": [
      "378 µs ± 34.1 µs per loop (mean ± std. dev. of 7 runs, 50 loops each)\n"
     ]
    }
   ],
   "source": [
    "%timeit -n 50 matmul(m1a, m2a)"
   ]
  },
  {
   "cell_type": "markdown",
   "id": "5cc4a25f-dc78-4622-8f19-3e22339bf4f8",
   "metadata": {},
   "source": [
    "# Elementwise ops"
   ]
  },
  {
   "cell_type": "code",
   "execution_count": 46,
   "id": "71b01cab-58d1-49c0-998a-a80eeace63ba",
   "metadata": {},
   "outputs": [
    {
     "data": {
      "text/plain": [
       "tensor(0.67)"
      ]
     },
     "execution_count": 46,
     "metadata": {},
     "output_type": "execute_result"
    }
   ],
   "source": [
    "a=tensor([10., 5, 1])\n",
    "b=tensor([5.,4,3])\n",
    "(a>b).float().mean()"
   ]
  },
  {
   "cell_type": "code",
   "execution_count": 47,
   "id": "4f2c3113-e158-4762-9edb-82ffc1f0e684",
   "metadata": {},
   "outputs": [
    {
     "data": {
      "text/plain": [
       "tensor([[1., 2., 3.],\n",
       "        [4., 5., 6.],\n",
       "        [7., 8., 9.]])"
      ]
     },
     "execution_count": 47,
     "metadata": {},
     "output_type": "execute_result"
    }
   ],
   "source": [
    "m = tensor([[1., 2, 3], [4,5,6], [7,8,9]]); m"
   ]
  },
  {
   "cell_type": "code",
   "execution_count": 48,
   "id": "26a21ee7-614b-47ac-b8ea-054b88e2fc23",
   "metadata": {},
   "outputs": [
    {
     "data": {
      "text/plain": [
       "tensor(16.88)"
      ]
     },
     "execution_count": 48,
     "metadata": {},
     "output_type": "execute_result"
    }
   ],
   "source": [
    "(m*m).sum().sqrt()"
   ]
  },
  {
   "cell_type": "code",
   "execution_count": 49,
   "id": "ab63f62c-5591-4071-80f9-d3c6476a1748",
   "metadata": {},
   "outputs": [],
   "source": [
    "def matmul(a,b):\n",
    "    (ar,ac),(br,bc) = a.shape,b.shape\n",
    "    c = torch.zeros(ar, bc)\n",
    "    for i in range(ar):\n",
    "        for j in range(bc):\n",
    "            c[i, j] = (a[i,:] * b[:,j]).sum()\n",
    "    return c"
   ]
  },
  {
   "cell_type": "code",
   "execution_count": 50,
   "id": "ea043fcc-4352-4fee-bc86-5bf417a70c8a",
   "metadata": {},
   "outputs": [],
   "source": [
    "test_close(res,matmul(m1,m2))"
   ]
  },
  {
   "cell_type": "code",
   "execution_count": 51,
   "id": "d73fd649-93fb-4eb6-82dc-bb7961251cce",
   "metadata": {},
   "outputs": [
    {
     "name": "stdout",
     "output_type": "stream",
     "text": [
      "CPU times: user 3.28 ms, sys: 0 ns, total: 3.28 ms\n",
      "Wall time: 2.94 ms\n"
     ]
    },
    {
     "data": {
      "text/plain": [
       "tensor([[  2.38,  -2.06,  -4.60,  12.41,   5.56,  -5.69, -10.71,  -1.47,  20.17,   1.06],\n",
       "        [ -5.77,  -0.10,  -3.37,  -1.71,   0.87,  -2.71,  -5.05,  -2.59,  11.72,  -3.89],\n",
       "        [ -7.39,   6.97,  -1.04, -13.09,   8.85,   3.69,  -3.53,   2.07,  17.92,  -0.34],\n",
       "        [  1.91,   0.72,  -0.13,  -4.14,   3.02, -13.71,  -4.29,  -1.45,   7.97,  14.81],\n",
       "        [ -1.91,  19.00,   0.19,  -5.50,   4.77,   0.96,   5.76,  -0.22,  11.18,   2.68]])"
      ]
     },
     "execution_count": 51,
     "metadata": {},
     "output_type": "execute_result"
    }
   ],
   "source": [
    "%time matmul(m1, m2)"
   ]
  },
  {
   "cell_type": "code",
   "execution_count": 52,
   "id": "bed77c33-e3b7-45f9-85ad-15c3900b26b0",
   "metadata": {},
   "outputs": [],
   "source": [
    "def matmul(a,b):\n",
    "    (ar,ac),(br,bc) = a.shape,b.shape\n",
    "    c = torch.zeros(ar, bc)\n",
    "    for i in range(ar):\n",
    "        for j in range(bc):\n",
    "            c[i,j] = torch.dot(a[i,:], b[:,j])\n",
    "    return c"
   ]
  },
  {
   "cell_type": "code",
   "execution_count": 53,
   "id": "7e8dc636-3ed2-4b42-ab7f-721a6aabe566",
   "metadata": {},
   "outputs": [],
   "source": [
    "test_close(res,matmul(m1,m2))"
   ]
  },
  {
   "cell_type": "code",
   "execution_count": 54,
   "id": "4851022d-5a70-4537-970a-948dae5c29e8",
   "metadata": {},
   "outputs": [
    {
     "name": "stdout",
     "output_type": "stream",
     "text": [
      "697 µs ± 32.9 µs per loop (mean ± std. dev. of 7 runs, 50 loops each)\n"
     ]
    }
   ],
   "source": [
    "%timeit -n 50 _=matmul(m1, m2)"
   ]
  },
  {
   "cell_type": "markdown",
   "id": "d04fa753-e034-4894-a421-292b0a72e947",
   "metadata": {},
   "source": [
    "## Broadcasting"
   ]
  },
  {
   "cell_type": "code",
   "execution_count": 55,
   "id": "f03c980a-57c8-4cf0-be6a-9fdc5faae5c7",
   "metadata": {},
   "outputs": [
    {
     "data": {
      "text/plain": [
       "torch.Size([3, 10, 10])"
      ]
     },
     "execution_count": 55,
     "metadata": {},
     "output_type": "execute_result"
    }
   ],
   "source": [
    "t1 = torch.randn((3,10,10))\n",
    "t2 = torch.zeros(3)\n",
    "\n",
    "# t1 * t2 is disallowed because don't match:\n",
    "'''\n",
    "t1  3   10  10\n",
    "t2  1   1   3\n",
    "\n",
    "trailing 3 and 10 don't match\n",
    "'''\n",
    "\n",
    "# but unsqueezing onto the end makes it shape (3,1,1)\n",
    "t2=t2.unsqueeze(-1).unsqueeze(-1)\n",
    "(t1*t2).shape"
   ]
  },
  {
   "cell_type": "code",
   "execution_count": 56,
   "id": "58c45afa-56ef-4922-a58c-f67787b64b84",
   "metadata": {},
   "outputs": [
    {
     "data": {
      "text/plain": [
       "torch.Size([3, 10, 10])"
      ]
     },
     "execution_count": 56,
     "metadata": {},
     "output_type": "execute_result"
    }
   ],
   "source": [
    "t1 = torch.randn((3,10,10))\n",
    "t2 = torch.zeros(3,1,1)\n",
    "# allowed because of line up of dims\n",
    "\n",
    "'''\n",
    "t1  3   10  10\n",
    "t2  3   1   1\n",
    "res 3   10  10\n",
    "'''\n",
    "(t1*t2).shape"
   ]
  },
  {
   "cell_type": "code",
   "execution_count": 57,
   "id": "5f1c71dc-40c4-4cfd-b460-5e66aeb62e6a",
   "metadata": {},
   "outputs": [
    {
     "data": {
      "text/plain": [
       "tensor([ True,  True, False])"
      ]
     },
     "execution_count": 57,
     "metadata": {},
     "output_type": "execute_result"
    }
   ],
   "source": [
    "a=tensor([10., 6, -4])\n",
    "a > 0"
   ]
  },
  {
   "cell_type": "code",
   "execution_count": 58,
   "id": "4a88215f-7598-4fca-b2cd-4d0c835f3f01",
   "metadata": {},
   "outputs": [
    {
     "data": {
      "text/plain": [
       "tensor([[1., 2., 3.],\n",
       "        [4., 5., 6.],\n",
       "        [7., 8., 9.]])"
      ]
     },
     "execution_count": 58,
     "metadata": {},
     "output_type": "execute_result"
    }
   ],
   "source": [
    "m"
   ]
  },
  {
   "cell_type": "code",
   "execution_count": 59,
   "id": "b78edf0f-3d4f-4a79-b7c4-7ca99f8c9320",
   "metadata": {},
   "outputs": [
    {
     "data": {
      "text/plain": [
       "tensor([10., 20., 30.])"
      ]
     },
     "execution_count": 59,
     "metadata": {},
     "output_type": "execute_result"
    }
   ],
   "source": [
    "c = tensor([10.,20,30]); c"
   ]
  },
  {
   "cell_type": "code",
   "execution_count": 60,
   "id": "0d4eae92-371d-46b1-b556-b15c1a084d75",
   "metadata": {},
   "outputs": [
    {
     "data": {
      "text/plain": [
       "(tensor([[11., 22., 33.],\n",
       "         [14., 25., 36.],\n",
       "         [17., 28., 39.]]),\n",
       " tensor([[11., 22., 33.],\n",
       "         [14., 25., 36.],\n",
       "         [17., 28., 39.]]))"
      ]
     },
     "execution_count": 60,
     "metadata": {},
     "output_type": "execute_result"
    }
   ],
   "source": [
    "m+c,c+m"
   ]
  },
  {
   "cell_type": "code",
   "execution_count": 61,
   "id": "63736fce-0ec6-4254-8495-1134c4553764",
   "metadata": {},
   "outputs": [
    {
     "data": {
      "text/plain": [
       "( 10.0\n",
       "  20.0\n",
       "  30.0\n",
       " [torch.storage._TypedStorage(dtype=torch.float32, device=cpu) of size 3],\n",
       " torch.Size([3, 3]),\n",
       " (0, 1))"
      ]
     },
     "execution_count": 61,
     "metadata": {},
     "output_type": "execute_result"
    }
   ],
   "source": [
    "# c's rows are stretched to make many duplicate rows\n",
    "'''\n",
    "m   3   3\n",
    "c   1   3\n",
    "r   3   3\n",
    "'''\n",
    "t=c.expand_as(m)\n",
    "t.storage(),t.shape,t.stride() # stride (0,1) because columns are \"real\" and rows are stretched"
   ]
  },
  {
   "cell_type": "code",
   "execution_count": 62,
   "id": "94d8c4e3-b916-406d-8d62-4fd7648de90e",
   "metadata": {},
   "outputs": [
    {
     "data": {
      "text/plain": [
       "(3, 1)"
      ]
     },
     "execution_count": 62,
     "metadata": {},
     "output_type": "execute_result"
    }
   ],
   "source": [
    "'''\n",
    "stride: returns tuple with same num values as the rank of the tensor. Each value is the number of steps to \n",
    "go forward in storage to reach the next element for that dimension. stride of 0 for first dimension of a rank2 tensor\n",
    "is the trick to duplicate rows.\n",
    "'''\n",
    "m.stride()"
   ]
  },
  {
   "cell_type": "code",
   "execution_count": 63,
   "id": "65672b8e-7407-4def-832e-a191cc38ddb6",
   "metadata": {},
   "outputs": [
    {
     "data": {
      "text/plain": [
       "torch.Size([3, 1])"
      ]
     },
     "execution_count": 63,
     "metadata": {},
     "output_type": "execute_result"
    }
   ],
   "source": [
    "v=tensor([[1.], [2.],[3.]])\n",
    "v.shape"
   ]
  },
  {
   "cell_type": "code",
   "execution_count": 64,
   "id": "c1053b2a-b061-40c0-aa38-6d41ca3a85b8",
   "metadata": {},
   "outputs": [
    {
     "data": {
      "text/plain": [
       "torch.Size([3, 3])"
      ]
     },
     "execution_count": 64,
     "metadata": {},
     "output_type": "execute_result"
    }
   ],
   "source": [
    "t2=v.expand_as(m)\n",
    "t2.shape"
   ]
  },
  {
   "cell_type": "code",
   "execution_count": 65,
   "id": "5d5f8e46-d9ff-4c2b-a4c9-c2097bc14fea",
   "metadata": {},
   "outputs": [
    {
     "data": {
      "text/plain": [
       "(1, 0)"
      ]
     },
     "execution_count": 65,
     "metadata": {},
     "output_type": "execute_result"
    }
   ],
   "source": [
    "t2.stride() # value (1,0) because the columns are 'stretched' while the rows are real in storage"
   ]
  },
  {
   "cell_type": "code",
   "execution_count": 66,
   "id": "a162486d-77a4-4953-b29d-a95736233172",
   "metadata": {},
   "outputs": [
    {
     "data": {
      "text/plain": [
       "(torch.Size([1, 3]), torch.Size([1, 3, 1]))"
      ]
     },
     "execution_count": 66,
     "metadata": {},
     "output_type": "execute_result"
    }
   ],
   "source": [
    "c[None,:].shape,c[None,:,None].shape"
   ]
  },
  {
   "cell_type": "code",
   "execution_count": 67,
   "id": "0bcb94d5-6823-42ca-8530-8088d4725570",
   "metadata": {},
   "outputs": [
    {
     "data": {
      "text/plain": [
       "(torch.Size([1, 3]), torch.Size([3, 1]))"
      ]
     },
     "execution_count": 67,
     "metadata": {},
     "output_type": "execute_result"
    }
   ],
   "source": [
    "c.unsqueeze(0).shape,c.unsqueeze(1).shape"
   ]
  },
  {
   "cell_type": "code",
   "execution_count": 68,
   "id": "89f817b7-d51e-475d-89c3-5be64aa537e1",
   "metadata": {},
   "outputs": [
    {
     "data": {
      "text/plain": [
       "torch.Size([1, 3])"
      ]
     },
     "execution_count": 68,
     "metadata": {},
     "output_type": "execute_result"
    }
   ],
   "source": [
    "c[None].shape #1, 3"
   ]
  },
  {
   "cell_type": "code",
   "execution_count": 69,
   "id": "4fb9fdea-57f8-448d-a328-d46e72765297",
   "metadata": {},
   "outputs": [
    {
     "data": {
      "text/plain": [
       "torch.Size([3, 1])"
      ]
     },
     "execution_count": 69,
     "metadata": {},
     "output_type": "execute_result"
    }
   ],
   "source": [
    "c[...,None].shape # 3,1"
   ]
  },
  {
   "cell_type": "code",
   "execution_count": 70,
   "id": "02875bdf-8f83-4420-8003-53e9f1779a90",
   "metadata": {},
   "outputs": [
    {
     "data": {
      "text/plain": [
       "tensor([[10., 20., 30.],\n",
       "        [10., 20., 30.],\n",
       "        [10., 20., 30.]])"
      ]
     },
     "execution_count": 70,
     "metadata": {},
     "output_type": "execute_result"
    }
   ],
   "source": [
    "c.expand_as(m) # three rows of 10, 20, 30"
   ]
  },
  {
   "cell_type": "code",
   "execution_count": 71,
   "id": "e03b54b9-4ab1-41d1-94ea-ee0c0070fb71",
   "metadata": {},
   "outputs": [
    {
     "data": {
      "text/plain": [
       "tensor([[10., 10., 10.],\n",
       "        [20., 20., 20.],\n",
       "        [30., 30., 30.]])"
      ]
     },
     "execution_count": 71,
     "metadata": {},
     "output_type": "execute_result"
    }
   ],
   "source": [
    "c[:,None].expand_as(m) # 1x3 matrix expanded, stretch the rows: a row of 10s, row of 20s, row of 30s"
   ]
  },
  {
   "cell_type": "code",
   "execution_count": 72,
   "id": "04535791-de5a-4869-8be1-874822495b19",
   "metadata": {},
   "outputs": [
    {
     "data": {
      "text/plain": [
       "(tensor([[ 4.,  5.,  6.],\n",
       "         [ 8., 10., 12.],\n",
       "         [12., 15., 18.]]),\n",
       " tensor([[ 4,  5,  6],\n",
       "         [ 8, 10, 12],\n",
       "         [12, 15, 18]]))"
      ]
     },
     "execution_count": 72,
     "metadata": {},
     "output_type": "execute_result"
    }
   ],
   "source": [
    "a=tensor([1,2,3])[:,None]\n",
    "b=tensor([4,5,6])[None]\n",
    "matmul(a,b),a*b # they match"
   ]
  },
  {
   "cell_type": "code",
   "execution_count": 73,
   "id": "35eb97c8-e643-40c6-8b3f-753924af35fa",
   "metadata": {},
   "outputs": [
    {
     "data": {
      "text/plain": [
       "(tensor([[1],\n",
       "         [2],\n",
       "         [3]]),\n",
       " tensor([[4, 5, 6]]),\n",
       " tensor([[1, 1, 1],\n",
       "         [2, 2, 2],\n",
       "         [3, 3, 3]]),\n",
       " tensor([[4, 5, 6],\n",
       "         [4, 5, 6],\n",
       "         [4, 5, 6]]),\n",
       " tensor([[ 4,  5,  6],\n",
       "         [ 8, 10, 12],\n",
       "         [12, 15, 18]]))"
      ]
     },
     "execution_count": 73,
     "metadata": {},
     "output_type": "execute_result"
    }
   ],
   "source": [
    "a,b,a.expand_as(m),b.expand_as(m),a*b"
   ]
  },
  {
   "cell_type": "code",
   "execution_count": 74,
   "id": "319e01ae-463d-499e-9b82-8c770cb87aaf",
   "metadata": {},
   "outputs": [],
   "source": [
    "def matmul(a,b):\n",
    "    (ar,ac),(br,bc) = a.shape,b.shape\n",
    "    c = torch.zeros(ar, bc)\n",
    "    for i in range(ar):\n",
    "        '''\n",
    "        take the a row, imagine rotating it (go from shape (784) to (784,1)) and stretching it across all b's columns then adding up\n",
    "        across rows, collapsing into one row with b's number of columns\n",
    "        '''\n",
    "        c[i] = (a[i, :, None] * b).sum(dim=0)\n",
    "    return c"
   ]
  },
  {
   "cell_type": "code",
   "execution_count": 75,
   "id": "92431bca-e4b4-4801-8798-adc2c4ddf3f9",
   "metadata": {},
   "outputs": [
    {
     "data": {
      "text/plain": [
       "(torch.Size([5, 784]), torch.Size([784, 10]))"
      ]
     },
     "execution_count": 75,
     "metadata": {},
     "output_type": "execute_result"
    }
   ],
   "source": [
    "m1.shape,m2.shape"
   ]
  },
  {
   "cell_type": "code",
   "execution_count": 76,
   "id": "1895cdbb-b004-47a8-8b56-dc677125351b",
   "metadata": {},
   "outputs": [
    {
     "data": {
      "text/plain": [
       "tensor(    0.00)"
      ]
     },
     "execution_count": 76,
     "metadata": {},
     "output_type": "execute_result"
    }
   ],
   "source": [
    "(res-matmul(m1,m2)).abs().sum()"
   ]
  },
  {
   "cell_type": "code",
   "execution_count": 77,
   "id": "5ef08b0c-96f9-49bc-a32c-aebadb100f18",
   "metadata": {},
   "outputs": [
    {
     "name": "stdout",
     "output_type": "stream",
     "text": [
      "142 µs ± 15.9 µs per loop (mean ± std. dev. of 7 runs, 50 loops each)\n"
     ]
    }
   ],
   "source": [
    "%timeit -n 50 matmul(m1,m2)"
   ]
  },
  {
   "cell_type": "code",
   "execution_count": 78,
   "id": "d73c5f7b-8a64-4611-b785-0a928d72d760",
   "metadata": {},
   "outputs": [
    {
     "data": {
      "text/plain": [
       "torch.Size([50000, 10])"
      ]
     },
     "execution_count": 78,
     "metadata": {},
     "output_type": "execute_result"
    }
   ],
   "source": [
    "tr = matmul(x_train, weights)\n",
    "tr.shape"
   ]
  },
  {
   "cell_type": "markdown",
   "id": "9b32f13d-353d-4762-985c-50c83877aa81",
   "metadata": {},
   "source": [
    "## Einsum"
   ]
  },
  {
   "cell_type": "code",
   "execution_count": 79,
   "id": "4cc97ccc-1827-4216-823d-862b952c6b08",
   "metadata": {},
   "outputs": [
    {
     "data": {
      "text/plain": [
       "torch.Size([5, 784, 10])"
      ]
     },
     "execution_count": 79,
     "metadata": {},
     "output_type": "execute_result"
    }
   ],
   "source": [
    "mr=torch.einsum('ik,kj->ikj',m1,m2)\n",
    "mr.shape"
   ]
  },
  {
   "cell_type": "code",
   "execution_count": 80,
   "id": "4b87eefa-48f8-48a4-b30b-0d4a2ff44c8a",
   "metadata": {},
   "outputs": [
    {
     "data": {
      "text/plain": [
       "torch.Size([5, 10])"
      ]
     },
     "execution_count": 80,
     "metadata": {},
     "output_type": "execute_result"
    }
   ],
   "source": [
    "mr.sum(1).shape"
   ]
  },
  {
   "cell_type": "code",
   "execution_count": 81,
   "id": "1bc29bb1-f7cc-4740-8fa6-df50aca9a845",
   "metadata": {},
   "outputs": [],
   "source": [
    "def einsum_matmul(a,b):\n",
    "    return torch.einsum('ij,jk->ik',a,b)"
   ]
  },
  {
   "cell_type": "code",
   "execution_count": 82,
   "id": "35ff028c-adf6-474a-b67e-054c63d9f743",
   "metadata": {},
   "outputs": [
    {
     "data": {
      "text/plain": [
       "(tensor([[ 2.44,  2.05, -0.17,  ..., -0.50,  5.53, -5.42],\n",
       "         [-5.40,  9.82, -2.36,  ...,  5.28,  4.40, -5.51],\n",
       "         [-0.75, -8.57,  4.41,  ..., 11.88,  7.07, 11.36],\n",
       "         ...,\n",
       "         [ 2.85,  8.57, -2.30,  ..., -0.06, 10.21, -6.16],\n",
       "         [ 4.07,  0.60, 10.42,  ...,  2.49, 11.24,  2.79],\n",
       "         [-1.25,  0.15, -5.39,  ..., -6.54,  6.52, -6.71]]),\n",
       " tensor([[ 2.44,  2.05, -0.17,  ..., -0.50,  5.53, -5.42],\n",
       "         [-5.40,  9.82, -2.36,  ...,  5.28,  4.40, -5.51],\n",
       "         [-0.75, -8.57,  4.41,  ..., 11.88,  7.07, 11.36],\n",
       "         ...,\n",
       "         [ 2.85,  8.57, -2.30,  ..., -0.06, 10.21, -6.16],\n",
       "         [ 4.07,  0.60, 10.42,  ...,  2.49, 11.24,  2.79],\n",
       "         [-1.25,  0.15, -5.39,  ..., -6.54,  6.52, -6.71]]))"
      ]
     },
     "execution_count": 82,
     "metadata": {},
     "output_type": "execute_result"
    }
   ],
   "source": [
    "z=einsum_matmul(x_train,weights)\n",
    "z,tr"
   ]
  },
  {
   "cell_type": "markdown",
   "id": "f9470489-10e6-4c0a-9495-f762b1a26105",
   "metadata": {},
   "source": [
    "### l2 norms with einsum"
   ]
  },
  {
   "cell_type": "code",
   "execution_count": 119,
   "id": "2cd8484c-94ac-4d98-a62d-19022dfa196f",
   "metadata": {},
   "outputs": [
    {
     "data": {
      "text/plain": [
       "tensor([1.00, 3.61, 1.41])"
      ]
     },
     "execution_count": 119,
     "metadata": {},
     "output_type": "execute_result"
    }
   ],
   "source": [
    "x=torch.tensor([0,0])\n",
    "X=torch.tensor([[0,1], [2,3], [1,1]])\n",
    "d=X-x\n",
    "torch.einsum('ij,ij->i',d,d).sqrt()"
   ]
  },
  {
   "cell_type": "markdown",
   "id": "26f7abec-5e7c-454a-add8-471f4d0130f5",
   "metadata": {},
   "source": [
    "## Cuda"
   ]
  },
  {
   "cell_type": "code",
   "execution_count": 84,
   "id": "1795a251-6d44-4a44-8543-ad184bfdd638",
   "metadata": {},
   "outputs": [],
   "source": [
    "# make it parallelizable. only fill in the cell in res described by coord\n",
    "def para_matmul(coord, a, b, res):\n",
    "    i,j=coord\n",
    "    if i < res.shape[0] and j < res.shape[1]:\n",
    "        res[i,j] = (a[i] * b[:,j]).sum()"
   ]
  },
  {
   "cell_type": "code",
   "execution_count": 85,
   "id": "1621ac4a-cd17-4ea2-8820-5982d7025532",
   "metadata": {},
   "outputs": [
    {
     "data": {
      "text/plain": [
       "(tensor([[ 2.44,  2.05, -0.17,  ..., -0.50,  5.53, -5.42],\n",
       "         [-5.40,  9.82, -2.36,  ...,  5.28,  4.40, -5.51],\n",
       "         [-0.75, -8.57,  4.41,  ..., 11.88,  7.07, 11.36],\n",
       "         ...,\n",
       "         [ 2.85,  8.57, -2.30,  ..., -0.06, 10.21, -6.16],\n",
       "         [ 4.07,  0.60, 10.42,  ...,  2.49, 11.24,  2.79],\n",
       "         [-1.25,  0.15, -5.39,  ..., -6.54,  6.52, -6.71]]),\n",
       " tensor([[2.44, 0.00, 0.00, 0.00, 0.00, 0.00, 0.00, 0.00, 0.00, 0.00],\n",
       "         [0.00, 0.00, 0.00, 0.00, 0.00, 0.00, 0.00, 0.00, 0.00, 0.00],\n",
       "         [0.00, 0.00, 0.00, 0.00, 0.00, 0.00, 0.00, 0.00, 0.00, 0.00],\n",
       "         [0.00, 0.00, 0.00, 0.00, 0.00, 0.00, 0.00, 0.00, 0.00, 0.00],\n",
       "         [0.00, 0.00, 0.00, 0.00, 0.00, 0.00, 0.00, 0.00, 0.00, 0.00]]))"
      ]
     },
     "execution_count": 85,
     "metadata": {},
     "output_type": "execute_result"
    }
   ],
   "source": [
    "res=torch.zeros(ar,bc)\n",
    "para_matmul((0,0), x_train, weights, res)\n",
    "z,res"
   ]
  },
  {
   "cell_type": "code",
   "execution_count": 86,
   "id": "c4288ce1-af7c-4e60-bccc-114f6ac1f0d4",
   "metadata": {},
   "outputs": [],
   "source": [
    "def launch_kernel(kernel, xdim, ydim, *args, **kwargs):\n",
    "    for i in range(xdim):\n",
    "        for j in range(ydim):\n",
    "            kernel((i,j), *args, **kwargs)"
   ]
  },
  {
   "cell_type": "code",
   "execution_count": 87,
   "id": "83f8902c-efd6-447f-a193-44a378a8e515",
   "metadata": {},
   "outputs": [],
   "source": [
    "ar=x_train.shape[0]\n",
    "bc=weights.shape[1]"
   ]
  },
  {
   "cell_type": "code",
   "execution_count": 88,
   "id": "5d598967-1a68-49d7-a675-500b06dfb589",
   "metadata": {},
   "outputs": [
    {
     "data": {
      "text/plain": [
       "(50000, 10, torch.Size([50000, 784]), torch.Size([784, 10]))"
      ]
     },
     "execution_count": 88,
     "metadata": {},
     "output_type": "execute_result"
    }
   ],
   "source": [
    "ar,bc,x_train.shape,weights.shape"
   ]
  },
  {
   "cell_type": "code",
   "execution_count": 89,
   "id": "a8b5fcf9-d145-4cbe-9da5-9688a8bf3dfe",
   "metadata": {},
   "outputs": [
    {
     "data": {
      "text/plain": [
       "tensor([[ 2.44,  2.05, -0.17,  ..., -0.50,  5.53, -5.42],\n",
       "        [-5.40,  9.82, -2.36,  ...,  5.28,  4.40, -5.51],\n",
       "        [-0.75, -8.57,  4.41,  ..., 11.88,  7.07, 11.36],\n",
       "        ...,\n",
       "        [ 2.85,  8.57, -2.30,  ..., -0.06, 10.21, -6.16],\n",
       "        [ 4.07,  0.60, 10.42,  ...,  2.49, 11.24,  2.79],\n",
       "        [-1.25,  0.15, -5.39,  ..., -6.54,  6.52, -6.71]])"
      ]
     },
     "execution_count": 89,
     "metadata": {},
     "output_type": "execute_result"
    }
   ],
   "source": [
    "res=torch.zeros(ar,bc)\n",
    "launch_kernel(para_matmul, ar, bc, x_train, weights, res)\n",
    "res"
   ]
  },
  {
   "cell_type": "code",
   "execution_count": 90,
   "id": "f8d6084d-c5c8-4e18-ae52-459c9a81c270",
   "metadata": {},
   "outputs": [],
   "source": [
    "test_close(z,res,eps=1.03)"
   ]
  },
  {
   "cell_type": "code",
   "execution_count": 91,
   "id": "f1ae0f72-25d5-4be2-bb0b-a3ecb51e0c86",
   "metadata": {},
   "outputs": [],
   "source": [
    "# now start putting it on cuda\n",
    "from numba import cuda\n",
    "@cuda.jit\n",
    "def matmul(a,b,res):\n",
    "    i,j = cuda.grid(2)\n",
    "    if i < a.shape[0] and j < b.shape[1]:\n",
    "        #res[i,j] = (a[i] * b[:,j]).sum()\n",
    "        tmp = 0.\n",
    "        for k in range(a.shape[1]):\n",
    "            tmp += a[i,k] * b[k,j]\n",
    "        res[i,j] = tmp\n",
    "            "
   ]
  },
  {
   "cell_type": "code",
   "execution_count": 92,
   "id": "7c3c0335-bb24-44ed-84e8-1a2de7e4b8b6",
   "metadata": {},
   "outputs": [
    {
     "ename": "NameError",
     "evalue": "name 'r' is not defined",
     "output_type": "error",
     "traceback": [
      "\u001b[0;31m---------------------------------------------------------------------------\u001b[0m",
      "\u001b[0;31mNameError\u001b[0m                                 Traceback (most recent call last)",
      "Input \u001b[0;32mIn [92]\u001b[0m, in \u001b[0;36m<cell line: 3>\u001b[0;34m()\u001b[0m\n\u001b[1;32m      1\u001b[0m res\u001b[38;5;241m=\u001b[39mtorch\u001b[38;5;241m.\u001b[39mzeros(ar,bc)\n\u001b[1;32m      2\u001b[0m TPB\u001b[38;5;241m=\u001b[39m\u001b[38;5;241m16\u001b[39m\n\u001b[0;32m----> 3\u001b[0m resr,resc\u001b[38;5;241m=\u001b[39m\u001b[43mr\u001b[49m\u001b[38;5;241m.\u001b[39mshape\n\u001b[1;32m      4\u001b[0m blockspergrid\u001b[38;5;241m=\u001b[39m(math\u001b[38;5;241m.\u001b[39mceil(resr \u001b[38;5;241m/\u001b[39m TPB), math\u001b[38;5;241m.\u001b[39mceil(resc \u001b[38;5;241m/\u001b[39m TPB))\n\u001b[1;32m      5\u001b[0m blockspergrid\n",
      "\u001b[0;31mNameError\u001b[0m: name 'r' is not defined"
     ]
    }
   ],
   "source": [
    "res=torch.zeros(ar,bc)\n",
    "TPB=16\n",
    "resr,resc=r.shape\n",
    "blockspergrid=(math.ceil(resr / TPB), math.ceil(resc / TPB))\n",
    "blockspergrid"
   ]
  },
  {
   "cell_type": "code",
   "execution_count": null,
   "id": "600b8c21-3a08-4a26-a94a-86744724cf67",
   "metadata": {},
   "outputs": [],
   "source": [
    "x_train_g,weights_g,res_g = map(cuda.to_device, (x_train, weights, res))\n",
    "matmul[blockspergrid, (TPB, TPB)](x_train_g, weights_g, res_g)\n",
    "res = res_g.copy_to_host()\n",
    "res"
   ]
  },
  {
   "cell_type": "code",
   "execution_count": null,
   "id": "ff84c3e5-b732-4bf1-adb4-63e4f86a7517",
   "metadata": {},
   "outputs": [],
   "source": [
    "test_close(z,res,eps=1e-4)"
   ]
  },
  {
   "cell_type": "code",
   "execution_count": null,
   "id": "4a04bad0-69fe-4fd1-9b31-3abf5e8f22c7",
   "metadata": {},
   "outputs": [],
   "source": [
    "%%timeit -n 50\n",
    "matmul[blockspergrid, (TPB, TPB)](x_train_g, weights_g, res_g)\n",
    "res_g.copy_to_host()"
   ]
  },
  {
   "cell_type": "code",
   "execution_count": null,
   "id": "1ee1cf21-886d-41aa-9278-d56b85ab45ae",
   "metadata": {},
   "outputs": [],
   "source": [
    "a,b = x_train.cuda(), weights.cuda()"
   ]
  },
  {
   "cell_type": "code",
   "execution_count": null,
   "id": "f88a979c-9c7c-422c-9135-bfb78ff25a7f",
   "metadata": {},
   "outputs": [],
   "source": [
    "%timeit -n 50 r=(a @ b).cpu()"
   ]
  }
 ],
 "metadata": {
  "kernelspec": {
   "display_name": "Python 3 (ipykernel)",
   "language": "python",
   "name": "python3"
  },
  "language_info": {
   "codemirror_mode": {
    "name": "ipython",
    "version": 3
   },
   "file_extension": ".py",
   "mimetype": "text/x-python",
   "name": "python",
   "nbconvert_exporter": "python",
   "pygments_lexer": "ipython3",
   "version": "3.9.13"
  }
 },
 "nbformat": 4,
 "nbformat_minor": 5
}
