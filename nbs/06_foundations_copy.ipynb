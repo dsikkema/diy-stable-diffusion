{
 "cells": [
  {
   "cell_type": "code",
   "execution_count": 1,
   "id": "604ea29f-6a01-4290-85db-202ec3211600",
   "metadata": {},
   "outputs": [],
   "source": [
    "import torch\n",
    "import matplotlib.pyplot as plt\n",
    "import random"
   ]
  },
  {
   "cell_type": "code",
   "execution_count": 2,
   "id": "a93b3bb6-73f6-47ba-bf7f-7258301000ce",
   "metadata": {},
   "outputs": [],
   "source": [
    "import ipywidgets as widgets"
   ]
  },
  {
   "cell_type": "code",
   "execution_count": 3,
   "id": "6d16837e-83d7-48d4-a239-5ca44b636d19",
   "metadata": {},
   "outputs": [],
   "source": [
    "w = widgets.Button(description = 'Click me')"
   ]
  },
  {
   "cell_type": "code",
   "execution_count": 4,
   "id": "f0189f79-9aaa-47f2-a92d-a8ada6b5c922",
   "metadata": {},
   "outputs": [
    {
     "data": {
      "application/vnd.jupyter.widget-view+json": {
       "model_id": "28c5ce7bbf15481e8f6a8e5cc1e953eb",
       "version_major": 2,
       "version_minor": 0
      },
      "text/plain": [
       "Button(description='Click me', style=ButtonStyle())"
      ]
     },
     "metadata": {},
     "output_type": "display_data"
    }
   ],
   "source": [
    "w"
   ]
  },
  {
   "cell_type": "markdown",
   "id": "b2d68332-ec17-4afb-910f-1c41d8f99a60",
   "metadata": {},
   "source": [
    "## args and kwargs"
   ]
  },
  {
   "cell_type": "code",
   "execution_count": 1,
   "id": "1f21f30e-415a-4ad6-bd5f-cb44b5945f23",
   "metadata": {},
   "outputs": [],
   "source": [
    "def f(*a, **b):\n",
    "    print(f'args: {a}, kwargs: {b}')"
   ]
  },
  {
   "cell_type": "code",
   "execution_count": 2,
   "id": "cb27151b-d573-43a3-be0e-2fef02ff24f8",
   "metadata": {},
   "outputs": [
    {
     "name": "stdout",
     "output_type": "stream",
     "text": [
      "args: (3, 'a'), kwargs: {'thing1': 'hello'}\n"
     ]
    }
   ],
   "source": [
    "f(3, 'a', thing1='hello')"
   ]
  },
  {
   "cell_type": "code",
   "execution_count": 3,
   "id": "8a9359c4-e285-42dd-ada7-50c51fc0bb85",
   "metadata": {},
   "outputs": [],
   "source": [
    "def g(a, b, c='C'):\n",
    "    print(f'a - {a}, b - {b}, c - {c}')\n"
   ]
  },
  {
   "cell_type": "code",
   "execution_count": 4,
   "id": "09d5e28d-a8fb-4b22-959a-3dfd4ace0f1b",
   "metadata": {},
   "outputs": [
    {
     "name": "stdout",
     "output_type": "stream",
     "text": [
      "a - A, b - B, c - CC\n"
     ]
    }
   ],
   "source": [
    "args = ['A', 'B']\n",
    "kwargs= {'c': 'CC'}\n",
    "g(*args, **kwargs)"
   ]
  },
  {
   "cell_type": "markdown",
   "id": "724f7ec7-64b9-4904-b94f-56e180f14fd6",
   "metadata": {},
   "source": [
    "## getattr"
   ]
  },
  {
   "cell_type": "code",
   "execution_count": 12,
   "id": "3613914b-af8e-44c3-acb2-8fb70c023027",
   "metadata": {},
   "outputs": [],
   "source": [
    "from time import sleep"
   ]
  },
  {
   "cell_type": "code",
   "execution_count": 14,
   "id": "22545065-dcab-4cf6-a93f-ba32e2e83ad8",
   "metadata": {},
   "outputs": [],
   "source": [
    "class SlowCalculator():\n",
    "    def __init__(self, cb=None):\n",
    "        self.cb = cb\n",
    "        self.res = 0\n",
    "    def callback(self, cb_name, *args):\n",
    "        if not self.cb:\n",
    "            return\n",
    "        cb_func = getattr(self.cb, cb_name, None)\n",
    "        if cb_func is not None:\n",
    "            return cb_func(self, *args)\n",
    "    \n",
    "    def calc(self):\n",
    "        for i in range(5):\n",
    "            self.callback('before', i)\n",
    "            self.res += i*i\n",
    "            sleep(1)\n",
    "            if self.callback('after', i):\n",
    "                print('stop')\n",
    "                break"
   ]
  },
  {
   "cell_type": "code",
   "execution_count": 20,
   "id": "8a152f19-f4c7-44f7-a96b-06528228ac27",
   "metadata": {},
   "outputs": [],
   "source": [
    "class ModifyingCallback():\n",
    "    def after(self, calc, epoch):\n",
    "        print(f'after {epoch}: {calc.res}')\n",
    "        if calc.res>10:\n",
    "            return True\n",
    "        elif calc.res < 3:\n",
    "            calc.res = calc.res*2"
   ]
  },
  {
   "cell_type": "code",
   "execution_count": 22,
   "id": "70392581-cc0c-403c-9f4e-448dbf6393e0",
   "metadata": {},
   "outputs": [],
   "source": [
    "calc = SlowCalculator(ModifyingCallback())"
   ]
  },
  {
   "cell_type": "code",
   "execution_count": 23,
   "id": "95f5b723-8e0b-4d31-a233-454782b95e9a",
   "metadata": {},
   "outputs": [
    {
     "name": "stdout",
     "output_type": "stream",
     "text": [
      "after 0: 0\n",
      "after 1: 1\n",
      "after 2: 6\n",
      "after 3: 15\n",
      "stop\n"
     ]
    },
    {
     "data": {
      "text/plain": [
       "15"
      ]
     },
     "execution_count": 23,
     "metadata": {},
     "output_type": "execute_result"
    }
   ],
   "source": [
    "calc.calc()\n",
    "calc.res"
   ]
  },
  {
   "cell_type": "code",
   "execution_count": 29,
   "id": "a40e8c48-ce10-47ee-b949-6795d158bf6d",
   "metadata": {},
   "outputs": [
    {
     "name": "stdout",
     "output_type": "stream",
     "text": [
      "a\n",
      "b\n"
     ]
    },
    {
     "ename": "AttributeError",
     "evalue": "'house' object has no attribute 'b'",
     "output_type": "error",
     "traceback": [
      "\u001b[0;31m---------------------------------------------------------------------------\u001b[0m",
      "\u001b[0;31mAttributeError\u001b[0m                            Traceback (most recent call last)",
      "Input \u001b[0;32mIn [29]\u001b[0m, in \u001b[0;36m<cell line: 13>\u001b[0;34m()\u001b[0m\n\u001b[1;32m     10\u001b[0m h2 \u001b[38;5;241m=\u001b[39m house()\n\u001b[1;32m     12\u001b[0m h1\u001b[38;5;241m.\u001b[39ma(),h2\u001b[38;5;241m.\u001b[39mb()\n\u001b[0;32m---> 13\u001b[0m \u001b[43mh1\u001b[49m\u001b[38;5;241;43m.\u001b[39;49m\u001b[43mb\u001b[49m()\n",
      "\u001b[0;31mAttributeError\u001b[0m: 'house' object has no attribute 'b'"
     ]
    }
   ],
   "source": [
    "class house():\n",
    "    def a(self):\n",
    "        print('a')\n",
    "h1 = house()\n",
    "\n",
    "\n",
    "class house():\n",
    "    def b(self):\n",
    "        print('b')\n",
    "h2 = house()\n",
    "\n",
    "h1.a(),h2.b()"
   ]
  },
  {
   "cell_type": "code",
   "execution_count": 37,
   "id": "db6b620d-49d0-473e-8001-beb613b3d10d",
   "metadata": {},
   "outputs": [],
   "source": [
    "class manicnum():\n",
    "    def __init__(self, num):\n",
    "        self.num = num\n",
    "    def __add__(self, b):\n",
    "        return manicnum(self.num + b.num + 1e10)\n",
    "    def __repr__(self):\n",
    "        return str(self.num)"
   ]
  },
  {
   "cell_type": "code",
   "execution_count": 38,
   "id": "46e2e4f4-c9f1-4621-9e51-2d98efb99782",
   "metadata": {},
   "outputs": [
    {
     "data": {
      "text/plain": [
       "10000000003.0"
      ]
     },
     "execution_count": 38,
     "metadata": {},
     "output_type": "execute_result"
    }
   ],
   "source": [
    "a = manicnum(1)\n",
    "b = manicnum(2)\n",
    "a+b"
   ]
  },
  {
   "cell_type": "code",
   "execution_count": null,
   "id": "44010a27-588a-4cb3-9cf1-744b6e4967ad",
   "metadata": {},
   "outputs": [],
   "source": []
  }
 ],
 "metadata": {
  "kernelspec": {
   "display_name": "Python 3 (ipykernel)",
   "language": "python",
   "name": "python3"
  },
  "language_info": {
   "codemirror_mode": {
    "name": "ipython",
    "version": 3
   },
   "file_extension": ".py",
   "mimetype": "text/x-python",
   "name": "python",
   "nbconvert_exporter": "python",
   "pygments_lexer": "ipython3",
   "version": "3.9.13"
  }
 },
 "nbformat": 4,
 "nbformat_minor": 5
}
