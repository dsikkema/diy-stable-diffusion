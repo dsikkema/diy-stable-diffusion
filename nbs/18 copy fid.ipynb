{
 "cells": [
  {
   "cell_type": "code",
   "execution_count": 1,
   "id": "6d1cdb86-42c0-43b7-a39a-24e7e5e35bad",
   "metadata": {},
   "outputs": [],
   "source": [
    "#| default_exp fid"
   ]
  },
  {
   "cell_type": "code",
   "execution_count": 2,
   "id": "49253ece-6179-4002-ab60-a5c804af7eeb",
   "metadata": {},
   "outputs": [],
   "source": [
    "#|export\n",
    "import pickle,gzip,math,os,time,shutil,torch,random\n",
    "import fastcore.all as fc,matplotlib as mpl,numpy as np,matplotlib.pyplot as plt\n",
    "from collections.abc import Mapping\n",
    "from pathlib import Path\n",
    "from operator import attrgetter,itemgetter\n",
    "from functools import partial\n",
    "from copy import copy\n",
    "from contextlib import contextmanager\n",
    "from scipy import linalg\n",
    "\n",
    "from fastcore.foundation import L\n",
    "import torchvision.transforms.functional as TF,torch.nn.functional as F\n",
    "from torch import tensor,nn,optim\n",
    "from torch.utils.data import DataLoader,default_collate\n",
    "from torch.nn import init\n",
    "from torch.optim import lr_scheduler\n",
    "from torcheval.metrics import MulticlassAccuracy\n",
    "from datasets import load_dataset,load_dataset_builder\n",
    "\n",
    "from diy_stable_diffusion.datasets import *\n",
    "from diy_stable_diffusion.conv import *\n",
    "from diy_stable_diffusion.learner import *\n",
    "from diy_stable_diffusion.activations import *\n",
    "from diy_stable_diffusion.init import *\n",
    "from diy_stable_diffusion.sgd import *\n",
    "from diy_stable_diffusion.resnet import *\n",
    "from diy_stable_diffusion.augment import *\n",
    "from diy_stable_diffusion.accel import *"
   ]
  },
  {
   "cell_type": "code",
   "execution_count": 3,
   "id": "eb031171-8a36-4e29-b5a0-b4c18f2ac5db",
   "metadata": {},
   "outputs": [],
   "source": [
    "from fastcore.test import test_close\n",
    "from torch import distributions\n",
    "\n",
    "torch.set_printoptions(precision=2, linewidth=140, sci_mode=False)\n",
    "torch.manual_seed(1)\n",
    "mpl.rcParams['image.cmap'] = 'gray_r'\n",
    "\n",
    "import logging\n",
    "logging.disable(logging.WARNING)\n",
    "\n",
    "set_seed(42)\n",
    "if fc.defaults.cpus>8: fc.defaults.cpus=8"
   ]
  },
  {
   "cell_type": "code",
   "execution_count": 4,
   "id": "0593671b-9dbb-463e-82d8-274b95af3d63",
   "metadata": {},
   "outputs": [
    {
     "data": {
      "application/vnd.jupyter.widget-view+json": {
       "model_id": "d07372125be44fadb0e70ba867c4bafb",
       "version_major": 2,
       "version_minor": 0
      },
      "text/plain": [
       "  0%|          | 0/2 [00:00<?, ?it/s]"
      ]
     },
     "metadata": {},
     "output_type": "display_data"
    }
   ],
   "source": [
    "xl,yl = 'image','label'\n",
    "name = \"fashion_mnist\"\n",
    "bs = 512\n",
    "\n",
    "@inplace\n",
    "def transformi(b): b[xl] = [F.pad(TF.to_tensor(o), (2,2,2,2))*2-1 for o in b[xl]]\n",
    "\n",
    "dsd = load_dataset(name)\n",
    "tds = dsd.with_transform(transformi)\n",
    "dls = DataLoaders.from_dd(tds, bs, num_workers=fc.defaults.cpus)"
   ]
  },
  {
   "cell_type": "code",
   "execution_count": 5,
   "id": "ea1e486e-7e7e-4d65-929a-a68ca2581f6d",
   "metadata": {},
   "outputs": [],
   "source": [
    "xb,yb = next(iter(dls.train))"
   ]
  },
  {
   "cell_type": "code",
   "execution_count": 6,
   "id": "22d73b1e-1913-4da0-b387-c34edc11dc02",
   "metadata": {},
   "outputs": [],
   "source": [
    "cbs =  [DeviceCB(), MixedPrecision()]\n",
    "model=torch.load('../../p2/nbs/models/data_aug2.pkl')\n",
    "learn = Learner(model, dls, F.cross_entropy, cbs=cbs, opt_func=None)"
   ]
  },
  {
   "cell_type": "code",
   "execution_count": 7,
   "id": "9be2fbbb-8a0f-4bb5-872e-cb5e01afa9a3",
   "metadata": {},
   "outputs": [],
   "source": [
    "def append_outp(hook, mod, inp, outp):\n",
    "    if not hasattr(hook, 'outp'):\n",
    "        hook.outp = []\n",
    "    \n",
    "    if type(outp) is torch.Tensor:\n",
    "        hook.outp.append(to_cpu(outp))"
   ]
  },
  {
   "cell_type": "code",
   "execution_count": 8,
   "id": "b9d947fb-938f-42d2-ad7d-f3a3282f4ed3",
   "metadata": {},
   "outputs": [
    {
     "data": {
      "text/plain": [
       "torch.Size([64, 512])"
      ]
     },
     "execution_count": 8,
     "metadata": {},
     "output_type": "execute_result"
    }
   ],
   "source": [
    "'''\n",
    "Capture a different index than Jeremy's notebook does because this\n",
    "saved model of mine has a bunch of extra layers his doesn't, I added\n",
    "a bunch of dropout layers.\n",
    "'''\n",
    "hcb = HooksCallback(append_outp, mods=[learn.model[6]], on_valid=True)\n",
    "\n",
    "learn.fit(1, do_train=False, do_validate=True, cbs=[hcb])\n",
    "\n",
    "feats = hcb.hooks[0].outp[0].float()[:64]\n",
    "feats.shape"
   ]
  },
  {
   "cell_type": "code",
   "execution_count": 9,
   "id": "0bc12bdf-678b-4276-9a7a-63f7f4be10ad",
   "metadata": {},
   "outputs": [],
   "source": [
    "del(learn.model[8])\n",
    "del(learn.model[7])"
   ]
  },
  {
   "cell_type": "code",
   "execution_count": 10,
   "id": "8945148c-545f-4abc-bb7e-b9564aa9ef6f",
   "metadata": {},
   "outputs": [
    {
     "data": {
      "text/plain": [
       "(torch.Size([10000, 512]), tensor([9., 2., 1.,  ..., 8., 1., 5.]))"
      ]
     },
     "execution_count": 10,
     "metadata": {},
     "output_type": "execute_result"
    }
   ],
   "source": [
    "feats,y=learn.capture_preds()\n",
    "feats = feats.float()\n",
    "feats.shape,y"
   ]
  },
  {
   "cell_type": "markdown",
   "id": "71da10be-0722-4298-a164-524e92a3ef35",
   "metadata": {},
   "source": [
    "# Calculating FID\n",
    "\n",
    "Copy over backward pass (sample) code from Jeremy's notebook just to \n",
    "get to the point of calculating FID, since I'm handwriting the sample functions\n",
    "in other notebooks and FID is the important part of this lesson"
   ]
  },
  {
   "cell_type": "code",
   "execution_count": 11,
   "id": "6c25955d-9fee-4ce6-9d5d-609b4d16ab85",
   "metadata": {},
   "outputs": [],
   "source": [
    "betamin, betamax, n_steps = 0.0001, 0.02, 1000\n",
    "beta = torch.linspace(betamin, betamax, n_steps)\n",
    "alpha = 1.0 - beta\n",
    "alphabar = alpha.cumprod(dim=0)\n",
    "sigma=beta.sqrt()"
   ]
  },
  {
   "cell_type": "code",
   "execution_count": 12,
   "id": "a6b8bcb0-be5a-45cb-9fae-77973a7f326d",
   "metadata": {},
   "outputs": [],
   "source": [
    "from diffusers import UNet2DModel\n",
    "\n",
    "class UNet(UNet2DModel):\n",
    "    def forward(self, x):\n",
    "        return super().forward(*x).sample\n"
   ]
  },
  {
   "cell_type": "code",
   "execution_count": 13,
   "id": "01288a3d-93cd-4c15-8eec-ab09f10c878f",
   "metadata": {},
   "outputs": [],
   "source": [
    "smodel=torch.load('models/2024-01-12-fashion_ddpm3_25_jfshfioa.pkl').cuda()"
   ]
  },
  {
   "cell_type": "code",
   "execution_count": 14,
   "id": "3e8fafb9-6b55-4d55-a6df-6a7dcc760fe9",
   "metadata": {},
   "outputs": [],
   "source": [
    "smodel_jeremy=torch.load('../../p2/nbs/models/fashion_ddpm_mp.pkl').cuda()"
   ]
  },
  {
   "cell_type": "code",
   "execution_count": 15,
   "id": "2b48b8cb-d0c7-483d-a361-707fd31c4d7d",
   "metadata": {},
   "outputs": [],
   "source": [
    "@torch.no_grad()\n",
    "def sample(model, sz, alpha, alphabar, sigma, n_steps):\n",
    "    device = next(model.parameters()).device\n",
    "    x_t = torch.randn(sz, device=device)\n",
    "    preds = []\n",
    "    for t in reversed(range(n_steps)):\n",
    "        t_batch = torch.full((x_t.shape[0],), t, device=device, dtype=torch.long)\n",
    "        z = (torch.randn(x_t.shape) if t > 0 else torch.zeros(x_t.shape)).to(device)\n",
    "        ᾱ_t1 = alphabar[t-1]  if t > 0 else torch.tensor(1)\n",
    "        b̄_t = 1 - alphabar[t]\n",
    "        b̄_t1 = 1 - ᾱ_t1\n",
    "        x_0_hat = ((x_t - b̄_t.sqrt() * model((x_t, t_batch)))/alphabar[t].sqrt())\n",
    "        x_t = x_0_hat * ᾱ_t1.sqrt()*(1-alpha[t])/b̄_t + x_t * alpha[t].sqrt()*b̄_t1/b̄_t + sigma[t]*z\n",
    "        preds.append(x_0_hat.cpu())\n",
    "    return preds"
   ]
  },
  {
   "cell_type": "code",
   "execution_count": 16,
   "id": "6d3fb178-1c4a-44ba-a621-96dcbef1a2a4",
   "metadata": {},
   "outputs": [],
   "source": [
    "samples=sample(smodel, (256, 1, 32, 32), alpha, alphabar, sigma, n_steps)"
   ]
  },
  {
   "cell_type": "code",
   "execution_count": 18,
   "id": "81de387c-bcee-4c3c-bd86-21ea89c00cb6",
   "metadata": {},
   "outputs": [],
   "source": [
    "samples = samples[-1] * 2"
   ]
  },
  {
   "cell_type": "code",
   "execution_count": 19,
   "id": "5aedfab8-6872-4f12-b46a-7d1f25ec294c",
   "metadata": {},
   "outputs": [
    {
     "data": {
      "text/plain": [
       "(tensor(-0.61), tensor(-1.06), tensor(1.39), tensor(-1.00))"
      ]
     },
     "execution_count": 19,
     "metadata": {},
     "output_type": "execute_result"
    }
   ],
   "source": [
    "# From my model\n",
    "samples.mean(),samples.min(), samples.max(), samples.median()"
   ]
  },
  {
   "cell_type": "code",
   "execution_count": 22,
   "id": "96ec03a8-02b5-4945-b1ec-d231b9625da0",
   "metadata": {},
   "outputs": [
    {
     "data": {
      "image/png": "[encoded data removed]",
      "text/plain": [
       "<Figure size 540x540 with 25 Axes>"
      ]
     },
     "metadata": {},
     "output_type": "display_data"
    }
   ],
   "source": [
    "# 2024-01-12-fashion_ddpm3_25_jfshfioa.pkl\n",
    "show_images(samples[:25], imsize=1.5)"
   ]
  },
  {
   "cell_type": "code",
   "execution_count": 21,
   "id": "1b7ca4a6-57a7-471a-878e-e50cc5193e0d",
   "metadata": {},
   "outputs": [],
   "source": [
    "clearn = TrainLearner(model, DataLoaders([], [(samples, yb)]), loss_func=fc.noop, cbs=[DeviceCB()], opt_func=None)\n",
    "feats2, y2 = clearn.capture_preds()"
   ]
  },
  {
   "cell_type": "code",
   "execution_count": 23,
   "id": "00f8bd36-5b1e-4257-a97c-a1ddf90a1266",
   "metadata": {},
   "outputs": [
    {
     "data": {
      "text/plain": [
       "(torch.Size([256, 512]), torch.Size([512]))"
      ]
     },
     "execution_count": 23,
     "metadata": {},
     "output_type": "execute_result"
    }
   ],
   "source": [
    "feats2.shape, y2.shape"
   ]
  },
  {
   "cell_type": "code",
   "execution_count": 24,
   "id": "ae0abae4-e124-4e06-8d9f-502b7aa45913",
   "metadata": {},
   "outputs": [
    {
     "data": {
      "text/plain": [
       "torch.Size([256, 512])"
      ]
     },
     "execution_count": 24,
     "metadata": {},
     "output_type": "execute_result"
    }
   ],
   "source": [
    "'''\n",
    "yb shouldn't be above, it's only there to provide a filler tensor of \"y values\" and even the size doesn't seem to matter\n",
    "'''\n",
    "clearn2 = TrainLearner(model, DataLoaders([], [(samples, torch.tensor([]))]), loss_func=fc.noop, cbs=[DeviceCB()], opt_func=None)\n",
    "\n",
    "feats2, _ = clearn2.capture_preds()\n",
    "feats2.shape"
   ]
  },
  {
   "cell_type": "code",
   "execution_count": 25,
   "id": "8cf50af0-cb07-4ff7-8b85-383d0667223d",
   "metadata": {},
   "outputs": [],
   "source": [
    "#|export\n",
    "def _sqrtm_newton_schulz(mat, num_iters=100):\n",
    "    mat_norm = mat.norm()\n",
    "    mat = mat.double()\n",
    "    Y = mat/mat_norm\n",
    "    n = len(mat)\n",
    "    I = torch.eye(n).to(mat)\n",
    "    Z = torch.eye(n).to(mat)\n",
    "    \n",
    "    for i in range(num_iters):\n",
    "        T = (3*I - Z@Y) / 2\n",
    "        Y = Y@T\n",
    "        Z = T@Z\n",
    "        res = Y*mat_norm.sqrt()\n",
    "        \n",
    "        if ((mat - (res @ res)).norm() / mat_norm).abs() <=1e-6:\n",
    "            break\n",
    "    \n",
    "    return res"
   ]
  },
  {
   "cell_type": "code",
   "execution_count": 26,
   "id": "075e79e4-a0b1-4a62-bce8-1a4a653946dd",
   "metadata": {},
   "outputs": [],
   "source": [
    "#|export\n",
    "def _calc_stats(feats):\n",
    "    feats = feats.squeeze()\n",
    "    return feats.mean(0), feats.T.cov()\n",
    "\n",
    "def _calc_fid(means1, covs1, means2, covs2):\n",
    "    csr = tensor(linalg.sqrtm(covs1@covs2, 256).real)\n",
    "    '''\n",
    "    return (\n",
    "        ((means1 - means2)**2).sum() +\n",
    "        covs1.trace() + covs2.trace() - 2*csr.trace()\n",
    "    ).item()\n",
    "    '''\n",
    "    return (((means1-means2)**2).sum() + covs1.trace() + covs2.trace() - 2*csr.trace()).item()"
   ]
  },
  {
   "cell_type": "code",
   "execution_count": 27,
   "id": "70d4ca5f-6968-4de2-bde7-dd39994484f1",
   "metadata": {},
   "outputs": [],
   "source": [
    "means1,covs1 = _calc_stats(feats)\n",
    "means2, covs2 = _calc_stats(feats2)"
   ]
  },
  {
   "cell_type": "code",
   "execution_count": 28,
   "id": "70d79906-a1bd-420e-8767-5bd97a0e8ffb",
   "metadata": {},
   "outputs": [
    {
     "data": {
      "text/plain": [
       "(tensor(-2.45), tensor(7.59))"
      ]
     },
     "execution_count": 28,
     "metadata": {},
     "output_type": "execute_result"
    }
   ],
   "source": [
    "covs1.min(),covs1.max()"
   ]
  },
  {
   "cell_type": "code",
   "execution_count": 29,
   "id": "c98558e3-6377-4fc3-9958-15fd9bed6789",
   "metadata": {},
   "outputs": [
    {
     "data": {
      "text/plain": [
       "(tensor(-436.39), tensor(719.03))"
      ]
     },
     "execution_count": 29,
     "metadata": {},
     "output_type": "execute_result"
    }
   ],
   "source": [
    "covsbycovs = covs1 @ covs2\n",
    "covsbycovs.min(),covsbycovs.max()"
   ]
  },
  {
   "cell_type": "code",
   "execution_count": 31,
   "id": "cac8d92b-8fa2-488e-97f6-711697b22465",
   "metadata": {},
   "outputs": [
    {
     "data": {
      "text/plain": [
       "(512, 512)"
      ]
     },
     "execution_count": 31,
     "metadata": {},
     "output_type": "execute_result"
    }
   ],
   "source": [
    "msqrt = linalg.sqrtm(covsbycovs, 256)\n",
    "msqrt.shape"
   ]
  },
  {
   "cell_type": "code",
   "execution_count": 32,
   "id": "506ca688-3773-4953-aa49-bbb52d67c77f",
   "metadata": {},
   "outputs": [],
   "source": [
    "torch.save(covsbycovs, 'models/covsbycovs18.pkl')"
   ]
  },
  {
   "cell_type": "code",
   "execution_count": null,
   "id": "2ac2f69e-6583-4bfb-8f0a-5e05334eb427",
   "metadata": {},
   "outputs": [],
   "source": [
    "[(t.mean(),t.var()) for t in [means1, covs1, means2, covs2]]"
   ]
  },
  {
   "cell_type": "code",
   "execution_count": null,
   "id": "3a01ffea-c520-4237-8145-8a6e02caf10a",
   "metadata": {},
   "outputs": [],
   "source": [
    "# still much worse but not in the 8000s anymore\n",
    "_calc_fid(means1, covs1, means2, covs2)"
   ]
  },
  {
   "cell_type": "code",
   "execution_count": null,
   "id": "52dedf65-ecf2-4868-8944-55437c9e1d3c",
   "metadata": {},
   "outputs": [],
   "source": [
    "stats_me = _calc_stats(feats2)\n",
    "stats_dataset, stats_jeremy = _calc_stats(feats), _calc_stats(feats2_jeremy)\n",
    "# Jeremy's FID, my FID\n",
    "_calc_fid(*stats_dataset, *stats_jeremy),_calc_fid(*stats_dataset, *stats_me)"
   ]
  },
  {
   "cell_type": "markdown",
   "id": "32c874a5-04a2-40d1-8746-da05afb6a696",
   "metadata": {},
   "source": [
    "# KID"
   ]
  },
  {
   "cell_type": "code",
   "execution_count": null,
   "id": "c0f1cd36-af15-42b1-a2da-08491c10ea60",
   "metadata": {},
   "outputs": [],
   "source": [
    "#|export\n",
    "def _squared_mmd(x, y):\n",
    "    def kernel(a, b):\n",
    "        return ((a@b.transpose(-2, -1) / a.shape[-1]) + 1)**3\n",
    "    \n",
    "    m, n = x.shape[-2], y.shape[-2]\n",
    "    kxx, kyy, kxy = kernel(x,x), kernel(y, y), kernel(x, y)\n",
    "    kxx_sum = kxx.sum([-1, -2]) - kxx.diagonal(0, -1, -2).sum(-1)\n",
    "    kyy_sum = kyy.sum([-1, -2]) - kyy.diagonal(0, -1, -2).sum(-1)\n",
    "    kxy_sum = kxy.sum([-1, -2])\n",
    "    \n",
    "    return (\n",
    "        kxx_sum / (m * (m-1)) +\n",
    "        kyy_sum / (n * (n-1)) -\n",
    "        kxy_sum*2 / (m * n)\n",
    "    )"
   ]
  },
  {
   "cell_type": "code",
   "execution_count": null,
   "id": "d0f02d4b-684f-4871-84f1-e97c19dbedbd",
   "metadata": {},
   "outputs": [],
   "source": [
    "#|export\n",
    "def _calc_kid(x, y, maxs=50):\n",
    "    xs, ys = x.shape[0], y.shape[0]\n",
    "    n= max(math.ceil(min(xs/maxs, ys/maxs)), 4)\n",
    "    mmd = 0.0\n",
    "    for i in range(n):\n",
    "        cur_x = x[round(i*xs / n) : round((i+1)*xs / n)]\n",
    "        cur_y = y[round(i*ys / n) : round((i+1)*ys / n)]\n",
    "        mmd += _squared_mmd(cur_x, cur_y)\n",
    "    return (mmd/n).item()"
   ]
  },
  {
   "cell_type": "code",
   "execution_count": null,
   "id": "1f85340a-afef-4986-b91a-f06ef3300c57",
   "metadata": {},
   "outputs": [],
   "source": [
    "# my KID, Jeremy's KID\n",
    "_calc_kid(feats, feats2), _calc_kid(feats, feats2_jeremy)"
   ]
  },
  {
   "cell_type": "code",
   "execution_count": null,
   "id": "21979992-e1dd-460e-8874-92bfa316cdee",
   "metadata": {},
   "outputs": [],
   "source": [
    "#|export\n",
    "class ImageEval:\n",
    "    def __init__(self, model, dls, cbs):\n",
    "        self.learn=TrainLearner(model, dls, loss_func=fc.noop, cbs=cbs, opt_func=None)\n",
    "        self.feats = self.learn.capture_preds()[0].float().cpu().squeeze()\n",
    "        self.stats = _calc_stats(self.feats)\n",
    "    \n",
    "    def get_feats(self, samples):\n",
    "        self.learn.dls = DataLoaders([], [(samples, torch.zeros((0,)))])\n",
    "        return self.learn.capture_preds()[0].float().cpu().squeeze()\n",
    "    \n",
    "    def fid(self, samples):\n",
    "        feats = self.get_feats(samples)\n",
    "        return _calc_fid(*self.stats, *_calc_stats(feats))\n",
    "    \n",
    "    def kid(self, samples):\n",
    "        feats = self.get_feats(samples)\n",
    "        return _calc_kid(self.feats, feats)"
   ]
  },
  {
   "cell_type": "code",
   "execution_count": null,
   "id": "52b08020-355c-4a48-8b32-5aef67194471",
   "metadata": {},
   "outputs": [],
   "source": [
    "ie = ImageEval(model, dls, [DeviceCB()])"
   ]
  },
  {
   "cell_type": "code",
   "execution_count": null,
   "id": "b5297b53-940b-42c0-8ae1-3fcbef5bd773",
   "metadata": {},
   "outputs": [],
   "source": [
    "ie.fid(samples)\n",
    "#ie.fid(samples_jeremy_ddpm)"
   ]
  },
  {
   "cell_type": "code",
   "execution_count": null,
   "id": "36a89e2e-8a97-48c0-8921-a9725077a158",
   "metadata": {},
   "outputs": [],
   "source": [
    "ie.feats.shape,ie.get_feats(samples).shape"
   ]
  },
  {
   "cell_type": "code",
   "execution_count": null,
   "id": "f087c793-fffd-42de-b1c4-f21119d3f03b",
   "metadata": {},
   "outputs": [],
   "source": [
    "ie.kid(samples), ie.kid(samples_jeremy_ddpm)"
   ]
  },
  {
   "cell_type": "code",
   "execution_count": null,
   "id": "9eed4ce1-7bda-4786-b577-4aa31fe7d965",
   "metadata": {},
   "outputs": [],
   "source": [
    "import nbdev; nbdev.nbdev_export()"
   ]
  }
 ],
 "metadata": {
  "kernelspec": {
   "display_name": "Python 3 (ipykernel)",
   "language": "python",
   "name": "python3"
  },
  "language_info": {
   "codemirror_mode": {
    "name": "ipython",
    "version": 3
   },
   "file_extension": ".py",
   "mimetype": "text/x-python",
   "name": "python",
   "nbconvert_exporter": "python",
   "pygments_lexer": "ipython3",
   "version": "3.9.13"
  }
 },
 "nbformat": 4,
 "nbformat_minor": 5
}
