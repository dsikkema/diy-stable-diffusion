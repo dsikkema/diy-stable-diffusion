{
 "cells": [
  {
   "cell_type": "code",
   "execution_count": 4,
   "id": "ed698ac7-da57-4617-880c-b8c61f2268bf",
   "metadata": {},
   "outputs": [],
   "source": [
    "#| default_exp utils"
   ]
  },
  {
   "cell_type": "code",
   "execution_count": 7,
   "id": "9cdb1636-a737-4481-b866-7d71ae0ed854",
   "metadata": {},
   "outputs": [],
   "source": [
    "#|export\n",
    "import datetime\n",
    "import torch"
   ]
  },
  {
   "cell_type": "code",
   "execution_count": 1,
   "id": "ec74b728-7b47-45e2-9d68-5751e1b8de7c",
   "metadata": {},
   "outputs": [],
   "source": [
    "#|export\n",
    "'''\n",
    "save obj to models/{date}-{name}-{randstr}.pkl'\n",
    "'''\n",
    "def saveobj(obj, name):\n",
    "    now = datetime.datetime.now()\n",
    "    date = now.date().isoformat()\n",
    "    randstr = hex(abs(hash(now))).replace('0x', '')[:8]\n",
    "    filepath=f'models/{date}-{name}-{randstr}.pkl'\n",
    "    torch.save(obj, filepath)\n",
    "    print(filepath)"
   ]
  },
  {
   "cell_type": "code",
   "execution_count": 3,
   "id": "10153594-4181-4f0b-9e6c-c1632c524298",
   "metadata": {},
   "outputs": [],
   "source": [
    "import nbdev; nbdev.nbdev_export()"
   ]
  }
 ],
 "metadata": {
  "kernelspec": {
   "display_name": "Python 3 (ipykernel)",
   "language": "python",
   "name": "python3"
  },
  "language_info": {
   "codemirror_mode": {
    "name": "ipython",
    "version": 3
   },
   "file_extension": ".py",
   "mimetype": "text/x-python",
   "name": "python",
   "nbconvert_exporter": "python",
   "pygments_lexer": "ipython3",
   "version": "3.9.13"
  }
 },
 "nbformat": 4,
 "nbformat_minor": 5
}
